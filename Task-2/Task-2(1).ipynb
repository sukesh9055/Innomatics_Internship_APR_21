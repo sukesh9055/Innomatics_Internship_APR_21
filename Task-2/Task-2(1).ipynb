{
 "cells": [
  {
   "cell_type": "markdown",
   "metadata": {},
   "source": [
    "12)Set .intersection() Operation\n",
    "\n"
   ]
  },
  {
   "cell_type": "code",
   "execution_count": 2,
   "metadata": {},
   "outputs": [
    {
     "name": "stdout",
     "output_type": "stream",
     "text": [
      "9\n",
      "1 2 3 4 5 6 7 8 9\n",
      "9\n",
      "10 1 2 3 11 21 55 6 8\n",
      "5\n"
     ]
    }
   ],
   "source": [
    "n1=int(input())\n",
    "s1=set(input().split())\n",
    "n2=int(input())\n",
    "s2=set(input().split())\n",
    "s3=s1.intersection(s2)\n",
    "print(len(s3))"
   ]
  },
  {
   "cell_type": "markdown",
   "metadata": {},
   "source": [
    "13)Set .difference() Operation\n",
    "\n"
   ]
  },
  {
   "cell_type": "code",
   "execution_count": 4,
   "metadata": {},
   "outputs": [
    {
     "name": "stdout",
     "output_type": "stream",
     "text": [
      "9\n",
      "1 2 3 4 5 6 7 8 9\n",
      "8\n",
      " 45 1 2 4 5 6 14 5\n",
      "4\n"
     ]
    }
   ],
   "source": [
    "n1=int(input())\n",
    "s1=set(input().split())\n",
    "n2=int(input())\n",
    "s2=set(input().split())\n",
    "s3=s1.difference(s2)\n",
    "print(len(s3))\n"
   ]
  },
  {
   "cell_type": "markdown",
   "metadata": {},
   "source": [
    "14)Set .symmetric_difference()"
   ]
  },
  {
   "cell_type": "code",
   "execution_count": 6,
   "metadata": {},
   "outputs": [
    {
     "name": "stdout",
     "output_type": "stream",
     "text": [
      "9\n",
      "1 2 3 4 5 6 7 8 9\n",
      "9\n",
      "10 1 2 3 11 21 55 6 8\n",
      "8\n"
     ]
    }
   ],
   "source": [
    "n1=int(input())\n",
    "s1=set(input().split())\n",
    "n2=int(input())\n",
    "s2=set(input().split())\n",
    "s3=s1.symmetric_difference(s2)\n",
    "print(len(s3))"
   ]
  },
  {
   "cell_type": "markdown",
   "metadata": {},
   "source": [
    "15)Set Mutations\n",
    "\n"
   ]
  },
  {
   "cell_type": "code",
   "execution_count": 7,
   "metadata": {},
   "outputs": [
    {
     "name": "stdout",
     "output_type": "stream",
     "text": [
      "16\n",
      "1 2 3 4 5 6 7 8 9 10 11 12 13 14 24 52\n",
      "4\n",
      "intersection_update 10\n",
      " 2 3 5 6 8 9 1 4 7 11\n",
      " update 2\n",
      " 55 66\n",
      "symmetric_difference_update 5\n",
      " 22 7 35 62 58\n",
      "difference_update 7\n",
      " 11 22 35 55 58 62 66\n",
      "38\n"
     ]
    }
   ],
   "source": [
    "n1 = int(input())\n",
    "s1 = set(map(int, input().split()))\n",
    "for i in range(int(input())):\n",
    "    s2, n2 = input().split()\n",
    "    if s2 == 'intersection_update':\n",
    "        s1 &= set(map(int, input().split()))\n",
    "    elif s2 == 'update':\n",
    "        s1 |= set(map(int, input().split()))\n",
    "    elif s2 == 'symmetric_difference_update':\n",
    "        s1 ^= set(map(int, input().split()))\n",
    "    else:\n",
    "        s1 -= set(map(int, input().split()))\n",
    "print (sum(s1))"
   ]
  },
  {
   "cell_type": "markdown",
   "metadata": {},
   "source": [
    "16)The Captain's Room"
   ]
  },
  {
   "cell_type": "code",
   "execution_count": 8,
   "metadata": {},
   "outputs": [
    {
     "name": "stdout",
     "output_type": "stream",
     "text": [
      "5\n",
      "1 2 3 6 5 4 4 2 5 3 6 1 6 5 3 2 4 1 2 5 1 4 3 6 8 \n",
      "8\n"
     ]
    }
   ],
   "source": [
    "from collections import Counter\n",
    "\n",
    "n = input()\n",
    "s = input().split()\n",
    "\n",
    "k = Counter(s)\n",
    "\n",
    "d = dict(k)\n",
    "\n",
    "print (min(d, key=lambda k: d[k]))"
   ]
  },
  {
   "cell_type": "markdown",
   "metadata": {},
   "source": [
    "17)Check Subset\n",
    "\n"
   ]
  },
  {
   "cell_type": "code",
   "execution_count": 9,
   "metadata": {},
   "outputs": [
    {
     "name": "stdout",
     "output_type": "stream",
     "text": [
      "3\n",
      "5\n",
      "1 2 3 5 6\n",
      "9\n",
      "9 8 5 6 3 2 1 4 7\n",
      "True\n",
      "1\n",
      "2\n",
      "5\n",
      "3 6 5 4 1\n",
      "False\n",
      "7\n",
      "1 2 3 5 6 8 9\n",
      "3\n",
      "9 8 4 \n",
      "False\n"
     ]
    }
   ],
   "source": [
    "N = int(input())\n",
    "for i in range(N):\n",
    "     n1 = int(input())\n",
    "     sa = set(input().split())\n",
    "     n2 = int(input())\n",
    "     sb = set(input().split())\n",
    "     set1 = sa.difference(sb)\n",
    "     if len(set1) == 0:\n",
    "        print(True)\n",
    "     else:\n",
    "        print(False)"
   ]
  },
  {
   "cell_type": "markdown",
   "metadata": {},
   "source": [
    "18)Check Strict Superset"
   ]
  },
  {
   "cell_type": "code",
   "execution_count": 10,
   "metadata": {},
   "outputs": [
    {
     "name": "stdout",
     "output_type": "stream",
     "text": [
      "1 2 3 4 5 6 7 8 9 10 11 12 23 45 84 78\n",
      "2\n",
      "1 2 3 4 5\n",
      "100 11 12\n",
      "False\n"
     ]
    }
   ],
   "source": [
    "SA = set(input().split())\n",
    "print(all([SA.issuperset(set(input().split())) for _ in range(int(input()))]))"
   ]
  },
  {
   "cell_type": "markdown",
   "metadata": {},
   "source": [
    "19)no idea"
   ]
  },
  {
   "cell_type": "code",
   "execution_count": 11,
   "metadata": {},
   "outputs": [
    {
     "name": "stdout",
     "output_type": "stream",
     "text": [
      "3 2\n",
      "1 5\n",
      "3\n",
      "5\n",
      "-1\n"
     ]
    }
   ],
   "source": [
    "n,m = map(int,input().split())\n",
    "N = list(map(int,input().split()))\n",
    "A = set(map(int,input().split()))\n",
    "B = set(map(int,input().split()))\n",
    "\n",
    "C = A | B\n",
    "N = (i for i in N if i in C)\n",
    "\n",
    "print(sum(1 if i in A else -1 for i in N ))"
   ]
  },
  {
   "cell_type": "code",
   "execution_count": null,
   "metadata": {},
   "outputs": [],
   "source": []
  }
 ],
 "metadata": {
  "kernelspec": {
   "display_name": "Python 3",
   "language": "python",
   "name": "python3"
  },
  "language_info": {
   "codemirror_mode": {
    "name": "ipython",
    "version": 3
   },
   "file_extension": ".py",
   "mimetype": "text/x-python",
   "name": "python",
   "nbconvert_exporter": "python",
   "pygments_lexer": "ipython3",
   "version": "3.8.5"
  }
 },
 "nbformat": 4,
 "nbformat_minor": 4
}
