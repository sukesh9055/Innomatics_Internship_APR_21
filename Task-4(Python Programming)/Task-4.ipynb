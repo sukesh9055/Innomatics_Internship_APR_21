{
 "cells": [
  {
   "cell_type": "markdown",
   "id": "354f5000",
   "metadata": {},
   "source": [
    "1)Text alignment"
   ]
  },
  {
   "cell_type": "code",
   "execution_count": 15,
   "id": "9abcafa3",
   "metadata": {},
   "outputs": [
    {
     "name": "stdout",
     "output_type": "stream",
     "text": [
      "5\n",
      "    H    \n",
      "   HHH   \n",
      "  HHHHH  \n",
      " HHHHHHH \n",
      "HHHHHHHHH\n",
      "  HHHHH               HHHHH             \n",
      "  HHHHH               HHHHH             \n",
      "  HHHHH               HHHHH             \n",
      "  HHHHH               HHHHH             \n",
      "  HHHHH               HHHHH             \n",
      "  HHHHH               HHHHH             \n",
      "  HHHHHHHHHHHHHHHHHHHHHHHHH   \n",
      "  HHHHHHHHHHHHHHHHHHHHHHHHH   \n",
      "  HHHHHHHHHHHHHHHHHHHHHHHHH   \n",
      "  HHHHH               HHHHH             \n",
      "  HHHHH               HHHHH             \n",
      "  HHHHH               HHHHH             \n",
      "  HHHHH               HHHHH             \n",
      "  HHHHH               HHHHH             \n",
      "  HHHHH               HHHHH             \n",
      "                    HHHHHHHHH \n",
      "                     HHHHHHH  \n",
      "                      HHHHH   \n",
      "                       HHH    \n",
      "                        H     \n"
     ]
    }
   ],
   "source": [
    "thickness = int(input()) #This must be an odd number\n",
    "c = 'H'\n",
    "\n",
    "#Top Cone\n",
    "for i in range(thickness):\n",
    "    print((c*i).rjust(thickness-1)+c+(c*i).ljust(thickness-1))\n",
    "\n",
    "#Top Pillars\n",
    "for i in range(thickness+1):\n",
    "    print((c*thickness).center(thickness*2)+(c*thickness).center(thickness*6))\n",
    "\n",
    "#Middle Belt\n",
    "for i in range((thickness+1)//2):\n",
    "    print((c*thickness*5).center(thickness*6))    \n",
    "\n",
    "#Bottom Pillars\n",
    "for i in range(thickness+1):\n",
    "    print((c*thickness).center(thickness*2)+(c*thickness).center(thickness*6))    \n",
    "\n",
    "#Bottom Cone\n",
    "for i in range(thickness):\n",
    "    print(((c*(thickness-i-1)).rjust(thickness)+c+(c*(thickness-i-1)).ljust(thickness)).rjust(thickness*6)) "
   ]
  },
  {
   "cell_type": "markdown",
   "id": "a8bc3d90",
   "metadata": {},
   "source": [
    "2)swap"
   ]
  },
  {
   "cell_type": "code",
   "execution_count": 13,
   "id": "573739a6",
   "metadata": {},
   "outputs": [],
   "source": [
    "def swap_case(s):\n",
    "    return s.swapcase()"
   ]
  },
  {
   "cell_type": "code",
   "execution_count": 14,
   "id": "ab596502",
   "metadata": {},
   "outputs": [
    {
     "name": "stdout",
     "output_type": "stream",
     "text": [
      "sukumar\n",
      "SUKUMAR\n"
     ]
    }
   ],
   "source": [
    "if __name__ == '__main__':\n",
    "    s = input()\n",
    "    result = swap_case(s)\n",
    "    print(result)"
   ]
  },
  {
   "cell_type": "markdown",
   "id": "c63ecd1b",
   "metadata": {},
   "source": [
    "3)String Split and Join"
   ]
  },
  {
   "cell_type": "code",
   "execution_count": 15,
   "id": "e8bce0cb",
   "metadata": {},
   "outputs": [],
   "source": [
    "def split_and_join(line):\n",
    "    a = line.split(\" \")\n",
    "    a = \"-\".join(a)\n",
    "    return a "
   ]
  },
  {
   "cell_type": "code",
   "execution_count": 16,
   "id": "f936ca38",
   "metadata": {},
   "outputs": [
    {
     "name": "stdout",
     "output_type": "stream",
     "text": [
      "this is a string   \n",
      "this-is-a-string---\n"
     ]
    }
   ],
   "source": [
    "if __name__ == '__main__':\n",
    "    line = input()\n",
    "    result = split_and_join(line)\n",
    "    print(result)"
   ]
  },
  {
   "cell_type": "markdown",
   "id": "668842da",
   "metadata": {},
   "source": [
    "4)What's Your Name"
   ]
  },
  {
   "cell_type": "code",
   "execution_count": 17,
   "id": "df438fb8",
   "metadata": {},
   "outputs": [],
   "source": [
    "def print_full_name(first, last):\n",
    "    # Write your code here\n",
    "     return  print(\"Hello\"+\" \"+first+\" \"+last+\"! You just delved into python.\")"
   ]
  },
  {
   "cell_type": "code",
   "execution_count": 18,
   "id": "f45fc44d",
   "metadata": {},
   "outputs": [
    {
     "name": "stdout",
     "output_type": "stream",
     "text": [
      "sukesh\n",
      "immadisetty\n",
      "Hello sukesh immadisetty! You just delved into python.\n"
     ]
    }
   ],
   "source": [
    "if __name__ == '__main__':\n",
    "    first_name = input()\n",
    "    last_name = input()\n",
    "    print_full_name(first_name, last_name)"
   ]
  },
  {
   "cell_type": "markdown",
   "id": "ffdbf483",
   "metadata": {},
   "source": [
    "5)mutations"
   ]
  },
  {
   "cell_type": "code",
   "execution_count": 19,
   "id": "c9c74c25",
   "metadata": {},
   "outputs": [],
   "source": [
    "def mutate_string(string, position, character):\n",
    "    l = list(string)\n",
    "    l[position] = character;\n",
    "    string = ''.join(l);\n",
    "    return string\n"
   ]
  },
  {
   "cell_type": "code",
   "execution_count": 20,
   "id": "7a883534",
   "metadata": {},
   "outputs": [
    {
     "name": "stdout",
     "output_type": "stream",
     "text": [
      "abracadabra   \n",
      "5 k\n",
      "abrackdabra   \n"
     ]
    }
   ],
   "source": [
    "if __name__ == '__main__':\n",
    "    s = input()\n",
    "    i, c = input().split()\n",
    "    s_new = mutate_string(s, int(i), c)\n",
    "    print(s_new)"
   ]
  },
  {
   "cell_type": "markdown",
   "id": "48836c77",
   "metadata": {},
   "source": [
    "6)Find a string\n",
    "\n"
   ]
  },
  {
   "cell_type": "code",
   "execution_count": 21,
   "id": "93b027e5",
   "metadata": {},
   "outputs": [],
   "source": [
    "def count_substring(string, sub_string):\n",
    "    z=0\n",
    "    for i in range(len(string)):\n",
    "        if string[i:].startswith(sub_string):\n",
    "            z =z+1\n",
    "    return z"
   ]
  },
  {
   "cell_type": "code",
   "execution_count": 22,
   "id": "fde5e901",
   "metadata": {},
   "outputs": [
    {
     "name": "stdout",
     "output_type": "stream",
     "text": [
      "ABCDCDC\n",
      "CD\n",
      "2\n"
     ]
    }
   ],
   "source": [
    "if __name__ == '__main__':\n",
    "    string = input().strip()\n",
    "    sub_string = input().strip()\n",
    "    \n",
    "    count = count_substring(string, sub_string)\n",
    "    print(count)\n",
    "    "
   ]
  },
  {
   "cell_type": "markdown",
   "id": "d4883dd3",
   "metadata": {},
   "source": [
    "7)String Validators"
   ]
  },
  {
   "cell_type": "code",
   "execution_count": 23,
   "id": "95d1be88",
   "metadata": {},
   "outputs": [
    {
     "name": "stdout",
     "output_type": "stream",
     "text": [
      "qA2\n",
      "True\n",
      "True\n",
      "True\n",
      "True\n",
      "True\n"
     ]
    }
   ],
   "source": [
    "if __name__ == '__main__':\n",
    "    s = input()\n",
    "    \n",
    "    print(any(char.isalnum() for char in s))\n",
    "    print(any(char.isalpha() for char in s))\n",
    "    print(any(char.isdigit() for char in s))\n",
    "    print(any(char.islower() for char in s))\n",
    "    print(any(char.isupper() for char in s))\n"
   ]
  },
  {
   "cell_type": "markdown",
   "id": "d61f71ce",
   "metadata": {},
   "source": [
    "8)Text Wrap"
   ]
  },
  {
   "cell_type": "code",
   "execution_count": 24,
   "id": "ffe193bb",
   "metadata": {},
   "outputs": [],
   "source": [
    "import textwrap\n",
    "\n",
    "def wrap(string, max_width):\n",
    "    for i in range(0,len(string)+1,max_width):\n",
    "        result = string[i:i+max_width]\n",
    "        if len(result) == max_width:\n",
    "            print(result)\n",
    "        else:\n",
    "            return(result)"
   ]
  },
  {
   "cell_type": "code",
   "execution_count": 25,
   "id": "2aa0e55a",
   "metadata": {},
   "outputs": [
    {
     "name": "stdout",
     "output_type": "stream",
     "text": [
      "ABCDEFGHIJKLIMNOQRSTUVWXYZ\n",
      "2\n",
      "AB\n",
      "CD\n",
      "EF\n",
      "GH\n",
      "IJ\n",
      "KL\n",
      "IM\n",
      "NO\n",
      "QR\n",
      "ST\n",
      "UV\n",
      "WX\n",
      "YZ\n",
      "\n"
     ]
    }
   ],
   "source": [
    "if __name__ == '__main__':\n",
    "    string, max_width = input(), int(input())\n",
    "    result = wrap(string, max_width)\n",
    "    print(result)"
   ]
  },
  {
   "cell_type": "markdown",
   "id": "0bdd3d32",
   "metadata": {},
   "source": [
    "9)Designer Door Mat"
   ]
  },
  {
   "cell_type": "code",
   "execution_count": 28,
   "id": "f12e9d42",
   "metadata": {},
   "outputs": [
    {
     "name": "stdout",
     "output_type": "stream",
     "text": [
      "9 5\n",
      "-.|.-\n",
      ".|..|..|.\n",
      ".|..|..|..|..|.\n",
      ".|..|..|..|..|..|..|.\n",
      "WELCOME\n",
      ".|..|..|..|..|..|..|.\n",
      ".|..|..|..|..|.\n",
      ".|..|..|.\n",
      "-.|.-\n"
     ]
    }
   ],
   "source": [
    "N, M = map(int, input().split())\n",
    "for i in range(1, N, 2):\n",
    "    print(str('.|.' * i).center(M, '-'))\n",
    "print('WELCOME'.center(M, '-'))\n",
    "for i in range(N-2, -1, -2):\n",
    "    print(str('.|.' * i).center(M, '-'))"
   ]
  },
  {
   "cell_type": "markdown",
   "id": "b788bbe6",
   "metadata": {},
   "source": [
    "10)String Formatting\n",
    "\n"
   ]
  },
  {
   "cell_type": "code",
   "execution_count": 30,
   "id": "cb96fdfc",
   "metadata": {},
   "outputs": [],
   "source": [
    "def print_formatted(number):\n",
    "    # your code goes here\n",
    "    width = len(\"{0:b}\".format(n))\n",
    "    for i in range(1,n+1):\n",
    "        print(\"{0:{width}d} {0:{width}o} {0:{width}X} {0:{width}b}\".format(i,width=width))"
   ]
  },
  {
   "cell_type": "code",
   "execution_count": 31,
   "id": "cdf1bd3a",
   "metadata": {},
   "outputs": [
    {
     "name": "stdout",
     "output_type": "stream",
     "text": [
      "5\n",
      "  1   1   1   1\n",
      "  2   2   2  10\n",
      "  3   3   3  11\n",
      "  4   4   4 100\n",
      "  5   5   5 101\n"
     ]
    }
   ],
   "source": [
    "if __name__ == '__main__':\n",
    "    n = int(input())\n",
    "    print_formatted(n)"
   ]
  },
  {
   "cell_type": "markdown",
   "id": "8e9dd0a6",
   "metadata": {},
   "source": [
    "11)Alphabet Rangoli\n",
    "\n"
   ]
  },
  {
   "cell_type": "code",
   "execution_count": 32,
   "id": "798077e1",
   "metadata": {},
   "outputs": [],
   "source": [
    "def print_rangoli(size):\n",
    "    import string\n",
    "    alphabets = string.ascii_lowercase\n",
    "    rows = (size*2) - 1\n",
    "    width = (rows*2) - 1\n",
    "    s = alphabets[:size]\n",
    "    for i in range(1, size+1):\n",
    "        r = s[::-1][:i]\n",
    "        print('-'.join(r+r[:i-1][::-1]).center(width, '-'))\n",
    "\n",
    "    for i in range(size-1, 0, -1):\n",
    "        r = s[::-1][:i]\n",
    "        print('-'.join(r+r[:i-1][::-1]).center(width, '-'))"
   ]
  },
  {
   "cell_type": "code",
   "execution_count": 33,
   "id": "25e05197",
   "metadata": {},
   "outputs": [
    {
     "name": "stdout",
     "output_type": "stream",
     "text": [
      "9\n",
      "----------------i----------------\n",
      "--------------i-h-i--------------\n",
      "------------i-h-g-h-i------------\n",
      "----------i-h-g-f-g-h-i----------\n",
      "--------i-h-g-f-e-f-g-h-i--------\n",
      "------i-h-g-f-e-d-e-f-g-h-i------\n",
      "----i-h-g-f-e-d-c-d-e-f-g-h-i----\n",
      "--i-h-g-f-e-d-c-b-c-d-e-f-g-h-i--\n",
      "i-h-g-f-e-d-c-b-a-b-c-d-e-f-g-h-i\n",
      "--i-h-g-f-e-d-c-b-c-d-e-f-g-h-i--\n",
      "----i-h-g-f-e-d-c-d-e-f-g-h-i----\n",
      "------i-h-g-f-e-d-e-f-g-h-i------\n",
      "--------i-h-g-f-e-f-g-h-i--------\n",
      "----------i-h-g-f-g-h-i----------\n",
      "------------i-h-g-h-i------------\n",
      "--------------i-h-i--------------\n",
      "----------------i----------------\n"
     ]
    }
   ],
   "source": [
    "if __name__ == '__main__':\n",
    "    n = int(input())\n",
    "    print_rangoli(n)"
   ]
  },
  {
   "cell_type": "markdown",
   "id": "5e47c1ed",
   "metadata": {},
   "source": [
    "12)Capitalize!\n",
    "\n"
   ]
  },
  {
   "cell_type": "code",
   "execution_count": 34,
   "id": "d9b5af74",
   "metadata": {},
   "outputs": [],
   "source": [
    "def solve(s):\n",
    "    words = s.split(\" \")\n",
    "    capitalized_words = [w.capitalize() for w in words]\n",
    "    return \" \".join(capitalized_words)"
   ]
  },
  {
   "cell_type": "code",
   "execution_count": 38,
   "id": "0c0b0bcc",
   "metadata": {},
   "outputs": [
    {
     "name": "stdout",
     "output_type": "stream",
     "text": [
      "fasgmkDF\n",
      "Fasgmkdf\n"
     ]
    }
   ],
   "source": [
    "if __name__ == '__main__':\n",
    "    \n",
    "\n",
    "    s = input()\n",
    "\n",
    "    result = solve(s)\n",
    "    print(result)\n",
    "\n",
    "  \n",
    "\n"
   ]
  },
  {
   "cell_type": "markdown",
   "id": "0af90d01",
   "metadata": {},
   "source": [
    "13)The Minion Game"
   ]
  },
  {
   "cell_type": "code",
   "execution_count": 39,
   "id": "b580f9fb",
   "metadata": {},
   "outputs": [],
   "source": [
    "def minion_game(string):\n",
    "    scores = {\"Kevin\": 0, \"Stuart\": 0}\n",
    "    for i in range(len(string)):\n",
    "        if string[i] in \"AEIOU\":\n",
    "            scores[\"Kevin\"]+=len(string)-i\n",
    "        else:\n",
    "            scores[\"Stuart\"]+=len(string)-i\n",
    "    if scores[\"Stuart\"] == scores[\"Kevin\"]:\n",
    "        print(\"Draw\")\n",
    "    elif scores[\"Stuart\"] > scores[\"Kevin\"]:\n",
    "        print(\"%s %s\" %(\"Stuart\", scores[\"Stuart\"]))\n",
    "    else:\n",
    "        print(\"%s %s\" %(\"Kevin\", scores[\"Kevin\"]))\n"
   ]
  },
  {
   "cell_type": "code",
   "execution_count": 40,
   "id": "b16a34db",
   "metadata": {},
   "outputs": [
    {
     "name": "stdout",
     "output_type": "stream",
     "text": [
      "ASDFGHNM\n",
      "Stuart 28\n"
     ]
    }
   ],
   "source": [
    "if __name__ == '__main__':\n",
    "    s = input()\n",
    "    minion_game(s)"
   ]
  },
  {
   "cell_type": "markdown",
   "id": "88a4d46e",
   "metadata": {},
   "source": [
    "14)Merge the Tools!\n",
    "\n"
   ]
  },
  {
   "cell_type": "code",
   "execution_count": 41,
   "id": "f557b62d",
   "metadata": {},
   "outputs": [],
   "source": [
    "from collections import OrderedDict\n",
    "\n",
    "def merge_the_tools(string, k):\n",
    "\n",
    "    strlen = len(string)\n",
    "\n",
    "    for i in range(0,strlen,k):\n",
    "\n",
    "        print(''.join(OrderedDict.fromkeys(string[i:i + k])))"
   ]
  },
  {
   "cell_type": "code",
   "execution_count": 42,
   "id": "45849ee6",
   "metadata": {},
   "outputs": [
    {
     "name": "stdout",
     "output_type": "stream",
     "text": [
      "SDFGHJKJHGFDS\n",
      "4\n",
      "SDFG\n",
      "HJK\n",
      "HGFD\n",
      "S\n"
     ]
    }
   ],
   "source": [
    "if __name__ == '__main__':\n",
    "    string, k = input(), int(input())\n",
    "    merge_the_tools(string, k)"
   ]
  },
  {
   "cell_type": "code",
   "execution_count": null,
   "id": "d6f70714",
   "metadata": {},
   "outputs": [],
   "source": []
  }
 ],
 "metadata": {
  "kernelspec": {
   "display_name": "Python 3",
   "language": "python",
   "name": "python3"
  },
  "language_info": {
   "codemirror_mode": {
    "name": "ipython",
    "version": 3
   },
   "file_extension": ".py",
   "mimetype": "text/x-python",
   "name": "python",
   "nbconvert_exporter": "python",
   "pygments_lexer": "ipython3",
   "version": "3.8.8"
  }
 },
 "nbformat": 4,
 "nbformat_minor": 5
}
