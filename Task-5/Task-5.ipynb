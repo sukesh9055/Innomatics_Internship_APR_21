{
 "cells": [
  {
   "cell_type": "markdown",
   "id": "8be8257a",
   "metadata": {},
   "source": [
    "1)detecting floating point number"
   ]
  },
  {
   "cell_type": "code",
   "execution_count": 2,
   "id": "4554326a",
   "metadata": {},
   "outputs": [
    {
     "name": "stdout",
     "output_type": "stream",
     "text": [
      "4\n",
      "4.02\n",
      "True\n",
      "-405.5\n",
      "True\n",
      "+50.4\n",
      "True\n",
      "5468546531+9\n",
      "False\n"
     ]
    }
   ],
   "source": [
    "import re\n",
    "for _ in range(int(input())):\n",
    "    print(re.search(r'^([-\\+])?\\d*\\.\\d+$', input()) is not None)"
   ]
  },
  {
   "cell_type": "markdown",
   "id": "1cc596f6",
   "metadata": {},
   "source": [
    "2)re-split"
   ]
  },
  {
   "cell_type": "code",
   "execution_count": 4,
   "id": "3e8d4799",
   "metadata": {},
   "outputs": [
    {
     "name": "stdout",
     "output_type": "stream",
     "text": [
      "400,5458,64682,6546.8455\n",
      "400\n",
      "5458\n",
      "64682\n",
      "6546\n",
      "8455\n"
     ]
    }
   ],
   "source": [
    "regex_pattern = r\"\\D+\"\n",
    "import re\n",
    "print(\"\\n\".join(re.split(regex_pattern, input())))"
   ]
  },
  {
   "cell_type": "markdown",
   "id": "50f1baa7",
   "metadata": {},
   "source": [
    "3)group()"
   ]
  },
  {
   "cell_type": "code",
   "execution_count": 7,
   "id": "c11415fb",
   "metadata": {},
   "outputs": [
    {
     "name": "stdout",
     "output_type": "stream",
     "text": [
      "....12345678910111213141516171820212223\n",
      "1\n"
     ]
    }
   ],
   "source": [
    "import re\n",
    "m = re.findall(r\"([A-Za-z0-9])\\1+\",input())\n",
    "if m:\n",
    "    print(m[0])\n",
    "else:\n",
    "    print(-1)"
   ]
  },
  {
   "cell_type": "markdown",
   "id": "317b770d",
   "metadata": {},
   "source": [
    "4)RE find all"
   ]
  },
  {
   "cell_type": "code",
   "execution_count": 8,
   "id": "5fe003f5",
   "metadata": {},
   "outputs": [
    {
     "name": "stdout",
     "output_type": "stream",
     "text": [
      "rabcdeefgyYhFjkIoomnpOeorteeeeet\n",
      "ee\n",
      "Ioo\n",
      "Oeo\n",
      "eeeee\n"
     ]
    }
   ],
   "source": [
    "import re\n",
    "v = \"aeiou\"\n",
    "c = \"qwrtypsdfghjklzxcvbnm\"\n",
    "m = re.findall(r\"(?<=[%s])([%s]{2,})[%s]\" % (c, v, c), input(), flags = re.I)\n",
    "print('\\n'.join(m or ['-1']))"
   ]
  },
  {
   "cell_type": "markdown",
   "id": "c0d30d19",
   "metadata": {},
   "source": [
    "5)RE.start"
   ]
  },
  {
   "cell_type": "code",
   "execution_count": 9,
   "id": "a0b05147",
   "metadata": {},
   "outputs": [
    {
     "name": "stdout",
     "output_type": "stream",
     "text": [
      "adaaaaaaaaaaaaaaaaaaaaaaaaaaaaaaaaaaaa\n",
      "aaaaaaaaaaaaaaaaaaa\n",
      "(2, 20)\n",
      "(3, 21)\n",
      "(4, 22)\n",
      "(5, 23)\n",
      "(6, 24)\n",
      "(7, 25)\n",
      "(8, 26)\n",
      "(9, 27)\n",
      "(10, 28)\n",
      "(11, 29)\n",
      "(12, 30)\n",
      "(13, 31)\n",
      "(14, 32)\n",
      "(15, 33)\n",
      "(16, 34)\n",
      "(17, 35)\n",
      "(18, 36)\n",
      "(19, 37)\n"
     ]
    }
   ],
   "source": [
    "S = input()\n",
    "k = input()\n",
    "import re\n",
    "pattern = re.compile(k)\n",
    "r = pattern.search(S)\n",
    "if not r: print(\"(-1, -1)\")\n",
    "while r:\n",
    "    print(\"({0}, {1})\".format(r.start(), r.end() - 1))\n",
    "    r = pattern.search(S,r.start() + 1)"
   ]
  },
  {
   "cell_type": "markdown",
   "id": "71a09c41",
   "metadata": {},
   "source": [
    "6)Validating Roman Numerals\n",
    "\n"
   ]
  },
  {
   "cell_type": "code",
   "execution_count": 1,
   "id": "b464e494",
   "metadata": {},
   "outputs": [
    {
     "name": "stdout",
     "output_type": "stream",
     "text": [
      "4554\n",
      "False\n"
     ]
    }
   ],
   "source": [
    "thousand = 'M{0,3}'\n",
    "hundred = '(C[MD]|D?C{0,3})'\n",
    "ten = '(X[CL]|L?X{0,3})'\n",
    "digit = '(I[VX]|V?I{0,3})'\n",
    "regex_pattern = r\"%s%s%s%s$\" % (thousand, hundred, ten, digit)  \n",
    "\n",
    "import re\n",
    "print(str(bool(re.match(regex_pattern, input()))))"
   ]
  },
  {
   "cell_type": "markdown",
   "id": "68e31e4b",
   "metadata": {},
   "source": [
    "7)Validating and Parsing Email Addresses"
   ]
  },
  {
   "cell_type": "code",
   "execution_count": 1,
   "id": "8e64012b",
   "metadata": {},
   "outputs": [
    {
     "name": "stdout",
     "output_type": "stream",
     "text": [
      "2\n",
      "DEXTER <dexter@hotmail.com>\n",
      "DEXTER <dexter@hotmail.com>\n",
      "VIRUS <virus!@variable.:p>\n"
     ]
    }
   ],
   "source": [
    "import re\n",
    "n = int(input())\n",
    "for _ in range(n):\n",
    "    x, y = input().split(' ')\n",
    "    m = re.match(r'<[A-Za-z](\\w|-|\\.|_)+@[A-Za-z]+\\.[A-Za-z]{1,3}>', y)\n",
    "    if m:\n",
    "        print(x,y)"
   ]
  },
  {
   "cell_type": "markdown",
   "id": "9e658d5e",
   "metadata": {},
   "source": [
    "8)HTML Parser - Part 1\n",
    "\n"
   ]
  },
  {
   "cell_type": "code",
   "execution_count": 2,
   "id": "357eed25",
   "metadata": {},
   "outputs": [
    {
     "name": "stdout",
     "output_type": "stream",
     "text": [
      "2\n",
      "<html><head><title>HTML Parser - I</title></head>\n",
      "<body data-modal-target class='1'><h1>HackerRank</h1><br /></body></html>\n",
      "Start : html\n",
      "Start : head\n",
      "Start : title\n",
      "End   : title\n",
      "End   : head\n",
      "Start : body\n",
      "-> data-modal-target > None\n",
      "-> class > 1\n",
      "Start : h1\n",
      "End   : h1\n",
      "Empty : br\n",
      "End   : body\n",
      "End   : html\n"
     ]
    }
   ],
   "source": [
    "from html.parser import HTMLParser\n",
    "class MyHTMLParser(HTMLParser):\n",
    "    def handle_starttag(self, tag, attrs):        \n",
    "        print ('Start :',tag)\n",
    "        for ele in attrs:\n",
    "            print ('->',ele[0],'>',ele[1])\n",
    "            \n",
    "    def handle_endtag(self, tag):\n",
    "        print ('End   :',tag)\n",
    "        \n",
    "    def handle_startendtag(self, tag, attrs):\n",
    "        print ('Empty :',tag)\n",
    "        for ele in attrs:\n",
    "            print ('->',ele[0],'>',ele[1])\n",
    "            \n",
    "MyParser = MyHTMLParser()\n",
    "MyParser.feed(''.join([input().strip() for _ in range(int(input()))]))"
   ]
  },
  {
   "cell_type": "markdown",
   "id": "13f81688",
   "metadata": {},
   "source": [
    "9)HTML Parser - Part 2\n",
    "\n"
   ]
  },
  {
   "cell_type": "code",
   "execution_count": 3,
   "id": "7d6bab0f",
   "metadata": {},
   "outputs": [
    {
     "name": "stdout",
     "output_type": "stream",
     "text": [
      "4\n",
      "<!--[if IE 9]>IE9-specific content\n",
      "<![endif]-->\n",
      "<div> Welcome </div>\n",
      "<!--[if IE 9]>IE9-specific content<![endif]-->\n",
      ">>> Multi-line Comment\n",
      "[if IE 9]>IE9-specific content\n",
      "<![endif]\n",
      ">>> Data\n",
      " Welcome \n",
      ">>> Single-line Comment\n",
      "[if IE 9]>IE9-specific content<![endif]\n"
     ]
    }
   ],
   "source": [
    "from html.parser import HTMLParser\n",
    "html = \"\"\n",
    "class MyHTMLParser(HTMLParser):\n",
    "    def handle_comment(self,data):\n",
    "        if('\\n' in data):\n",
    "            print(\">>> Multi-line Comment\")\n",
    "        else:\n",
    "            print(\">>> Single-line Comment\")\n",
    "        print(data)\n",
    "    def handle_data(self,data):\n",
    "        if(data != '\\n'):\n",
    "            print(\">>> Data\")\n",
    "            print(data)\n",
    "for i in range(int(input())):\n",
    "    html += input().rstrip()\n",
    "    html += '\\n'\n",
    "#print(html)    \n",
    "parser = MyHTMLParser()\n",
    "parser.feed(html)\n",
    "parser.close()"
   ]
  },
  {
   "cell_type": "markdown",
   "id": "66a5e6fa",
   "metadata": {},
   "source": [
    "10)hex"
   ]
  },
  {
   "cell_type": "code",
   "execution_count": 4,
   "id": "1fbd7b74",
   "metadata": {},
   "outputs": [
    {
     "name": "stdout",
     "output_type": "stream",
     "text": [
      "11\n",
      "#BED\n",
      "{\n",
      "color: #FfFdF8; background-color:#aef;\n",
      "#FfFdF8\n",
      "#aef\n",
      "font-size: 123px;\n",
      "background: -webkit-linear-gradient(top, #f9f9f9, #fff);\n",
      "#f9f9f9\n",
      "#fff\n",
      "}\n",
      "#Cab\n",
      "{\n",
      "background-color: #ABC;\n",
      "#ABC\n",
      "border: 2px dashed #fff;\n",
      "#fff\n",
      "}\n"
     ]
    }
   ],
   "source": [
    "import re\n",
    "N=int(input())\n",
    "\n",
    "for i in range(0,N):\n",
    "    s=input()\n",
    "\n",
    "    x=s.split()\n",
    "\n",
    "    if len(x)>1  and  '{' not in x:\n",
    "        x=re.findall(r'#[a-fA-F0-9]{3,6}',s)\n",
    "        [print(i) for  i in x]"
   ]
  },
  {
   "cell_type": "markdown",
   "id": "6f4807ac",
   "metadata": {},
   "source": [
    "11)Detect HTML Tags, Attributes and Attribute Values\n",
    "\n"
   ]
  },
  {
   "cell_type": "code",
   "execution_count": 5,
   "id": "15e7676e",
   "metadata": {},
   "outputs": [
    {
     "name": "stdout",
     "output_type": "stream",
     "text": [
      "3\n",
      "<head>\n",
      "head\n",
      "<title>HTML</title>\n",
      "title\n",
      "<object type=\"application/x-flash\" \n"
     ]
    }
   ],
   "source": [
    "from html.parser import HTMLParser\n",
    "class Pythonist2Parser(HTMLParser):\n",
    "    def handle_starttag(self, tag, attrs):\n",
    "        print(tag)\n",
    "        for attr, value in attrs:\n",
    "            print('->', attr, '>', value)\n",
    "parser = Pythonist2Parser()\n",
    "for _ in range(int(input())):\n",
    "    parser.feed(input())\n",
    "parser.close()"
   ]
  },
  {
   "cell_type": "markdown",
   "id": "2dd63ae1",
   "metadata": {},
   "source": [
    "12)Validating UID\n",
    "\n"
   ]
  },
  {
   "cell_type": "code",
   "execution_count": 1,
   "id": "661a5e8b",
   "metadata": {},
   "outputs": [
    {
     "name": "stdout",
     "output_type": "stream",
     "text": [
      "1\n",
      "B1CDEF2354\n",
      "Valid\n"
     ]
    }
   ],
   "source": [
    "import re\n",
    "\n",
    "for _ in range(int(input())):\n",
    "    u = ''.join(sorted(input()))\n",
    "    try:\n",
    "        assert re.search(r'[A-Z]{2}', u)\n",
    "        assert re.search(r'\\d\\d\\d', u)\n",
    "        assert not re.search(r'[^a-zA-Z0-9]', u)\n",
    "        assert not re.search(r'(.)\\1', u)\n",
    "        assert len(u) == 10\n",
    "    except:\n",
    "        print('Invalid')\n",
    "    else:\n",
    "        print('Valid')\n"
   ]
  },
  {
   "cell_type": "markdown",
   "id": "8e73711b",
   "metadata": {},
   "source": [
    "13)Regex Substitution\n",
    "\n"
   ]
  },
  {
   "cell_type": "code",
   "execution_count": 2,
   "id": "fb25dbde",
   "metadata": {},
   "outputs": [
    {
     "name": "stdout",
     "output_type": "stream",
     "text": [
      "2\n",
      "\n"
     ]
    }
   ],
   "source": [
    "from sys import stdin\n",
    "import re\n",
    "n = input()\n",
    "print(re.sub( r\"(?<= )(&&|\\|\\|)(?= )\", lambda x: \"and\" if x.group()==\"&&\" else \"or\", stdin.read()))"
   ]
  },
  {
   "cell_type": "markdown",
   "id": "8dbc3f4f",
   "metadata": {},
   "source": [
    "14)validating credit card numbers"
   ]
  },
  {
   "cell_type": "code",
   "execution_count": 3,
   "id": "ddeed6cd",
   "metadata": {},
   "outputs": [
    {
     "name": "stdout",
     "output_type": "stream",
     "text": [
      "2\n",
      "65451324652132462165\n",
      "Invalid\n",
      "65265416516+5+623565\n",
      "Invalid\n"
     ]
    }
   ],
   "source": [
    "import re\n",
    "TESTER = re.compile(\n",
    "    r\"^\"\n",
    "    r\"(?!.*(\\d)(-?\\1){3})\"\n",
    "    r\"[456]\"\n",
    "    r\"\\d{3}\"\n",
    "    r\"(?:-?\\d{4}){3}\"\n",
    "    r\"$\")\n",
    "for _ in range(int(input().strip())):\n",
    "    print(\"Valid\" if TESTER.search(input().strip()) else \"Invalid\")"
   ]
  },
  {
   "cell_type": "markdown",
   "id": "4c99303b",
   "metadata": {},
   "source": [
    "15)Validating Credit Card Numbers"
   ]
  },
  {
   "cell_type": "code",
   "execution_count": 5,
   "id": "7b3064b5",
   "metadata": {},
   "outputs": [
    {
     "name": "stdout",
     "output_type": "stream",
     "text": [
      "2\n",
      "5654654986645965\n",
      "Valid\n",
      "6546549865468546\n",
      "Valid\n"
     ]
    }
   ],
   "source": [
    "import re\n",
    "TESTER = re.compile(\n",
    "    r\"^\"\n",
    "    r\"(?!.*(\\d)(-?\\1){3})\"\n",
    "    r\"[456]\"\n",
    "    r\"\\d{3}\"\n",
    "    r\"(?:-?\\d{4}){3}\"\n",
    "    r\"$\")\n",
    "for _ in range(int(input().strip())):\n",
    "    print(\"Valid\" if TESTER.search(input().strip()) else \"Invalid\")"
   ]
  },
  {
   "cell_type": "markdown",
   "id": "ed2aad69",
   "metadata": {},
   "source": [
    "16)"
   ]
  },
  {
   "cell_type": "code",
   "execution_count": 6,
   "id": "43835863",
   "metadata": {},
   "outputs": [
    {
     "name": "stdout",
     "output_type": "stream",
     "text": [
      "1110000\n",
      "False\n"
     ]
    }
   ],
   "source": [
    "def inn(p):\n",
    "    return 100000 <= int(p) <= 999999\n",
    "\n",
    "\n",
    "def imm(p):\n",
    "    l = []\n",
    "    for i in range(len(p) - 2):\n",
    "        l.append(p[i] != p[i + 2])\n",
    "\n",
    "    return all(l)\n",
    "\n",
    "\n",
    "def is_valid(p):\n",
    "    return (p.isdigit() and inn(p)) and (p != \"110000\")# and imm(p)\n",
    "\n",
    "\n",
    "def main():\n",
    "    p = input()\n",
    "    print(is_valid(p))\n",
    "    \n",
    "    \n",
    "main()"
   ]
  },
  {
   "cell_type": "markdown",
   "id": "3c651142",
   "metadata": {},
   "source": [
    "17)matrix"
   ]
  },
  {
   "cell_type": "code",
   "execution_count": 7,
   "id": "9c37b8a2",
   "metadata": {},
   "outputs": [
    {
     "name": "stdout",
     "output_type": "stream",
     "text": [
      "2 3\n",
      "Tsi\n",
      "h%x\n",
      "Ths ix\n"
     ]
    }
   ],
   "source": [
    "import math\n",
    "import os\n",
    "import random\n",
    "import re\n",
    "import sys\n",
    "\n",
    "\n",
    "first_multiple_input = input().rstrip().split()\n",
    "\n",
    "n = int(first_multiple_input[0])\n",
    "\n",
    "m = int(first_multiple_input[1])\n",
    "\n",
    "matrix = []\n",
    "\n",
    "for _ in range(n):\n",
    "    matrix_item = input()\n",
    "    matrix.append(matrix_item)\n",
    "\n",
    "encoded_string = \"\".join([matrix[j][i] for i in range(m) for j in range(n)])\n",
    "pat = r'(?<=[a-zA-Z0-9])[^a-zA-Z0-9]+(?=[a-zA-Z0-9])'\n",
    "print(re.sub(pat,' ',encoded_string))"
   ]
  },
  {
   "cell_type": "code",
   "execution_count": null,
   "id": "19320819",
   "metadata": {},
   "outputs": [],
   "source": []
  }
 ],
 "metadata": {
  "kernelspec": {
   "display_name": "Python 3",
   "language": "python",
   "name": "python3"
  },
  "language_info": {
   "codemirror_mode": {
    "name": "ipython",
    "version": 3
   },
   "file_extension": ".py",
   "mimetype": "text/x-python",
   "name": "python",
   "nbconvert_exporter": "python",
   "pygments_lexer": "ipython3",
   "version": "3.8.8"
  }
 },
 "nbformat": 4,
 "nbformat_minor": 5
}
