{
 "cells": [
  {
   "cell_type": "markdown",
   "id": "5f325e8f",
   "metadata": {},
   "source": [
    "Arrays\n",
    "\n"
   ]
  },
  {
   "cell_type": "code",
   "execution_count": 3,
   "id": "cf4a8501",
   "metadata": {},
   "outputs": [
    {
     "name": "stdout",
     "output_type": "stream",
     "text": [
      "1 5 4 6 4 5 2 2\n",
      "[2. 2. 5. 4. 6. 4. 5. 1.]\n"
     ]
    }
   ],
   "source": [
    "import numpy\n",
    "\n",
    "def arrays(arr):\n",
    "    \n",
    "    return(numpy.array(arr[::-1], float))\n",
    "\n",
    "\n",
    "arr = input().strip().split(' ')\n",
    "result = arrays(arr)\n",
    "print(result)"
   ]
  },
  {
   "cell_type": "markdown",
   "id": "ac94b1ed",
   "metadata": {},
   "source": [
    "Shape and Reshape"
   ]
  },
  {
   "cell_type": "code",
   "execution_count": 5,
   "id": "79fee4c7",
   "metadata": {},
   "outputs": [
    {
     "name": "stdout",
     "output_type": "stream",
     "text": [
      "1 2 3 4 5 6 9 8 7\n",
      "[[1 2 3]\n",
      " [4 5 6]\n",
      " [9 8 7]]\n"
     ]
    }
   ],
   "source": [
    "import numpy as np\n",
    "print(np.array(input().split(),int).reshape(3,3))"
   ]
  },
  {
   "cell_type": "markdown",
   "id": "78ad44fe",
   "metadata": {},
   "source": [
    "Transpose and Flatten\n",
    "\n"
   ]
  },
  {
   "cell_type": "code",
   "execution_count": 10,
   "id": "692acc01",
   "metadata": {},
   "outputs": [
    {
     "name": "stdout",
     "output_type": "stream",
     "text": [
      "1 2\n",
      " 4 5\n",
      "[[4]\n",
      " [5]]\n",
      "[4 5]\n"
     ]
    }
   ],
   "source": [
    "import numpy as np\n",
    "n, m = map(int, input().split())\n",
    "array = np.array([input().strip().split() for _ in range(n)], int)\n",
    "print (array.transpose())\n",
    "print (array.flatten())"
   ]
  },
  {
   "cell_type": "markdown",
   "id": "9ef63f0e",
   "metadata": {},
   "source": [
    "Concatenete"
   ]
  },
  {
   "cell_type": "code",
   "execution_count": 11,
   "id": "3fb359d2",
   "metadata": {},
   "outputs": [
    {
     "name": "stdout",
     "output_type": "stream",
     "text": [
      "1 2 3\n",
      "1 2 \n",
      " 1 5\n",
      "1 5\n",
      "[[1 2]\n",
      " [1 5]\n",
      " [1 5]]\n"
     ]
    }
   ],
   "source": [
    "import numpy as np\n",
    "a, b, c = map(int,input().split())\n",
    "arrA = np.array([input().split() for _ in range(a)],int)\n",
    "arrB = np.array([input().split() for _ in range(b)],int)\n",
    "print(np.concatenate((arrA, arrB), axis = 0))"
   ]
  },
  {
   "cell_type": "markdown",
   "id": "ac0e5c14",
   "metadata": {},
   "source": [
    "Zeroes and ones"
   ]
  },
  {
   "cell_type": "code",
   "execution_count": 7,
   "id": "179a4178",
   "metadata": {},
   "outputs": [
    {
     "name": "stdout",
     "output_type": "stream",
     "text": [
      "3 3 3\n",
      "[[[1 1 1]\n",
      "  [1 1 1]\n",
      "  [1 1 1]]\n",
      "\n",
      " [[1 1 1]\n",
      "  [1 1 1]\n",
      "  [1 1 1]]\n",
      "\n",
      " [[1 1 1]\n",
      "  [1 1 1]\n",
      "  [1 1 1]]]\n",
      "[[[0 0 0]\n",
      "  [0 0 0]\n",
      "  [0 0 0]]\n",
      "\n",
      " [[0 0 0]\n",
      "  [0 0 0]\n",
      "  [0 0 0]]\n",
      "\n",
      " [[0 0 0]\n",
      "  [0 0 0]\n",
      "  [0 0 0]]]\n"
     ]
    }
   ],
   "source": [
    "import numpy as np\n",
    "a = tuple(map(int,input().split()))\n",
    "print(np.ones(a,int))\n",
    "print(np.zeros(a,int))"
   ]
  },
  {
   "cell_type": "markdown",
   "id": "fff12245",
   "metadata": {},
   "source": [
    "Eye and identity"
   ]
  },
  {
   "cell_type": "code",
   "execution_count": 8,
   "id": "691202e6",
   "metadata": {},
   "outputs": [
    {
     "name": "stdout",
     "output_type": "stream",
     "text": [
      "2 2\n",
      "[[ 1.  0.]\n",
      " [ 0.  1.]]\n"
     ]
    }
   ],
   "source": [
    "import numpy as np\n",
    "print(str(np.eye(*map(int,input().split()))).replace('1',' 1').replace('0',' 0'))"
   ]
  },
  {
   "cell_type": "markdown",
   "id": "9a5f2f2f",
   "metadata": {},
   "source": [
    "Array Maths"
   ]
  },
  {
   "cell_type": "code",
   "execution_count": 15,
   "id": "71cdc5e7",
   "metadata": {},
   "outputs": [
    {
     "name": "stdout",
     "output_type": "stream",
     "text": [
      "1 2\n",
      " 4 5\n",
      "5 6\n",
      "[[ 9 11]]\n",
      "[[-1 -1]]\n",
      "[[20 30]]\n",
      "[[0.8        0.83333333]]\n",
      "[[4 5]]\n",
      "[[ 1024 15625]]\n"
     ]
    }
   ],
   "source": [
    "import numpy as np\n",
    "n, m = map(int, input().split())\n",
    "a, b = (np.array([input().split() for _ in range(n)], dtype=int) for _ in range(2))\n",
    "print(a+b)\n",
    "print(a-b)\n",
    "print(a*b)\n",
    "print(a/b)\n",
    "print(a%b)\n",
    "print(a**b)"
   ]
  },
  {
   "cell_type": "markdown",
   "id": "cd98504b",
   "metadata": {},
   "source": [
    "Floor,celit and rint"
   ]
  },
  {
   "cell_type": "code",
   "execution_count": 4,
   "id": "39b61ac1",
   "metadata": {},
   "outputs": [
    {
     "name": "stdout",
     "output_type": "stream",
     "text": [
      "1.5 6 4 89 2.69 35.5 \n",
      "[  1.   6.   4.  89.   2.  35.]\n",
      "[  2.   6.   4.  89.   3.  36.]\n",
      "[  2.   6.   4.  89.   3.  36.]\n"
     ]
    }
   ],
   "source": [
    "import numpy as np\n",
    "np.set_printoptions(sign=' ')\n",
    "m = np.array(input().split(),float)\n",
    "print(np.floor(m))\n",
    "print(np.ceil(m))\n",
    "print(np.rint(m))"
   ]
  },
  {
   "cell_type": "markdown",
   "id": "13417cd5",
   "metadata": {},
   "source": [
    "SUM and proud"
   ]
  },
  {
   "cell_type": "code",
   "execution_count": 1,
   "id": "2869bbfc",
   "metadata": {},
   "outputs": [
    {
     "name": "stdout",
     "output_type": "stream",
     "text": [
      "2 2\n",
      "1 2 \n",
      "3 4\n",
      "24\n"
     ]
    }
   ],
   "source": [
    "import numpy as np\n",
    "N, M = map(int, input().split())\n",
    "A = np.array([input().split() for _ in range(N)],int) \n",
    "print(np.prod(np.sum(A,axis=0), axis=0))"
   ]
  },
  {
   "cell_type": "markdown",
   "id": "5a2765d6",
   "metadata": {},
   "source": [
    "min and max"
   ]
  },
  {
   "cell_type": "code",
   "execution_count": 10,
   "id": "4234dce4",
   "metadata": {},
   "outputs": [
    {
     "name": "stdout",
     "output_type": "stream",
     "text": [
      "4 2\n",
      "2 5\n",
      "4 6\n",
      "7 98\n",
      "4 5\n",
      "7\n"
     ]
    }
   ],
   "source": [
    "import numpy as np\n",
    "\n",
    "n,m=map(int,input().split())\n",
    "\n",
    "lista=[list(map(int,input().split())) for i in range(n)]\n",
    "\n",
    "ar=np.array(lista)\n",
    "\n",
    "print(max(np.min(ar,axis=1)))"
   ]
  },
  {
   "cell_type": "markdown",
   "id": "55f4add1",
   "metadata": {},
   "source": [
    "Mean,Var,STD"
   ]
  },
  {
   "cell_type": "code",
   "execution_count": 2,
   "id": "ce0b44ba",
   "metadata": {},
   "outputs": [
    {
     "name": "stdout",
     "output_type": "stream",
     "text": [
      "2 6\n",
      "4 8\n",
      "7 9\n",
      "[6. 8.]\n",
      "[2.25 0.25]\n",
      "1.8708286933869707\n"
     ]
    }
   ],
   "source": [
    "import numpy as np\n",
    "N,M = map(int,input().split())\n",
    "A = np.array([input().split() for _ in range(N)], int)\n",
    "print(A.mean(axis=1))\n",
    "print(A.var(axis=0))\n",
    "print(A.std())\n"
   ]
  },
  {
   "cell_type": "markdown",
   "id": "7a2a86a7",
   "metadata": {},
   "source": [
    "Dot and Cross"
   ]
  },
  {
   "cell_type": "code",
   "execution_count": 5,
   "id": "6ddf6ab5",
   "metadata": {},
   "outputs": [
    {
     "name": "stdout",
     "output_type": "stream",
     "text": [
      "2\n",
      "4 5\n",
      "8 7\n",
      "4 6\n",
      "9 7\n",
      "[[61 59]\n",
      " [95 97]]\n"
     ]
    }
   ],
   "source": [
    "n=int(input())\n",
    "a = np.array([input().split() for _ in range(n)],int)\n",
    "b = np.array([input().split() for _ in range(n)],int)\n",
    "m = np.dot(a,b)\n",
    "print (m)"
   ]
  },
  {
   "cell_type": "markdown",
   "id": "fc04f405",
   "metadata": {},
   "source": [
    "inner and outer"
   ]
  },
  {
   "cell_type": "code",
   "execution_count": 7,
   "id": "ee25573a",
   "metadata": {},
   "outputs": [
    {
     "name": "stdout",
     "output_type": "stream",
     "text": [
      "0 1\n",
      "4 5\n",
      "5\n",
      "[[0 0]\n",
      " [4 5]]\n"
     ]
    }
   ],
   "source": [
    "import numpy as np\n",
    "A = np.array(input().split(), int)\n",
    "B = np.array(input().split(), int)\n",
    "print(np.inner(A,B))\n",
    "print(np.outer(A,B))\n",
    "\n",
    "\n",
    "\n"
   ]
  },
  {
   "cell_type": "markdown",
   "id": "b10f137f",
   "metadata": {},
   "source": [
    "Polynamials"
   ]
  },
  {
   "cell_type": "code",
   "execution_count": 8,
   "id": "49112e9e",
   "metadata": {},
   "outputs": [
    {
     "name": "stdout",
     "output_type": "stream",
     "text": [
      "1.2 1 3\n",
      "5\n",
      "38.0\n"
     ]
    }
   ],
   "source": [
    "import numpy as np\n",
    "n = list(map(float,input().split()))\n",
    "m = input()\n",
    "print(np.polyval(n,int(m)))"
   ]
  },
  {
   "cell_type": "markdown",
   "id": "b8c3f20c",
   "metadata": {},
   "source": [
    "Algebra"
   ]
  },
  {
   "cell_type": "code",
   "execution_count": 12,
   "id": "8afd00e7",
   "metadata": {},
   "outputs": [
    {
     "name": "stdout",
     "output_type": "stream",
     "text": [
      "2 \n",
      "4 8\n",
      "9 8\n",
      "-40.0\n"
     ]
    }
   ],
   "source": [
    "n=int(input())\n",
    "A = np.array([input().split() for _ in range(n)],int)\n",
    "print(round(np.linalg.det(A),2))"
   ]
  },
  {
   "cell_type": "code",
   "execution_count": null,
   "id": "1520f4f3",
   "metadata": {},
   "outputs": [],
   "source": []
  }
 ],
 "metadata": {
  "kernelspec": {
   "display_name": "Python 3",
   "language": "python",
   "name": "python3"
  },
  "language_info": {
   "codemirror_mode": {
    "name": "ipython",
    "version": 3
   },
   "file_extension": ".py",
   "mimetype": "text/x-python",
   "name": "python",
   "nbconvert_exporter": "python",
   "pygments_lexer": "ipython3",
   "version": "3.8.8"
  }
 },
 "nbformat": 4,
 "nbformat_minor": 5
}
