{
 "cells": [
  {
   "cell_type": "markdown",
   "id": "b7b953d5",
   "metadata": {},
   "source": [
    "$ LIBRARIES $"
   ]
  },
  {
   "cell_type": "code",
   "execution_count": 1,
   "id": "5ff96527",
   "metadata": {},
   "outputs": [],
   "source": [
    "import numpy as np\n",
    "from scipy.stats import norm\n",
    "import matplotlib.pyplot as plt\n",
    "import pandas as pd\n",
    "import seaborn as sns\n",
    "from scipy import stats\n",
    "from scipy.stats import boxcox "
   ]
  },
  {
   "cell_type": "code",
   "execution_count": 2,
   "id": "927bb975",
   "metadata": {},
   "outputs": [],
   "source": [
    "df = pd.read_csv('innomatics.csv')"
   ]
  },
  {
   "cell_type": "code",
   "execution_count": 3,
   "id": "c2d6c23d",
   "metadata": {},
   "outputs": [
    {
     "data": {
      "text/html": [
       "<div>\n",
       "<style scoped>\n",
       "    .dataframe tbody tr th:only-of-type {\n",
       "        vertical-align: middle;\n",
       "    }\n",
       "\n",
       "    .dataframe tbody tr th {\n",
       "        vertical-align: top;\n",
       "    }\n",
       "\n",
       "    .dataframe thead th {\n",
       "        text-align: right;\n",
       "    }\n",
       "</style>\n",
       "<table border=\"1\" class=\"dataframe\">\n",
       "  <thead>\n",
       "    <tr style=\"text-align: right;\">\n",
       "      <th></th>\n",
       "      <th>Mthly_HH_Income</th>\n",
       "      <th>Mthly_HH_Expense</th>\n",
       "      <th>No_of_Fly_Members</th>\n",
       "      <th>Emi_or_Rent_Amt</th>\n",
       "      <th>Annual_HH_Income</th>\n",
       "      <th>Highest_Qualified_Member</th>\n",
       "      <th>No_of_Earning_Members</th>\n",
       "    </tr>\n",
       "  </thead>\n",
       "  <tbody>\n",
       "    <tr>\n",
       "      <th>0</th>\n",
       "      <td>5000</td>\n",
       "      <td>8000</td>\n",
       "      <td>3</td>\n",
       "      <td>2000</td>\n",
       "      <td>64200</td>\n",
       "      <td>Under-Graduate</td>\n",
       "      <td>1</td>\n",
       "    </tr>\n",
       "    <tr>\n",
       "      <th>1</th>\n",
       "      <td>6000</td>\n",
       "      <td>7000</td>\n",
       "      <td>2</td>\n",
       "      <td>3000</td>\n",
       "      <td>79920</td>\n",
       "      <td>Illiterate</td>\n",
       "      <td>1</td>\n",
       "    </tr>\n",
       "    <tr>\n",
       "      <th>2</th>\n",
       "      <td>10000</td>\n",
       "      <td>4500</td>\n",
       "      <td>2</td>\n",
       "      <td>0</td>\n",
       "      <td>112800</td>\n",
       "      <td>Under-Graduate</td>\n",
       "      <td>1</td>\n",
       "    </tr>\n",
       "    <tr>\n",
       "      <th>3</th>\n",
       "      <td>10000</td>\n",
       "      <td>2000</td>\n",
       "      <td>1</td>\n",
       "      <td>0</td>\n",
       "      <td>97200</td>\n",
       "      <td>Illiterate</td>\n",
       "      <td>1</td>\n",
       "    </tr>\n",
       "    <tr>\n",
       "      <th>4</th>\n",
       "      <td>12500</td>\n",
       "      <td>12000</td>\n",
       "      <td>2</td>\n",
       "      <td>3000</td>\n",
       "      <td>147000</td>\n",
       "      <td>Graduate</td>\n",
       "      <td>1</td>\n",
       "    </tr>\n",
       "  </tbody>\n",
       "</table>\n",
       "</div>"
      ],
      "text/plain": [
       "   Mthly_HH_Income  Mthly_HH_Expense  No_of_Fly_Members  Emi_or_Rent_Amt  \\\n",
       "0             5000              8000                  3             2000   \n",
       "1             6000              7000                  2             3000   \n",
       "2            10000              4500                  2                0   \n",
       "3            10000              2000                  1                0   \n",
       "4            12500             12000                  2             3000   \n",
       "\n",
       "   Annual_HH_Income Highest_Qualified_Member  No_of_Earning_Members  \n",
       "0             64200           Under-Graduate                      1  \n",
       "1             79920               Illiterate                      1  \n",
       "2            112800           Under-Graduate                      1  \n",
       "3             97200               Illiterate                      1  \n",
       "4            147000                 Graduate                      1  "
      ]
     },
     "execution_count": 3,
     "metadata": {},
     "output_type": "execute_result"
    }
   ],
   "source": [
    "df.head(5)\n"
   ]
  },
  {
   "cell_type": "markdown",
   "id": "59c94f24",
   "metadata": {},
   "source": [
    "**Calculating Mean and Standard Deviation using Describe Funcion**"
   ]
  },
  {
   "cell_type": "markdown",
   "id": "12c8d859",
   "metadata": {},
   "source": [
    "*$Mean$*\n",
    "\n",
    "\n",
    "*Mean* = Sum of given values/Total number of values"
   ]
  },
  {
   "cell_type": "markdown",
   "id": "4e16784a",
   "metadata": {},
   "source": [
    "<img src=\"mean.png\" alt=\"Italian Trulli\">"
   ]
  },
  {
   "cell_type": "markdown",
   "id": "d37032ba",
   "metadata": {},
   "source": [
    "$Standard Deviation$\n",
    "\n",
    "One major disadvantage of MAD is that it violates the algebraic principle by ignoring the + and – signs while calculating the deviations of the different items from the central value of a dataset. To overcome this, we can calculate a measure by squaring the deviations from mean, this measure is called variance. Square root of this variance is known as standard deviation. Standard deviation can be mathematically calculated as follows"
   ]
  },
  {
   "cell_type": "markdown",
   "id": "b3a4fd89",
   "metadata": {},
   "source": [
    "<img src=\"std.png\" alt=\"Italian Trulli\">"
   ]
  },
  {
   "cell_type": "code",
   "execution_count": 4,
   "id": "ce21e308",
   "metadata": {
    "scrolled": false
   },
   "outputs": [
    {
     "data": {
      "text/html": [
       "<div>\n",
       "<style scoped>\n",
       "    .dataframe tbody tr th:only-of-type {\n",
       "        vertical-align: middle;\n",
       "    }\n",
       "\n",
       "    .dataframe tbody tr th {\n",
       "        vertical-align: top;\n",
       "    }\n",
       "\n",
       "    .dataframe thead th {\n",
       "        text-align: right;\n",
       "    }\n",
       "</style>\n",
       "<table border=\"1\" class=\"dataframe\">\n",
       "  <thead>\n",
       "    <tr style=\"text-align: right;\">\n",
       "      <th></th>\n",
       "      <th>Mthly_HH_Income</th>\n",
       "      <th>Mthly_HH_Expense</th>\n",
       "      <th>No_of_Fly_Members</th>\n",
       "      <th>Emi_or_Rent_Amt</th>\n",
       "      <th>Annual_HH_Income</th>\n",
       "      <th>No_of_Earning_Members</th>\n",
       "    </tr>\n",
       "  </thead>\n",
       "  <tbody>\n",
       "    <tr>\n",
       "      <th>count</th>\n",
       "      <td>50.000000</td>\n",
       "      <td>50.000000</td>\n",
       "      <td>50.000000</td>\n",
       "      <td>50.000000</td>\n",
       "      <td>5.000000e+01</td>\n",
       "      <td>50.000000</td>\n",
       "    </tr>\n",
       "    <tr>\n",
       "      <th>mean</th>\n",
       "      <td>41558.000000</td>\n",
       "      <td>18818.000000</td>\n",
       "      <td>4.060000</td>\n",
       "      <td>3060.000000</td>\n",
       "      <td>4.900190e+05</td>\n",
       "      <td>1.460000</td>\n",
       "    </tr>\n",
       "    <tr>\n",
       "      <th>std</th>\n",
       "      <td>26097.908979</td>\n",
       "      <td>12090.216824</td>\n",
       "      <td>1.517382</td>\n",
       "      <td>6241.434948</td>\n",
       "      <td>3.201358e+05</td>\n",
       "      <td>0.734291</td>\n",
       "    </tr>\n",
       "    <tr>\n",
       "      <th>min</th>\n",
       "      <td>5000.000000</td>\n",
       "      <td>2000.000000</td>\n",
       "      <td>1.000000</td>\n",
       "      <td>0.000000</td>\n",
       "      <td>6.420000e+04</td>\n",
       "      <td>1.000000</td>\n",
       "    </tr>\n",
       "    <tr>\n",
       "      <th>25%</th>\n",
       "      <td>23550.000000</td>\n",
       "      <td>10000.000000</td>\n",
       "      <td>3.000000</td>\n",
       "      <td>0.000000</td>\n",
       "      <td>2.587500e+05</td>\n",
       "      <td>1.000000</td>\n",
       "    </tr>\n",
       "    <tr>\n",
       "      <th>50%</th>\n",
       "      <td>35000.000000</td>\n",
       "      <td>15500.000000</td>\n",
       "      <td>4.000000</td>\n",
       "      <td>0.000000</td>\n",
       "      <td>4.474200e+05</td>\n",
       "      <td>1.000000</td>\n",
       "    </tr>\n",
       "    <tr>\n",
       "      <th>75%</th>\n",
       "      <td>50375.000000</td>\n",
       "      <td>25000.000000</td>\n",
       "      <td>5.000000</td>\n",
       "      <td>3500.000000</td>\n",
       "      <td>5.947200e+05</td>\n",
       "      <td>2.000000</td>\n",
       "    </tr>\n",
       "    <tr>\n",
       "      <th>max</th>\n",
       "      <td>100000.000000</td>\n",
       "      <td>50000.000000</td>\n",
       "      <td>7.000000</td>\n",
       "      <td>35000.000000</td>\n",
       "      <td>1.404000e+06</td>\n",
       "      <td>4.000000</td>\n",
       "    </tr>\n",
       "  </tbody>\n",
       "</table>\n",
       "</div>"
      ],
      "text/plain": [
       "       Mthly_HH_Income  Mthly_HH_Expense  No_of_Fly_Members  Emi_or_Rent_Amt  \\\n",
       "count        50.000000         50.000000          50.000000        50.000000   \n",
       "mean      41558.000000      18818.000000           4.060000      3060.000000   \n",
       "std       26097.908979      12090.216824           1.517382      6241.434948   \n",
       "min        5000.000000       2000.000000           1.000000         0.000000   \n",
       "25%       23550.000000      10000.000000           3.000000         0.000000   \n",
       "50%       35000.000000      15500.000000           4.000000         0.000000   \n",
       "75%       50375.000000      25000.000000           5.000000      3500.000000   \n",
       "max      100000.000000      50000.000000           7.000000     35000.000000   \n",
       "\n",
       "       Annual_HH_Income  No_of_Earning_Members  \n",
       "count      5.000000e+01              50.000000  \n",
       "mean       4.900190e+05               1.460000  \n",
       "std        3.201358e+05               0.734291  \n",
       "min        6.420000e+04               1.000000  \n",
       "25%        2.587500e+05               1.000000  \n",
       "50%        4.474200e+05               1.000000  \n",
       "75%        5.947200e+05               2.000000  \n",
       "max        1.404000e+06               4.000000  "
      ]
     },
     "execution_count": 4,
     "metadata": {},
     "output_type": "execute_result"
    }
   ],
   "source": [
    "df.describe()"
   ]
  },
  {
   "cell_type": "markdown",
   "id": "bfce9a4e",
   "metadata": {},
   "source": [
    "$Median$"
   ]
  },
  {
   "cell_type": "markdown",
   "id": "5694d6a9",
   "metadata": {},
   "source": [
    "<img src=\"med.png\" alt=\"Italian Trulli\">"
   ]
  },
  {
   "cell_type": "code",
   "execution_count": 5,
   "id": "849c2ebd",
   "metadata": {},
   "outputs": [
    {
     "data": {
      "text/plain": [
       "Index(['Mthly_HH_Income', 'Mthly_HH_Expense', 'No_of_Fly_Members',\n",
       "       'Emi_or_Rent_Amt', 'Annual_HH_Income', 'Highest_Qualified_Member',\n",
       "       'No_of_Earning_Members'],\n",
       "      dtype='object')"
      ]
     },
     "execution_count": 5,
     "metadata": {},
     "output_type": "execute_result"
    }
   ],
   "source": [
    "df.columns"
   ]
  },
  {
   "cell_type": "code",
   "execution_count": 6,
   "id": "4f65f0b4",
   "metadata": {},
   "outputs": [
    {
     "name": "stdout",
     "output_type": "stream",
     "text": [
      "35000.0\n"
     ]
    }
   ],
   "source": [
    "median1=df['Mthly_HH_Income'].median()\n",
    "print(median1)"
   ]
  },
  {
   "cell_type": "code",
   "execution_count": 7,
   "id": "ebffac1c",
   "metadata": {},
   "outputs": [
    {
     "name": "stdout",
     "output_type": "stream",
     "text": [
      "15500.0\n"
     ]
    }
   ],
   "source": [
    "median2=df['Mthly_HH_Expense'].median()\n",
    "print(median2)"
   ]
  },
  {
   "cell_type": "code",
   "execution_count": 8,
   "id": "a952805a",
   "metadata": {},
   "outputs": [
    {
     "name": "stdout",
     "output_type": "stream",
     "text": [
      "4.0\n"
     ]
    }
   ],
   "source": [
    "median3=df['No_of_Fly_Members'].median()\n",
    "print(median3)"
   ]
  },
  {
   "cell_type": "code",
   "execution_count": 9,
   "id": "705adf94",
   "metadata": {},
   "outputs": [
    {
     "name": "stdout",
     "output_type": "stream",
     "text": [
      "0.0\n"
     ]
    }
   ],
   "source": [
    "median3=df['Emi_or_Rent_Amt'].median()\n",
    "print(median3)"
   ]
  },
  {
   "cell_type": "code",
   "execution_count": 10,
   "id": "ab4ee6c9",
   "metadata": {},
   "outputs": [
    {
     "name": "stdout",
     "output_type": "stream",
     "text": [
      "447420.0\n"
     ]
    }
   ],
   "source": [
    "median4=df['Annual_HH_Income'].median()\n",
    "print(median4)"
   ]
  },
  {
   "cell_type": "code",
   "execution_count": 11,
   "id": "adf8aa36",
   "metadata": {},
   "outputs": [
    {
     "name": "stdout",
     "output_type": "stream",
     "text": [
      "1.0\n"
     ]
    }
   ],
   "source": [
    "median5=df['No_of_Earning_Members'].median()\n",
    "print(median5)"
   ]
  },
  {
   "cell_type": "markdown",
   "id": "a16c20dc",
   "metadata": {},
   "source": [
    "$Mode$\n",
    "\n",
    "The mode is the value that appears most often in a set of data."
   ]
  },
  {
   "cell_type": "code",
   "execution_count": 12,
   "id": "75929616",
   "metadata": {
    "scrolled": true
   },
   "outputs": [
    {
     "data": {
      "text/html": [
       "<div>\n",
       "<style scoped>\n",
       "    .dataframe tbody tr th:only-of-type {\n",
       "        vertical-align: middle;\n",
       "    }\n",
       "\n",
       "    .dataframe tbody tr th {\n",
       "        vertical-align: top;\n",
       "    }\n",
       "\n",
       "    .dataframe thead th {\n",
       "        text-align: right;\n",
       "    }\n",
       "</style>\n",
       "<table border=\"1\" class=\"dataframe\">\n",
       "  <thead>\n",
       "    <tr style=\"text-align: right;\">\n",
       "      <th></th>\n",
       "      <th>Mthly_HH_Income</th>\n",
       "      <th>Mthly_HH_Expense</th>\n",
       "      <th>No_of_Fly_Members</th>\n",
       "      <th>Emi_or_Rent_Amt</th>\n",
       "      <th>Annual_HH_Income</th>\n",
       "      <th>Highest_Qualified_Member</th>\n",
       "      <th>No_of_Earning_Members</th>\n",
       "    </tr>\n",
       "  </thead>\n",
       "  <tbody>\n",
       "    <tr>\n",
       "      <th>0</th>\n",
       "      <td>45000</td>\n",
       "      <td>25000</td>\n",
       "      <td>4</td>\n",
       "      <td>0</td>\n",
       "      <td>590400</td>\n",
       "      <td>Graduate</td>\n",
       "      <td>1</td>\n",
       "    </tr>\n",
       "  </tbody>\n",
       "</table>\n",
       "</div>"
      ],
      "text/plain": [
       "   Mthly_HH_Income  Mthly_HH_Expense  No_of_Fly_Members  Emi_or_Rent_Amt  \\\n",
       "0            45000             25000                  4                0   \n",
       "\n",
       "   Annual_HH_Income Highest_Qualified_Member  No_of_Earning_Members  \n",
       "0            590400                 Graduate                      1  "
      ]
     },
     "execution_count": 12,
     "metadata": {},
     "output_type": "execute_result"
    }
   ],
   "source": [
    "df.mode(axis=0)"
   ]
  },
  {
   "cell_type": "markdown",
   "id": "571aaace",
   "metadata": {},
   "source": [
    "MODE FOR SPECIFIC COLUMN"
   ]
  },
  {
   "cell_type": "code",
   "execution_count": 13,
   "id": "0e1a9b7f",
   "metadata": {},
   "outputs": [
    {
     "data": {
      "text/plain": [
       "0    1\n",
       "dtype: int64"
      ]
     },
     "execution_count": 13,
     "metadata": {},
     "output_type": "execute_result"
    }
   ],
   "source": [
    "df.loc[:,'No_of_Earning_Members'].mode()\n"
   ]
  },
  {
   "cell_type": "markdown",
   "id": "1f0656a0",
   "metadata": {},
   "source": [
    "$Variance$"
   ]
  },
  {
   "cell_type": "markdown",
   "id": "ca5c22ab",
   "metadata": {},
   "source": [
    "<img src=\"var.jpg\" alt=\"Italian Trulli\">"
   ]
  },
  {
   "cell_type": "markdown",
   "id": "03c0e691",
   "metadata": {},
   "source": [
    "Variance for all Columns"
   ]
  },
  {
   "cell_type": "code",
   "execution_count": 14,
   "id": "2a025e89",
   "metadata": {
    "scrolled": true
   },
   "outputs": [
    {
     "data": {
      "text/plain": [
       "Mthly_HH_Income          6.811009e+08\n",
       "Mthly_HH_Expense         1.461733e+08\n",
       "No_of_Fly_Members        2.302449e+00\n",
       "Emi_or_Rent_Amt          3.895551e+07\n",
       "Annual_HH_Income         1.024869e+11\n",
       "No_of_Earning_Members    5.391837e-01\n",
       "dtype: float64"
      ]
     },
     "execution_count": 14,
     "metadata": {},
     "output_type": "execute_result"
    }
   ],
   "source": [
    "df.var()"
   ]
  },
  {
   "cell_type": "markdown",
   "id": "18ee33c1",
   "metadata": {},
   "source": [
    "Variance of the Specific Column\n"
   ]
  },
  {
   "cell_type": "code",
   "execution_count": 15,
   "id": "9e15751f",
   "metadata": {},
   "outputs": [
    {
     "data": {
      "text/plain": [
       "0.5391836734693877"
      ]
     },
     "execution_count": 15,
     "metadata": {},
     "output_type": "execute_result"
    }
   ],
   "source": [
    "df.loc[:,'No_of_Earning_Members'].var()\n"
   ]
  },
  {
   "cell_type": "markdown",
   "id": "c5b1c603",
   "metadata": {},
   "source": [
    "$Correlation$\n",
    "\n",
    "Correlation is used to analyze the strength and direction of the relationship between two quantitative variables."
   ]
  },
  {
   "cell_type": "markdown",
   "id": "8435241d",
   "metadata": {},
   "source": [
    "Correlation between two variables is said to be positive when their values change in the same direction and negative when their values change in opposite directions. The value of a correlation coefficient lies between -1 to 1, -1 being perfectly negatively correlated and 1 being perfectly positively correlated."
   ]
  },
  {
   "cell_type": "markdown",
   "id": "3e73e76c",
   "metadata": {},
   "source": [
    "<img src=\"corr.png\" alt=\"Italian Trulli\">"
   ]
  },
  {
   "cell_type": "code",
   "execution_count": 16,
   "id": "5bea7a6c",
   "metadata": {
    "scrolled": true
   },
   "outputs": [
    {
     "data": {
      "text/html": [
       "<style  type=\"text/css\" >\n",
       "#T_829bf_row0_col0,#T_829bf_row1_col1,#T_829bf_row2_col2,#T_829bf_row3_col3,#T_829bf_row4_col4,#T_829bf_row5_col5{\n",
       "            background-color:  #b40426;\n",
       "            color:  #f1f1f1;\n",
       "        }#T_829bf_row0_col1{\n",
       "            background-color:  #dadce0;\n",
       "            color:  #000000;\n",
       "        }#T_829bf_row0_col2{\n",
       "            background-color:  #bfd3f6;\n",
       "            color:  #000000;\n",
       "        }#T_829bf_row0_col3{\n",
       "            background-color:  #6180e9;\n",
       "            color:  #000000;\n",
       "        }#T_829bf_row0_col4,#T_829bf_row4_col0{\n",
       "            background-color:  #be242e;\n",
       "            color:  #f1f1f1;\n",
       "        }#T_829bf_row0_col5,#T_829bf_row4_col1{\n",
       "            background-color:  #c1d4f4;\n",
       "            color:  #000000;\n",
       "        }#T_829bf_row1_col0,#T_829bf_row2_col5{\n",
       "            background-color:  #f5c1a9;\n",
       "            color:  #000000;\n",
       "        }#T_829bf_row1_col2{\n",
       "            background-color:  #f2c9b4;\n",
       "            color:  #000000;\n",
       "        }#T_829bf_row1_col3{\n",
       "            background-color:  #d2dbe8;\n",
       "            color:  #000000;\n",
       "        }#T_829bf_row1_col4{\n",
       "            background-color:  #f1cdba;\n",
       "            color:  #000000;\n",
       "        }#T_829bf_row1_col5{\n",
       "            background-color:  #b7cff9;\n",
       "            color:  #000000;\n",
       "        }#T_829bf_row2_col0,#T_829bf_row2_col4{\n",
       "            background-color:  #c9d7f0;\n",
       "            color:  #000000;\n",
       "        }#T_829bf_row2_col1{\n",
       "            background-color:  #d6dce4;\n",
       "            color:  #000000;\n",
       "        }#T_829bf_row2_col3{\n",
       "            background-color:  #6f92f3;\n",
       "            color:  #000000;\n",
       "        }#T_829bf_row3_col0,#T_829bf_row3_col2,#T_829bf_row3_col4,#T_829bf_row3_col5,#T_829bf_row5_col1,#T_829bf_row5_col3{\n",
       "            background-color:  #3b4cc0;\n",
       "            color:  #f1f1f1;\n",
       "        }#T_829bf_row3_col1{\n",
       "            background-color:  #6485ec;\n",
       "            color:  #000000;\n",
       "        }#T_829bf_row4_col2{\n",
       "            background-color:  #b9d0f9;\n",
       "            color:  #000000;\n",
       "        }#T_829bf_row4_col3{\n",
       "            background-color:  #5673e0;\n",
       "            color:  #000000;\n",
       "        }#T_829bf_row4_col5{\n",
       "            background-color:  #b2ccfb;\n",
       "            color:  #000000;\n",
       "        }#T_829bf_row5_col0{\n",
       "            background-color:  #a6c4fe;\n",
       "            color:  #000000;\n",
       "        }#T_829bf_row5_col2{\n",
       "            background-color:  #ebd3c6;\n",
       "            color:  #000000;\n",
       "        }#T_829bf_row5_col4{\n",
       "            background-color:  #9dbdff;\n",
       "            color:  #000000;\n",
       "        }</style><table id=\"T_829bf_\" ><thead>    <tr>        <th class=\"blank level0\" ></th>        <th class=\"col_heading level0 col0\" >Mthly_HH_Income</th>        <th class=\"col_heading level0 col1\" >Mthly_HH_Expense</th>        <th class=\"col_heading level0 col2\" >No_of_Fly_Members</th>        <th class=\"col_heading level0 col3\" >Emi_or_Rent_Amt</th>        <th class=\"col_heading level0 col4\" >Annual_HH_Income</th>        <th class=\"col_heading level0 col5\" >No_of_Earning_Members</th>    </tr></thead><tbody>\n",
       "                <tr>\n",
       "                        <th id=\"T_829bf_level0_row0\" class=\"row_heading level0 row0\" >Mthly_HH_Income</th>\n",
       "                        <td id=\"T_829bf_row0_col0\" class=\"data row0 col0\" >1.000000</td>\n",
       "                        <td id=\"T_829bf_row0_col1\" class=\"data row0 col1\" >0.649215</td>\n",
       "                        <td id=\"T_829bf_row0_col2\" class=\"data row0 col2\" >0.448317</td>\n",
       "                        <td id=\"T_829bf_row0_col3\" class=\"data row0 col3\" >0.036976</td>\n",
       "                        <td id=\"T_829bf_row0_col4\" class=\"data row0 col4\" >0.970315</td>\n",
       "                        <td id=\"T_829bf_row0_col5\" class=\"data row0 col5\" >0.347883</td>\n",
       "            </tr>\n",
       "            <tr>\n",
       "                        <th id=\"T_829bf_level0_row1\" class=\"row_heading level0 row1\" >Mthly_HH_Expense</th>\n",
       "                        <td id=\"T_829bf_row1_col0\" class=\"data row1 col0\" >0.649215</td>\n",
       "                        <td id=\"T_829bf_row1_col1\" class=\"data row1 col1\" >1.000000</td>\n",
       "                        <td id=\"T_829bf_row1_col2\" class=\"data row1 col2\" >0.639702</td>\n",
       "                        <td id=\"T_829bf_row1_col3\" class=\"data row1 col3\" >0.405280</td>\n",
       "                        <td id=\"T_829bf_row1_col4\" class=\"data row1 col4\" >0.591222</td>\n",
       "                        <td id=\"T_829bf_row1_col5\" class=\"data row1 col5\" >0.311915</td>\n",
       "            </tr>\n",
       "            <tr>\n",
       "                        <th id=\"T_829bf_level0_row2\" class=\"row_heading level0 row2\" >No_of_Fly_Members</th>\n",
       "                        <td id=\"T_829bf_row2_col0\" class=\"data row2 col0\" >0.448317</td>\n",
       "                        <td id=\"T_829bf_row2_col1\" class=\"data row2 col1\" >0.639702</td>\n",
       "                        <td id=\"T_829bf_row2_col2\" class=\"data row2 col2\" >1.000000</td>\n",
       "                        <td id=\"T_829bf_row2_col3\" class=\"data row2 col3\" >0.085808</td>\n",
       "                        <td id=\"T_829bf_row2_col4\" class=\"data row2 col4\" >0.430868</td>\n",
       "                        <td id=\"T_829bf_row2_col5\" class=\"data row2 col5\" >0.597482</td>\n",
       "            </tr>\n",
       "            <tr>\n",
       "                        <th id=\"T_829bf_level0_row3\" class=\"row_heading level0 row3\" >Emi_or_Rent_Amt</th>\n",
       "                        <td id=\"T_829bf_row3_col0\" class=\"data row3 col0\" >0.036976</td>\n",
       "                        <td id=\"T_829bf_row3_col1\" class=\"data row3 col1\" >0.405280</td>\n",
       "                        <td id=\"T_829bf_row3_col2\" class=\"data row3 col2\" >0.085808</td>\n",
       "                        <td id=\"T_829bf_row3_col3\" class=\"data row3 col3\" >1.000000</td>\n",
       "                        <td id=\"T_829bf_row3_col4\" class=\"data row3 col4\" >0.002716</td>\n",
       "                        <td id=\"T_829bf_row3_col5\" class=\"data row3 col5\" >-0.097431</td>\n",
       "            </tr>\n",
       "            <tr>\n",
       "                        <th id=\"T_829bf_level0_row4\" class=\"row_heading level0 row4\" >Annual_HH_Income</th>\n",
       "                        <td id=\"T_829bf_row4_col0\" class=\"data row4 col0\" >0.970315</td>\n",
       "                        <td id=\"T_829bf_row4_col1\" class=\"data row4 col1\" >0.591222</td>\n",
       "                        <td id=\"T_829bf_row4_col2\" class=\"data row4 col2\" >0.430868</td>\n",
       "                        <td id=\"T_829bf_row4_col3\" class=\"data row4 col3\" >0.002716</td>\n",
       "                        <td id=\"T_829bf_row4_col4\" class=\"data row4 col4\" >1.000000</td>\n",
       "                        <td id=\"T_829bf_row4_col5\" class=\"data row4 col5\" >0.296679</td>\n",
       "            </tr>\n",
       "            <tr>\n",
       "                        <th id=\"T_829bf_level0_row5\" class=\"row_heading level0 row5\" >No_of_Earning_Members</th>\n",
       "                        <td id=\"T_829bf_row5_col0\" class=\"data row5 col0\" >0.347883</td>\n",
       "                        <td id=\"T_829bf_row5_col1\" class=\"data row5 col1\" >0.311915</td>\n",
       "                        <td id=\"T_829bf_row5_col2\" class=\"data row5 col2\" >0.597482</td>\n",
       "                        <td id=\"T_829bf_row5_col3\" class=\"data row5 col3\" >-0.097431</td>\n",
       "                        <td id=\"T_829bf_row5_col4\" class=\"data row5 col4\" >0.296679</td>\n",
       "                        <td id=\"T_829bf_row5_col5\" class=\"data row5 col5\" >1.000000</td>\n",
       "            </tr>\n",
       "    </tbody></table>"
      ],
      "text/plain": [
       "<pandas.io.formats.style.Styler at 0x1ead06acb20>"
      ]
     },
     "execution_count": 16,
     "metadata": {},
     "output_type": "execute_result"
    }
   ],
   "source": [
    "corr = df.corr()\n",
    "corr.style.background_gradient(cmap='coolwarm')"
   ]
  },
  {
   "cell_type": "code",
   "execution_count": 17,
   "id": "d8c7af08",
   "metadata": {
    "scrolled": true
   },
   "outputs": [
    {
     "data": {
      "text/html": [
       "<style  type=\"text/css\" >\n",
       "#T_8711d_row0_col0,#T_8711d_row1_col1,#T_8711d_row2_col2,#T_8711d_row3_col3,#T_8711d_row4_col4,#T_8711d_row5_col5{\n",
       "            background-color:  #b40426;\n",
       "            color:  #f1f1f1;\n",
       "        }#T_8711d_row0_col1{\n",
       "            background-color:  #dadce0;\n",
       "            color:  #000000;\n",
       "        }#T_8711d_row0_col2{\n",
       "            background-color:  #bfd3f6;\n",
       "            color:  #000000;\n",
       "        }#T_8711d_row0_col3{\n",
       "            background-color:  #6180e9;\n",
       "            color:  #000000;\n",
       "        }#T_8711d_row0_col4,#T_8711d_row4_col0{\n",
       "            background-color:  #be242e;\n",
       "            color:  #f1f1f1;\n",
       "        }#T_8711d_row0_col5,#T_8711d_row4_col1{\n",
       "            background-color:  #c1d4f4;\n",
       "            color:  #000000;\n",
       "        }#T_8711d_row1_col0,#T_8711d_row2_col5{\n",
       "            background-color:  #f5c1a9;\n",
       "            color:  #000000;\n",
       "        }#T_8711d_row1_col2{\n",
       "            background-color:  #f2c9b4;\n",
       "            color:  #000000;\n",
       "        }#T_8711d_row1_col3{\n",
       "            background-color:  #d2dbe8;\n",
       "            color:  #000000;\n",
       "        }#T_8711d_row1_col4{\n",
       "            background-color:  #f1cdba;\n",
       "            color:  #000000;\n",
       "        }#T_8711d_row1_col5{\n",
       "            background-color:  #b7cff9;\n",
       "            color:  #000000;\n",
       "        }#T_8711d_row2_col0,#T_8711d_row2_col4{\n",
       "            background-color:  #c9d7f0;\n",
       "            color:  #000000;\n",
       "        }#T_8711d_row2_col1{\n",
       "            background-color:  #d6dce4;\n",
       "            color:  #000000;\n",
       "        }#T_8711d_row2_col3{\n",
       "            background-color:  #6f92f3;\n",
       "            color:  #000000;\n",
       "        }#T_8711d_row3_col0,#T_8711d_row3_col2,#T_8711d_row3_col4,#T_8711d_row3_col5,#T_8711d_row5_col1,#T_8711d_row5_col3{\n",
       "            background-color:  #3b4cc0;\n",
       "            color:  #f1f1f1;\n",
       "        }#T_8711d_row3_col1{\n",
       "            background-color:  #6485ec;\n",
       "            color:  #000000;\n",
       "        }#T_8711d_row4_col2{\n",
       "            background-color:  #b9d0f9;\n",
       "            color:  #000000;\n",
       "        }#T_8711d_row4_col3{\n",
       "            background-color:  #5673e0;\n",
       "            color:  #000000;\n",
       "        }#T_8711d_row4_col5{\n",
       "            background-color:  #b2ccfb;\n",
       "            color:  #000000;\n",
       "        }#T_8711d_row5_col0{\n",
       "            background-color:  #a6c4fe;\n",
       "            color:  #000000;\n",
       "        }#T_8711d_row5_col2{\n",
       "            background-color:  #ebd3c6;\n",
       "            color:  #000000;\n",
       "        }#T_8711d_row5_col4{\n",
       "            background-color:  #9dbdff;\n",
       "            color:  #000000;\n",
       "        }</style><table id=\"T_8711d_\" ><thead>    <tr>        <th class=\"blank level0\" ></th>        <th class=\"col_heading level0 col0\" >Mthly_HH_Income</th>        <th class=\"col_heading level0 col1\" >Mthly_HH_Expense</th>        <th class=\"col_heading level0 col2\" >No_of_Fly_Members</th>        <th class=\"col_heading level0 col3\" >Emi_or_Rent_Amt</th>        <th class=\"col_heading level0 col4\" >Annual_HH_Income</th>        <th class=\"col_heading level0 col5\" >No_of_Earning_Members</th>    </tr></thead><tbody>\n",
       "                <tr>\n",
       "                        <th id=\"T_8711d_level0_row0\" class=\"row_heading level0 row0\" >Mthly_HH_Income</th>\n",
       "                        <td id=\"T_8711d_row0_col0\" class=\"data row0 col0\" >1.00</td>\n",
       "                        <td id=\"T_8711d_row0_col1\" class=\"data row0 col1\" >0.65</td>\n",
       "                        <td id=\"T_8711d_row0_col2\" class=\"data row0 col2\" >0.45</td>\n",
       "                        <td id=\"T_8711d_row0_col3\" class=\"data row0 col3\" >0.04</td>\n",
       "                        <td id=\"T_8711d_row0_col4\" class=\"data row0 col4\" >0.97</td>\n",
       "                        <td id=\"T_8711d_row0_col5\" class=\"data row0 col5\" >0.35</td>\n",
       "            </tr>\n",
       "            <tr>\n",
       "                        <th id=\"T_8711d_level0_row1\" class=\"row_heading level0 row1\" >Mthly_HH_Expense</th>\n",
       "                        <td id=\"T_8711d_row1_col0\" class=\"data row1 col0\" >0.65</td>\n",
       "                        <td id=\"T_8711d_row1_col1\" class=\"data row1 col1\" >1.00</td>\n",
       "                        <td id=\"T_8711d_row1_col2\" class=\"data row1 col2\" >0.64</td>\n",
       "                        <td id=\"T_8711d_row1_col3\" class=\"data row1 col3\" >0.41</td>\n",
       "                        <td id=\"T_8711d_row1_col4\" class=\"data row1 col4\" >0.59</td>\n",
       "                        <td id=\"T_8711d_row1_col5\" class=\"data row1 col5\" >0.31</td>\n",
       "            </tr>\n",
       "            <tr>\n",
       "                        <th id=\"T_8711d_level0_row2\" class=\"row_heading level0 row2\" >No_of_Fly_Members</th>\n",
       "                        <td id=\"T_8711d_row2_col0\" class=\"data row2 col0\" >0.45</td>\n",
       "                        <td id=\"T_8711d_row2_col1\" class=\"data row2 col1\" >0.64</td>\n",
       "                        <td id=\"T_8711d_row2_col2\" class=\"data row2 col2\" >1.00</td>\n",
       "                        <td id=\"T_8711d_row2_col3\" class=\"data row2 col3\" >0.09</td>\n",
       "                        <td id=\"T_8711d_row2_col4\" class=\"data row2 col4\" >0.43</td>\n",
       "                        <td id=\"T_8711d_row2_col5\" class=\"data row2 col5\" >0.60</td>\n",
       "            </tr>\n",
       "            <tr>\n",
       "                        <th id=\"T_8711d_level0_row3\" class=\"row_heading level0 row3\" >Emi_or_Rent_Amt</th>\n",
       "                        <td id=\"T_8711d_row3_col0\" class=\"data row3 col0\" >0.04</td>\n",
       "                        <td id=\"T_8711d_row3_col1\" class=\"data row3 col1\" >0.41</td>\n",
       "                        <td id=\"T_8711d_row3_col2\" class=\"data row3 col2\" >0.09</td>\n",
       "                        <td id=\"T_8711d_row3_col3\" class=\"data row3 col3\" >1.00</td>\n",
       "                        <td id=\"T_8711d_row3_col4\" class=\"data row3 col4\" >0.00</td>\n",
       "                        <td id=\"T_8711d_row3_col5\" class=\"data row3 col5\" >-0.10</td>\n",
       "            </tr>\n",
       "            <tr>\n",
       "                        <th id=\"T_8711d_level0_row4\" class=\"row_heading level0 row4\" >Annual_HH_Income</th>\n",
       "                        <td id=\"T_8711d_row4_col0\" class=\"data row4 col0\" >0.97</td>\n",
       "                        <td id=\"T_8711d_row4_col1\" class=\"data row4 col1\" >0.59</td>\n",
       "                        <td id=\"T_8711d_row4_col2\" class=\"data row4 col2\" >0.43</td>\n",
       "                        <td id=\"T_8711d_row4_col3\" class=\"data row4 col3\" >0.00</td>\n",
       "                        <td id=\"T_8711d_row4_col4\" class=\"data row4 col4\" >1.00</td>\n",
       "                        <td id=\"T_8711d_row4_col5\" class=\"data row4 col5\" >0.30</td>\n",
       "            </tr>\n",
       "            <tr>\n",
       "                        <th id=\"T_8711d_level0_row5\" class=\"row_heading level0 row5\" >No_of_Earning_Members</th>\n",
       "                        <td id=\"T_8711d_row5_col0\" class=\"data row5 col0\" >0.35</td>\n",
       "                        <td id=\"T_8711d_row5_col1\" class=\"data row5 col1\" >0.31</td>\n",
       "                        <td id=\"T_8711d_row5_col2\" class=\"data row5 col2\" >0.60</td>\n",
       "                        <td id=\"T_8711d_row5_col3\" class=\"data row5 col3\" >-0.10</td>\n",
       "                        <td id=\"T_8711d_row5_col4\" class=\"data row5 col4\" >0.30</td>\n",
       "                        <td id=\"T_8711d_row5_col5\" class=\"data row5 col5\" >1.00</td>\n",
       "            </tr>\n",
       "    </tbody></table>"
      ],
      "text/plain": [
       "<pandas.io.formats.style.Styler at 0x1ead06acbb0>"
      ]
     },
     "execution_count": 17,
     "metadata": {},
     "output_type": "execute_result"
    }
   ],
   "source": [
    "corr.style.background_gradient(cmap='coolwarm').set_precision(2)"
   ]
  },
  {
   "cell_type": "code",
   "execution_count": 18,
   "id": "1a4ad7dd",
   "metadata": {},
   "outputs": [
    {
     "data": {
      "text/plain": [
       "<AxesSubplot:>"
      ]
     },
     "execution_count": 18,
     "metadata": {},
     "output_type": "execute_result"
    },
    {
     "data": {
      "image/png": "[encoded data removed]",
      "text/plain": [
       "<Figure size 432x288 with 2 Axes>"
      ]
     },
     "metadata": {
      "needs_background": "light"
     },
     "output_type": "display_data"
    }
   ],
   "source": [
    "sns.heatmap(df.corr())"
   ]
  },
  {
   "cell_type": "code",
   "execution_count": 19,
   "id": "38873dbd",
   "metadata": {},
   "outputs": [
    {
     "data": {
      "text/plain": [
       "(0.0, 104750.0)"
      ]
     },
     "execution_count": 19,
     "metadata": {},
     "output_type": "execute_result"
    },
    {
     "data": {
      "image/png": "[encoded data removed]",
      "text/plain": [
       "<Figure size 432x288 with 1 Axes>"
      ]
     },
     "metadata": {
      "needs_background": "light"
     },
     "output_type": "display_data"
    }
   ],
   "source": [
    "sns.regplot(x=\"No_of_Fly_Members\", y='Mthly_HH_Income', data=df)\n",
    "plt.ylim(0,)"
   ]
  },
  {
   "cell_type": "markdown",
   "id": "ec025a45",
   "metadata": {},
   "source": [
    "Messy line chart\n"
   ]
  },
  {
   "cell_type": "code",
   "execution_count": 20,
   "id": "ec62fc31",
   "metadata": {
    "scrolled": true
   },
   "outputs": [
    {
     "data": {
      "text/plain": [
       "<AxesSubplot:>"
      ]
     },
     "execution_count": 20,
     "metadata": {},
     "output_type": "execute_result"
    },
    {
     "data": {
      "image/png": "[encoded data removed]",
      "text/plain": [
       "<Figure size 432x288 with 1 Axes>"
      ]
     },
     "metadata": {
      "needs_background": "light"
     },
     "output_type": "display_data"
    }
   ],
   "source": [
    "df.plot()"
   ]
  },
  {
   "cell_type": "markdown",
   "id": "c627b6a8",
   "metadata": {},
   "source": [
    "$Normal Distribution$"
   ]
  },
  {
   "cell_type": "markdown",
   "id": "220a30f7",
   "metadata": {},
   "source": [
    "**A continuous random variable X is said to follow a normal distribution if its probability density function can be written as**"
   ]
  },
  {
   "cell_type": "markdown",
   "id": "bf98b773",
   "metadata": {},
   "source": [
    "<img src=\"rand.png\" alt=\"Italian Trulli\">"
   ]
  },
  {
   "cell_type": "markdown",
   "id": "3f44b584",
   "metadata": {},
   "source": [
    "$Normal Distribution$ has: - mean = median = mode - symmetry about the center - 50% of values less than the mean - and 50% greater than the mean"
   ]
  },
  {
   "cell_type": "markdown",
   "id": "afa9e627",
   "metadata": {},
   "source": [
    "<img src=\"rand1.png\" alt=\"Italian Trulli\">"
   ]
  },
  {
   "cell_type": "code",
   "execution_count": 21,
   "id": "90f51cef",
   "metadata": {
    "scrolled": true
   },
   "outputs": [
    {
     "data": {
      "text/plain": [
       "array([[<AxesSubplot:title={'center':'Mthly_HH_Income'}>,\n",
       "        <AxesSubplot:title={'center':'Mthly_HH_Expense'}>],\n",
       "       [<AxesSubplot:title={'center':'No_of_Fly_Members'}>,\n",
       "        <AxesSubplot:title={'center':'Emi_or_Rent_Amt'}>],\n",
       "       [<AxesSubplot:title={'center':'Annual_HH_Income'}>,\n",
       "        <AxesSubplot:title={'center':'No_of_Earning_Members'}>]],\n",
       "      dtype=object)"
      ]
     },
     "execution_count": 21,
     "metadata": {},
     "output_type": "execute_result"
    },
    {
     "data": {
      "image/png": "[encoded data removed]",
      "text/plain": [
       "<Figure size 432x288 with 6 Axes>"
      ]
     },
     "metadata": {
      "needs_background": "light"
     },
     "output_type": "display_data"
    }
   ],
   "source": [
    "df.hist(bins=10)"
   ]
  },
  {
   "cell_type": "markdown",
   "id": "8efead6b",
   "metadata": {},
   "source": [
    "**$Skewness$**"
   ]
  },
  {
   "cell_type": "markdown",
   "id": "5ad6541c",
   "metadata": {},
   "source": [
    "In statistics, skewness is a measure of the asymmetry of the probability distribution of a random variable about its mean. In other words, skewness tells you the amount and direction of skew (departure from horizontal symmetry). The skewness value can be positive or negative, or even undefined. If skewness is 0, the data are perfectly symmetrical, although it is quite unlikely for real-world data."
   ]
  },
  {
   "cell_type": "markdown",
   "id": "cb588b8d",
   "metadata": {},
   "source": [
    "A frequency distribution that is not symmetrical is called skewed. In a skewed data set extreme value (outliers) move to one side (tail) of the frequency distribution.\n",
    "\n",
    "**If the extreme values move towards the right end of the distribution then it is called as a right-skewed or a positively skewed distribution.**\n",
    "\n",
    "**If the extreme values move towards the left end of the distribution then it is called a left-skewed or a negatively skewed distribution.**"
   ]
  },
  {
   "cell_type": "markdown",
   "id": "f866eaf5",
   "metadata": {},
   "source": [
    "<img src=\"skew.png\" alt=\"Italian Trulli\">"
   ]
  },
  {
   "cell_type": "code",
   "execution_count": 22,
   "id": "1794af6f",
   "metadata": {},
   "outputs": [
    {
     "data": {
      "text/plain": [
       "1.5933009869600223"
      ]
     },
     "execution_count": 22,
     "metadata": {},
     "output_type": "execute_result"
    }
   ],
   "source": [
    "df['No_of_Earning_Members'].skew()"
   ]
  },
  {
   "cell_type": "code",
   "execution_count": 23,
   "id": "68592386",
   "metadata": {},
   "outputs": [
    {
     "data": {
      "text/plain": [
       "1.1929490975818218"
      ]
     },
     "execution_count": 23,
     "metadata": {},
     "output_type": "execute_result"
    }
   ],
   "source": [
    "df['Annual_HH_Income'].skew()"
   ]
  },
  {
   "cell_type": "code",
   "execution_count": 24,
   "id": "7cb41873",
   "metadata": {},
   "outputs": [
    {
     "data": {
      "text/plain": [
       "3.403679844103547"
      ]
     },
     "execution_count": 24,
     "metadata": {},
     "output_type": "execute_result"
    }
   ],
   "source": [
    "df['Emi_or_Rent_Amt'].skew()"
   ]
  },
  {
   "cell_type": "code",
   "execution_count": 25,
   "id": "5941b1dc",
   "metadata": {},
   "outputs": [
    {
     "data": {
      "text/plain": [
       "0.11367415455857431"
      ]
     },
     "execution_count": 25,
     "metadata": {},
     "output_type": "execute_result"
    }
   ],
   "source": [
    "df['No_of_Fly_Members'].skew()"
   ]
  },
  {
   "cell_type": "code",
   "execution_count": 26,
   "id": "3428fe6b",
   "metadata": {},
   "outputs": [
    {
     "data": {
      "text/plain": [
       "1.1994608030097127"
      ]
     },
     "execution_count": 26,
     "metadata": {},
     "output_type": "execute_result"
    }
   ],
   "source": [
    "df['Mthly_HH_Expense'].skew()"
   ]
  },
  {
   "cell_type": "code",
   "execution_count": 27,
   "id": "b36e5f44",
   "metadata": {},
   "outputs": [
    {
     "data": {
      "text/plain": [
       "0.9246148763777229"
      ]
     },
     "execution_count": 27,
     "metadata": {},
     "output_type": "execute_result"
    }
   ],
   "source": [
    "df['Mthly_HH_Income'].skew()"
   ]
  },
  {
   "cell_type": "markdown",
   "id": "c9987005",
   "metadata": {},
   "source": [
    "$Kurtosis$"
   ]
  },
  {
   "cell_type": "markdown",
   "id": "700e6a02",
   "metadata": {},
   "source": [
    "**The other measure that describes the shape of a distribution is called kurtosis.**\n",
    "\n",
    "**“The kurtosis parameter is a measure of the combined weight of the tails relative to the rest of the distribution.”**\n",
    "\n"
   ]
  },
  {
   "cell_type": "markdown",
   "id": "3f42cda3",
   "metadata": {},
   "source": [
    "The kurtosis of a normal distribution is 3, most of the statistical packages report excess kurtosis over the normal distribution.\n",
    "\n",
    "•\tA normal distribution has kurtosis exactly 3 (excess kurtosis exactly 0). Any distribution with kurtosis ≈3 (excess ≈0) is called mesokurtic.\n",
    "\n",
    "•\tA distribution with kurtosis <3 (excess kurtosis <0) is called platykurtic. Compared to a normal distribution, its tails are shorter and thinner, and often its central peak is lower and broader.\n",
    "\n",
    "•\tA distribution with kurtosis >3 (excess kurtosis >0) is called leptokurtic. Compared to a normal distribution, its tails are longer and fatter, and often its central peak is higher and sharper.\n"
   ]
  },
  {
   "cell_type": "markdown",
   "id": "0f168ef2",
   "metadata": {},
   "source": [
    "<img src=\"kurt.jpg\" alt=\"Italian Trulli\">"
   ]
  },
  {
   "cell_type": "code",
   "execution_count": 28,
   "id": "5f3b8094",
   "metadata": {},
   "outputs": [
    {
     "data": {
      "text/plain": [
       "0.11555007146606489"
      ]
     },
     "execution_count": 28,
     "metadata": {},
     "output_type": "execute_result"
    }
   ],
   "source": [
    "df['Mthly_HH_Income'].kurt()"
   ]
  },
  {
   "cell_type": "code",
   "execution_count": 29,
   "id": "17d665aa",
   "metadata": {},
   "outputs": [
    {
     "data": {
      "text/plain": [
       "0.11555007146606489"
      ]
     },
     "execution_count": 29,
     "metadata": {},
     "output_type": "execute_result"
    }
   ],
   "source": [
    "df['Mthly_HH_Income'].kurt()"
   ]
  },
  {
   "cell_type": "code",
   "execution_count": 30,
   "id": "6b72b913",
   "metadata": {},
   "outputs": [
    {
     "data": {
      "text/plain": [
       "-0.8514445579758396"
      ]
     },
     "execution_count": 30,
     "metadata": {},
     "output_type": "execute_result"
    }
   ],
   "source": [
    "df['No_of_Fly_Members'].kurt()"
   ]
  },
  {
   "cell_type": "code",
   "execution_count": 31,
   "id": "46d7c85e",
   "metadata": {},
   "outputs": [
    {
     "data": {
      "text/plain": [
       "14.202522820819258"
      ]
     },
     "execution_count": 31,
     "metadata": {},
     "output_type": "execute_result"
    }
   ],
   "source": [
    "df['Emi_or_Rent_Amt'].kurt()"
   ]
  },
  {
   "cell_type": "code",
   "execution_count": 32,
   "id": "f31aeef5",
   "metadata": {},
   "outputs": [
    {
     "data": {
      "text/plain": [
       "1.1012908548129197"
      ]
     },
     "execution_count": 32,
     "metadata": {},
     "output_type": "execute_result"
    }
   ],
   "source": [
    "df['Annual_HH_Income'].kurt()"
   ]
  },
  {
   "cell_type": "code",
   "execution_count": 33,
   "id": "a3fcfe0c",
   "metadata": {},
   "outputs": [
    {
     "data": {
      "text/plain": [
       "2.0932124169928983"
      ]
     },
     "execution_count": 33,
     "metadata": {},
     "output_type": "execute_result"
    }
   ],
   "source": [
    "df['No_of_Earning_Members'].kurt()"
   ]
  },
  {
   "cell_type": "markdown",
   "id": "3198b65c",
   "metadata": {},
   "source": [
    "$$ QQ plot $$"
   ]
  },
  {
   "cell_type": "markdown",
   "id": "4c3e9626",
   "metadata": {},
   "source": [
    "When the quantiles of two variables are plotted against each other, then the plot obtained is known as quantile – quantile plot or qqplot."
   ]
  },
  {
   "cell_type": "code",
   "execution_count": 34,
   "id": "dfb16937",
   "metadata": {},
   "outputs": [
    {
     "data": {
      "image/png": "[encoded data removed]",
      "text/plain": [
       "<Figure size 432x288 with 1 Axes>"
      ]
     },
     "metadata": {
      "needs_background": "light"
     },
     "output_type": "display_data"
    }
   ],
   "source": [
    "stats.probplot(df['Annual_HH_Income'],dist=\"norm\", plot=plt)\n",
    "plt.grid()"
   ]
  },
  {
   "cell_type": "code",
   "execution_count": 35,
   "id": "c4401875",
   "metadata": {},
   "outputs": [
    {
     "name": "stdout",
     "output_type": "stream",
     "text": [
      "Mthly_HH_Income              int64\n",
      "Mthly_HH_Expense             int64\n",
      "No_of_Fly_Members            int64\n",
      "Emi_or_Rent_Amt              int64\n",
      "Annual_HH_Income             int64\n",
      "Highest_Qualified_Member    object\n",
      "No_of_Earning_Members        int64\n",
      "dtype: object\n"
     ]
    }
   ],
   "source": [
    "print(df.dtypes)"
   ]
  },
  {
   "cell_type": "code",
   "execution_count": 36,
   "id": "3f452e2f",
   "metadata": {},
   "outputs": [
    {
     "data": {
      "image/png": "[encoded data removed]",
      "text/plain": [
       "<Figure size 864x576 with 6 Axes>"
      ]
     },
     "metadata": {
      "needs_background": "light"
     },
     "output_type": "display_data"
    }
   ],
   "source": [
    "plt.figure(figsize = (12,8))\n",
    "plt.subplot(2,3,1)\n",
    "stats.probplot(df[\"Mthly_HH_Income\"],dist=\"norm\",plot=plt)\n",
    "plt.subplot(2,3,2)\n",
    "stats.probplot(df[\"Mthly_HH_Expense\"],dist=\"norm\",plot=plt)\n",
    "plt.subplot(2,3,3)\n",
    "stats.probplot(df[\"No_of_Fly_Members\"],dist=\"norm\",plot=plt)\n",
    "plt.subplot(2,3,4)\n",
    "stats.probplot(df[\"Emi_or_Rent_Amt\"],dist=\"norm\",plot=plt)\n",
    "plt.subplot(2,3,5)\n",
    "stats.probplot(df[\"Annual_HH_Income\"],dist=\"norm\",plot=plt)\n",
    "plt.subplot(2,3,6)\n",
    "stats.probplot(df[\"No_of_Earning_Members\"],dist=\"norm\",plot=plt)\n",
    "plt.show()"
   ]
  },
  {
   "cell_type": "markdown",
   "id": "f8ea360a",
   "metadata": {},
   "source": [
    "$$Box - Cox Transformation$$"
   ]
  },
  {
   "cell_type": "markdown",
   "id": "a73d5623",
   "metadata": {},
   "source": [
    "A Box cox transformation is defined as a way to transform non-normal dependent variables in our data to a normal shape through which we can run a lot more tests"
   ]
  },
  {
   "cell_type": "code",
   "execution_count": 37,
   "id": "3231dca3",
   "metadata": {},
   "outputs": [
    {
     "name": "stdout",
     "output_type": "stream",
     "text": [
      "0.3031376789702236 0.18883043817938627 0.3031376789702236 0.3031376789702236 0.3031376789702236 0.3031376789702236\n"
     ]
    }
   ],
   "source": [
    "x_t, l = stats.boxcox(df[\"Mthly_HH_Income\"])\n",
    "x_t1, l1 = stats.boxcox(df[\"Mthly_HH_Expense\"])\n",
    "x_t2, l2 = stats.boxcox(df[\"Mthly_HH_Income\"])\n",
    "x_t3, l3 = stats.boxcox(df[\"Mthly_HH_Income\"])\n",
    "x_t4, l4 = stats.boxcox(df[\"Mthly_HH_Income\"])\n",
    "x_t5, l5 = stats.boxcox(df[\"Mthly_HH_Income\"])\n",
    "\n",
    "print(l,l1,l2,l3,l4,l5)\n"
   ]
  },
  {
   "cell_type": "code",
   "execution_count": 40,
   "id": "28f8d603",
   "metadata": {},
   "outputs": [
    {
     "data": {
      "image/png": "[encoded data removed]",
      "text/plain": [
       "<Figure size 864x576 with 6 Axes>"
      ]
     },
     "metadata": {
      "needs_background": "light"
     },
     "output_type": "display_data"
    }
   ],
   "source": [
    "plt.figure(figsize = (12,8))\n",
    "plt.subplot(2,3,1)\n",
    "stats.probplot(x_t, dist=\"norm\", plot=plt)\n",
    "plt.subplot(2,3,2)\n",
    "stats.probplot(x_t1, dist=\"norm\", plot=plt)\n",
    "plt.subplot(2,3,3)\n",
    "stats.probplot(x_t2, dist=\"norm\", plot=plt)\n",
    "plt.subplot(2,3,4)\n",
    "stats.probplot(x_t3, dist=\"norm\", plot=plt)\n",
    "plt.subplot(2,3,5)\n",
    "stats.probplot(x_t4, dist=\"norm\", plot=plt)\n",
    "plt.subplot(2,3,6)\n",
    "stats.probplot(x_t5, dist=\"norm\", plot=plt)\n",
    "plt.grid()\n",
    "plt.show()"
   ]
  },
  {
   "cell_type": "code",
   "execution_count": null,
   "id": "f7df9911",
   "metadata": {},
   "outputs": [],
   "source": []
  }
 ],
 "metadata": {
  "kernelspec": {
   "display_name": "Python 3",
   "language": "python",
   "name": "python3"
  },
  "language_info": {
   "codemirror_mode": {
    "name": "ipython",
    "version": 3
   },
   "file_extension": ".py",
   "mimetype": "text/x-python",
   "name": "python",
   "nbconvert_exporter": "python",
   "pygments_lexer": "ipython3",
   "version": "3.8.8"
  }
 },
 "nbformat": 4,
 "nbformat_minor": 5
}
