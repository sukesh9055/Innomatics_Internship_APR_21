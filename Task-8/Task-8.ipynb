{
 "cells": [
  {
   "cell_type": "markdown",
   "id": "8fa26bd9",
   "metadata": {},
   "source": [
    "Binomial Distribution I\n",
    "\n"
   ]
  },
  {
   "cell_type": "code",
   "execution_count": 2,
   "id": "2af0ddda",
   "metadata": {},
   "outputs": [
    {
     "name": "stdout",
     "output_type": "stream",
     "text": [
      "1.09 1\n",
      "0.696\n"
     ]
    }
   ],
   "source": [
    "def fact(n):\n",
    "    return 1 if n == 0 else n*fact(n-1)\n",
    "\n",
    "def comb(n, x):\n",
    "    return fact(n) / (fact(x) * fact(n-x))\n",
    "\n",
    "def b(x, n, p):\n",
    "    return comb(n, x) * p**x * (1-p)**(n-x)\n",
    "\n",
    "l, r = list(map(float, input().split(\" \")))\n",
    "odds = l / r\n",
    "print(round(sum([b(i, 6, odds / (1 + odds)) for i in range(3, 7)]), 3))"
   ]
  },
  {
   "cell_type": "markdown",
   "id": "da5c552b",
   "metadata": {},
   "source": [
    "Binomial Distribution II\n",
    "\n"
   ]
  },
  {
   "cell_type": "code",
   "execution_count": 3,
   "id": "153a67f3",
   "metadata": {},
   "outputs": [
    {
     "name": "stdout",
     "output_type": "stream",
     "text": [
      "10 9\n",
      "0.947\n",
      "0.225\n"
     ]
    }
   ],
   "source": [
    "def fact(n):\n",
    "    return 1 if n == 0 else n*fact(n-1)\n",
    "\n",
    "def comb(n, x):\n",
    "    return fact(n) / (fact(x) * fact(n-x))\n",
    "\n",
    "def b(x, n, p):\n",
    "    return comb(n, x) * p**x * (1-p)**(n-x)\n",
    "p, n = list(map(int, input().split(\" \")))\n",
    "print(round(sum([b(i, n, p/100) for i in range(3)]), 3))\n",
    "print(round(sum([b(i, n, p/100) for i in range(2, n+1)]), 3))"
   ]
  },
  {
   "cell_type": "markdown",
   "id": "32305ba4",
   "metadata": {},
   "source": [
    "Normal Distribution 1"
   ]
  },
  {
   "cell_type": "code",
   "execution_count": 4,
   "id": "73dc0cf6",
   "metadata": {},
   "outputs": [
    {
     "name": "stdout",
     "output_type": "stream",
     "text": [
      "0.401\n",
      "0.341\n"
     ]
    }
   ],
   "source": [
    "import math\n",
    "mean, std = 20, 2\n",
    "cdf = lambda x: 0.5 * (1 + math.erf((x - mean) / (std * (2 ** 0.5))))\n",
    "print('{:.3f}'.format(cdf(19.5)))\n",
    "print('{:.3f}'.format(cdf(22) - cdf(20)))"
   ]
  },
  {
   "cell_type": "markdown",
   "id": "8a4996b4",
   "metadata": {},
   "source": [
    "Normal Distribution 2"
   ]
  },
  {
   "cell_type": "code",
   "execution_count": 5,
   "id": "3b3f0560",
   "metadata": {},
   "outputs": [
    {
     "name": "stdout",
     "output_type": "stream",
     "text": [
      "15.87\n",
      "84.13\n",
      "15.87\n"
     ]
    }
   ],
   "source": [
    "import math\n",
    "\n",
    "mean, std = 70, 10\n",
    "cdf = lambda x: 0.5 * (1 + math.erf((x - mean) / (std * (2 ** 0.5))))\n",
    "print('{:.2f}'.format((1 - cdf(80))* 100))\n",
    "print('{:.2f}'.format((1- cdf(60))* 100))\n",
    "print('{:.2f}'.format(cdf(60)*100))"
   ]
  },
  {
   "cell_type": "markdown",
   "id": "f8a95485",
   "metadata": {},
   "source": [
    "The central limiting theorem 1,2,3"
   ]
  },
  {
   "cell_type": "code",
   "execution_count": 5,
   "id": "0f74f3f1",
   "metadata": {},
   "outputs": [
    {
     "name": "stdout",
     "output_type": "stream",
     "text": [
      "0.0098\n"
     ]
    }
   ],
   "source": [
    "import math\n",
    "\n",
    "def clf(x, mean, sd):\n",
    "  return 0.5 * (1 + math.erf((x - mean) / (sd * (2 ** 0.5))))\n",
    "\n",
    "max = 9800\n",
    "n = 49\n",
    "mean_pop = 205\n",
    "sd_pop = 15\n",
    "\n",
    "mean_sample = mean_pop * n\n",
    "sd_sample = math.sqrt(n) * sd_pop\n",
    "\n",
    "print(round(clf(max, mean_sample, sd_sample), 4))"
   ]
  },
  {
   "cell_type": "code",
   "execution_count": 6,
   "id": "b6b7a74f",
   "metadata": {},
   "outputs": [
    {
     "name": "stdout",
     "output_type": "stream",
     "text": [
      "0.6915\n"
     ]
    }
   ],
   "source": [
    "import math\n",
    "\n",
    "def clf(x, mean, sd):\n",
    "  return 0.5 * (1 + math.erf((x - mean) / (sd * (2 ** 0.5))))\n",
    "\n",
    "\n",
    "nb_tickets = 250\n",
    "nb_students = 100\n",
    "mean = 2.4\n",
    "std = 2.0\n",
    "\n",
    "mean_sample = mean * nb_students\n",
    "sd_sample = std * math.sqrt(nb_students)\n",
    "\n",
    "print(round(clf(nb_tickets, mean_sample, sd_sample), 4))"
   ]
  },
  {
   "cell_type": "code",
   "execution_count": 11,
   "id": "db11900c",
   "metadata": {},
   "outputs": [
    {
     "name": "stdout",
     "output_type": "stream",
     "text": [
      "100\n",
      "500\n",
      "80\n",
      "0.95\n",
      "1.96\n",
      "484.32\n",
      "515.68\n"
     ]
    }
   ],
   "source": [
    "from math import sqrt\n",
    "\n",
    "s = int(input())\n",
    "mean = int(input())\n",
    "std = int(input())\n",
    "interval = float(input())\n",
    "z = float(input())\n",
    "print(round(mean - (std / sqrt(s)) * z, 2))\n",
    "print(round(mean + (std / sqrt(s)) * z, 2))"
   ]
  },
  {
   "cell_type": "markdown",
   "id": "8e2241d4",
   "metadata": {},
   "source": [
    "Pearson Correlation Coefficient I"
   ]
  },
  {
   "cell_type": "code",
   "execution_count": 12,
   "id": "c20cfc12",
   "metadata": {},
   "outputs": [
    {
     "name": "stdout",
     "output_type": "stream",
     "text": [
      "3\n",
      "10.96 5.6 83.5\n",
      "45.5 48.4 65.4\n",
      "0.981\n"
     ]
    }
   ],
   "source": [
    "import statistics as st\n",
    "\n",
    "n=int(input())\n",
    "x=tuple(map(float,input().split()))\n",
    "y=tuple(map(float,input().split()))\n",
    "\n",
    "rho=sum([a*b for a,b in zip([i-st.mean(x) for i in x],[i-st.mean(y) for i in y])])/(n*st.pstdev(x)*st.pstdev(y))   \n",
    "\n",
    "print(round(rho,3))"
   ]
  },
  {
   "cell_type": "markdown",
   "id": "5f883ad6",
   "metadata": {},
   "source": [
    "Least square"
   ]
  },
  {
   "cell_type": "code",
   "execution_count": 13,
   "id": "79a050db",
   "metadata": {},
   "outputs": [
    {
     "name": "stdout",
     "output_type": "stream",
     "text": [
      "8 9\n",
      "76 5\n",
      "45 6\n",
      "45 6 \n",
      "452 6\n",
      "6.501\n"
     ]
    }
   ],
   "source": [
    "n = 5\n",
    "xy = [map(int, input().split()) for _ in range(n)]\n",
    "sx, sy, sx2, sxy = map(sum, zip(*[(x, y, x**2, x * y) for x, y in xy]))\n",
    "b = (n * sxy - sx * sy) / (n * sx2 - sx**2)\n",
    "a = (sy / n) - b * (sx / n)\n",
    "print('{:.3f}'.format(a + b * 80))"
   ]
  },
  {
   "cell_type": "markdown",
   "id": "2e1af798",
   "metadata": {},
   "source": [
    "Multiple liner regression"
   ]
  },
  {
   "cell_type": "code",
   "execution_count": 15,
   "id": "0399fbd6",
   "metadata": {},
   "outputs": [
    {
     "name": "stdout",
     "output_type": "stream",
     "text": [
      "2 2\n",
      "0.18 0.89 109.85\n",
      "1.0 0.26 155.72\n",
      "4\n",
      "0.49 0.18\n",
      "0.57 0.83\n",
      "0.56 0.64\n",
      "0.76 0.18\n",
      "-6.44\n",
      "67.1\n",
      "48.08\n",
      "43.49\n"
     ]
    }
   ],
   "source": [
    "import numpy as np\n",
    "\n",
    "def solve(y, x, x_pred):\n",
    "  # x transpose\n",
    "  x_dash  = x.T\n",
    "  # product of x_dash and x\n",
    "  X       = x_dash.dot(x)\n",
    "  # inverse of X\n",
    "  X_inv   = np.linalg.inv(X)\n",
    "  # producet of X_inv and x_dash\n",
    "  X_final = X_inv.dot(x_dash)\n",
    "  # product of X_final and y i.e B\n",
    "  B       = X_final.dot(y)\n",
    "  # calculate the y_pred\n",
    "  y_pred  = x_pred.dot(B)\n",
    "  return y_pred\n",
    "\n",
    "def main():\n",
    "  m, n = map(int, input().strip().split())\n",
    "  y = []; x = []; x_pred = []\n",
    "  for _ in range(n):\n",
    "    *features, y_val = map(float, input().strip().split())\n",
    "    x.append([1] + features)\n",
    "    y.append(y_val)\n",
    "\n",
    "  for _ in range(int(input())):\n",
    "    features = list(map(float, input().strip().split()))\n",
    "    x_pred.append([1] + features)\n",
    "\n",
    "  y = np.array(y)\n",
    "  x = np.array(x)\n",
    "  x_pred = np.array(x_pred)\n",
    "  answer = solve(y, x, x_pred)\n",
    "  \n",
    "  for num in answer:\n",
    "    print(round(num, 2))\n",
    "\n",
    "if __name__ == \"__main__\":\n",
    "  main()"
   ]
  },
  {
   "cell_type": "code",
   "execution_count": null,
   "id": "607716ec",
   "metadata": {},
   "outputs": [],
   "source": []
  }
 ],
 "metadata": {
  "kernelspec": {
   "display_name": "Python 3",
   "language": "python",
   "name": "python3"
  },
  "language_info": {
   "codemirror_mode": {
    "name": "ipython",
    "version": 3
   },
   "file_extension": ".py",
   "mimetype": "text/x-python",
   "name": "python",
   "nbconvert_exporter": "python",
   "pygments_lexer": "ipython3",
   "version": "3.8.8"
  }
 },
 "nbformat": 4,
 "nbformat_minor": 5
}
