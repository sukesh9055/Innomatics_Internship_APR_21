{
 "cells": [
  {
   "cell_type": "markdown",
   "id": "c747a984",
   "metadata": {},
   "source": [
    "**Importing Libraries**"
   ]
  },
  {
   "cell_type": "code",
   "execution_count": 1,
   "id": "f859478d",
   "metadata": {},
   "outputs": [],
   "source": [
    "import pandas as pd\n",
    "import numpy as np\n",
    "import matplotlib.pyplot as plt\n",
    "import seaborn as sns\n",
    "import warnings\n",
    "import os \n",
    "import random\n",
    "from datetime import datetime\n",
    "from scipy import sparse\n",
    "#from scipy.sparse import csr matrix\n",
    "\n",
    "warnings.filterwarnings('ignore')\n",
    "warnings.simplefilter(action = \"ignore\", category = RuntimeWarning)"
   ]
  },
  {
   "cell_type": "markdown",
   "id": "58bf7233",
   "metadata": {},
   "source": [
    "**Dataset1**"
   ]
  },
  {
   "cell_type": "code",
   "execution_count": 2,
   "id": "9ead163e",
   "metadata": {},
   "outputs": [],
   "source": [
    "df=pd.read_csv('kaggle_visible_evaluation_triplets.txt',sep='\\t', names=['user_id','song_id','frequency'])"
   ]
  },
  {
   "cell_type": "code",
   "execution_count": 3,
   "id": "bf34ab37",
   "metadata": {},
   "outputs": [
    {
     "data": {
      "text/html": [
       "<div>\n",
       "<style scoped>\n",
       "    .dataframe tbody tr th:only-of-type {\n",
       "        vertical-align: middle;\n",
       "    }\n",
       "\n",
       "    .dataframe tbody tr th {\n",
       "        vertical-align: top;\n",
       "    }\n",
       "\n",
       "    .dataframe thead th {\n",
       "        text-align: right;\n",
       "    }\n",
       "</style>\n",
       "<table border=\"1\" class=\"dataframe\">\n",
       "  <thead>\n",
       "    <tr style=\"text-align: right;\">\n",
       "      <th></th>\n",
       "      <th>user_id</th>\n",
       "      <th>song_id</th>\n",
       "      <th>frequency</th>\n",
       "    </tr>\n",
       "  </thead>\n",
       "  <tbody>\n",
       "    <tr>\n",
       "      <th>0</th>\n",
       "      <td>fd50c4007b68a3737fe052d5a4f78ce8aa117f3d</td>\n",
       "      <td>SOBONKR12A58A7A7E0</td>\n",
       "      <td>1</td>\n",
       "    </tr>\n",
       "    <tr>\n",
       "      <th>1</th>\n",
       "      <td>fd50c4007b68a3737fe052d5a4f78ce8aa117f3d</td>\n",
       "      <td>SOEGIYH12A6D4FC0E3</td>\n",
       "      <td>1</td>\n",
       "    </tr>\n",
       "    <tr>\n",
       "      <th>2</th>\n",
       "      <td>fd50c4007b68a3737fe052d5a4f78ce8aa117f3d</td>\n",
       "      <td>SOFLJQZ12A6D4FADA6</td>\n",
       "      <td>1</td>\n",
       "    </tr>\n",
       "    <tr>\n",
       "      <th>3</th>\n",
       "      <td>fd50c4007b68a3737fe052d5a4f78ce8aa117f3d</td>\n",
       "      <td>SOHTKMO12AB01843B0</td>\n",
       "      <td>1</td>\n",
       "    </tr>\n",
       "    <tr>\n",
       "      <th>4</th>\n",
       "      <td>fd50c4007b68a3737fe052d5a4f78ce8aa117f3d</td>\n",
       "      <td>SODQZCY12A6D4F9D11</td>\n",
       "      <td>1</td>\n",
       "    </tr>\n",
       "  </tbody>\n",
       "</table>\n",
       "</div>"
      ],
      "text/plain": [
       "                                    user_id             song_id  frequency\n",
       "0  fd50c4007b68a3737fe052d5a4f78ce8aa117f3d  SOBONKR12A58A7A7E0          1\n",
       "1  fd50c4007b68a3737fe052d5a4f78ce8aa117f3d  SOEGIYH12A6D4FC0E3          1\n",
       "2  fd50c4007b68a3737fe052d5a4f78ce8aa117f3d  SOFLJQZ12A6D4FADA6          1\n",
       "3  fd50c4007b68a3737fe052d5a4f78ce8aa117f3d  SOHTKMO12AB01843B0          1\n",
       "4  fd50c4007b68a3737fe052d5a4f78ce8aa117f3d  SODQZCY12A6D4F9D11          1"
      ]
     },
     "execution_count": 3,
     "metadata": {},
     "output_type": "execute_result"
    }
   ],
   "source": [
    "df.head(5)"
   ]
  },
  {
   "cell_type": "code",
   "execution_count": 4,
   "id": "274c7888",
   "metadata": {},
   "outputs": [
    {
     "data": {
      "text/html": [
       "<div>\n",
       "<style scoped>\n",
       "    .dataframe tbody tr th:only-of-type {\n",
       "        vertical-align: middle;\n",
       "    }\n",
       "\n",
       "    .dataframe tbody tr th {\n",
       "        vertical-align: top;\n",
       "    }\n",
       "\n",
       "    .dataframe thead th {\n",
       "        text-align: right;\n",
       "    }\n",
       "</style>\n",
       "<table border=\"1\" class=\"dataframe\">\n",
       "  <thead>\n",
       "    <tr style=\"text-align: right;\">\n",
       "      <th></th>\n",
       "      <th>frequency</th>\n",
       "    </tr>\n",
       "  </thead>\n",
       "  <tbody>\n",
       "    <tr>\n",
       "      <th>count</th>\n",
       "      <td>1.450933e+06</td>\n",
       "    </tr>\n",
       "    <tr>\n",
       "      <th>mean</th>\n",
       "      <td>3.187149e+00</td>\n",
       "    </tr>\n",
       "    <tr>\n",
       "      <th>std</th>\n",
       "      <td>7.051664e+00</td>\n",
       "    </tr>\n",
       "    <tr>\n",
       "      <th>min</th>\n",
       "      <td>1.000000e+00</td>\n",
       "    </tr>\n",
       "    <tr>\n",
       "      <th>25%</th>\n",
       "      <td>1.000000e+00</td>\n",
       "    </tr>\n",
       "    <tr>\n",
       "      <th>50%</th>\n",
       "      <td>1.000000e+00</td>\n",
       "    </tr>\n",
       "    <tr>\n",
       "      <th>75%</th>\n",
       "      <td>3.000000e+00</td>\n",
       "    </tr>\n",
       "    <tr>\n",
       "      <th>max</th>\n",
       "      <td>9.230000e+02</td>\n",
       "    </tr>\n",
       "  </tbody>\n",
       "</table>\n",
       "</div>"
      ],
      "text/plain": [
       "          frequency\n",
       "count  1.450933e+06\n",
       "mean   3.187149e+00\n",
       "std    7.051664e+00\n",
       "min    1.000000e+00\n",
       "25%    1.000000e+00\n",
       "50%    1.000000e+00\n",
       "75%    3.000000e+00\n",
       "max    9.230000e+02"
      ]
     },
     "execution_count": 4,
     "metadata": {},
     "output_type": "execute_result"
    }
   ],
   "source": [
    "df.describe()"
   ]
  },
  {
   "cell_type": "markdown",
   "id": "c413be65",
   "metadata": {},
   "source": [
    "**Dataset2**"
   ]
  },
  {
   "cell_type": "code",
   "execution_count": 5,
   "id": "5ecd8eb3",
   "metadata": {},
   "outputs": [],
   "source": [
    "df1=pd.read_csv('unique_tracks.txt',sep='<SEP>',names=['track_id', 'song_id', 'artist_name', 'release'])"
   ]
  },
  {
   "cell_type": "code",
   "execution_count": 6,
   "id": "922ef44f",
   "metadata": {},
   "outputs": [
    {
     "data": {
      "text/html": [
       "<div>\n",
       "<style scoped>\n",
       "    .dataframe tbody tr th:only-of-type {\n",
       "        vertical-align: middle;\n",
       "    }\n",
       "\n",
       "    .dataframe tbody tr th {\n",
       "        vertical-align: top;\n",
       "    }\n",
       "\n",
       "    .dataframe thead th {\n",
       "        text-align: right;\n",
       "    }\n",
       "</style>\n",
       "<table border=\"1\" class=\"dataframe\">\n",
       "  <thead>\n",
       "    <tr style=\"text-align: right;\">\n",
       "      <th></th>\n",
       "      <th>track_id</th>\n",
       "      <th>song_id</th>\n",
       "      <th>artist_name</th>\n",
       "      <th>release</th>\n",
       "    </tr>\n",
       "  </thead>\n",
       "  <tbody>\n",
       "    <tr>\n",
       "      <th>0</th>\n",
       "      <td>TRMMMYQ128F932D901</td>\n",
       "      <td>SOQMMHC12AB0180CB8</td>\n",
       "      <td>Faster Pussy cat</td>\n",
       "      <td>Silent Night</td>\n",
       "    </tr>\n",
       "    <tr>\n",
       "      <th>1</th>\n",
       "      <td>TRMMMKD128F425225D</td>\n",
       "      <td>SOVFVAK12A8C1350D9</td>\n",
       "      <td>Karkkiautomaatti</td>\n",
       "      <td>Tanssi vaan</td>\n",
       "    </tr>\n",
       "    <tr>\n",
       "      <th>2</th>\n",
       "      <td>TRMMMRX128F93187D9</td>\n",
       "      <td>SOGTUKN12AB017F4F1</td>\n",
       "      <td>Hudson Mohawke</td>\n",
       "      <td>No One Could Ever</td>\n",
       "    </tr>\n",
       "    <tr>\n",
       "      <th>3</th>\n",
       "      <td>TRMMMCH128F425532C</td>\n",
       "      <td>SOBNYVR12A8C13558C</td>\n",
       "      <td>Yerba Brava</td>\n",
       "      <td>Si Vos Querés</td>\n",
       "    </tr>\n",
       "    <tr>\n",
       "      <th>4</th>\n",
       "      <td>TRMMMWA128F426B589</td>\n",
       "      <td>SOHSBXH12A8C13B0DF</td>\n",
       "      <td>Der Mystic</td>\n",
       "      <td>Tangle Of Aspens</td>\n",
       "    </tr>\n",
       "  </tbody>\n",
       "</table>\n",
       "</div>"
      ],
      "text/plain": [
       "             track_id             song_id       artist_name            release\n",
       "0  TRMMMYQ128F932D901  SOQMMHC12AB0180CB8  Faster Pussy cat       Silent Night\n",
       "1  TRMMMKD128F425225D  SOVFVAK12A8C1350D9  Karkkiautomaatti        Tanssi vaan\n",
       "2  TRMMMRX128F93187D9  SOGTUKN12AB017F4F1    Hudson Mohawke  No One Could Ever\n",
       "3  TRMMMCH128F425532C  SOBNYVR12A8C13558C       Yerba Brava      Si Vos Querés\n",
       "4  TRMMMWA128F426B589  SOHSBXH12A8C13B0DF        Der Mystic   Tangle Of Aspens"
      ]
     },
     "execution_count": 6,
     "metadata": {},
     "output_type": "execute_result"
    }
   ],
   "source": [
    "df1.head(5)"
   ]
  },
  {
   "cell_type": "code",
   "execution_count": 7,
   "id": "d22fc142",
   "metadata": {},
   "outputs": [
    {
     "data": {
      "text/html": [
       "<div>\n",
       "<style scoped>\n",
       "    .dataframe tbody tr th:only-of-type {\n",
       "        vertical-align: middle;\n",
       "    }\n",
       "\n",
       "    .dataframe tbody tr th {\n",
       "        vertical-align: top;\n",
       "    }\n",
       "\n",
       "    .dataframe thead th {\n",
       "        text-align: right;\n",
       "    }\n",
       "</style>\n",
       "<table border=\"1\" class=\"dataframe\">\n",
       "  <thead>\n",
       "    <tr style=\"text-align: right;\">\n",
       "      <th></th>\n",
       "      <th>track_id</th>\n",
       "      <th>song_id</th>\n",
       "      <th>artist_name</th>\n",
       "      <th>release</th>\n",
       "    </tr>\n",
       "  </thead>\n",
       "  <tbody>\n",
       "    <tr>\n",
       "      <th>count</th>\n",
       "      <td>1000000</td>\n",
       "      <td>1000000</td>\n",
       "      <td>1000000</td>\n",
       "      <td>999985</td>\n",
       "    </tr>\n",
       "    <tr>\n",
       "      <th>unique</th>\n",
       "      <td>1000000</td>\n",
       "      <td>999056</td>\n",
       "      <td>72665</td>\n",
       "      <td>702000</td>\n",
       "    </tr>\n",
       "    <tr>\n",
       "      <th>top</th>\n",
       "      <td>TRNTHTS128F9354BCB</td>\n",
       "      <td>SONMIKP12A58A7E1FF</td>\n",
       "      <td>Michael Jackson</td>\n",
       "      <td>Intro</td>\n",
       "    </tr>\n",
       "    <tr>\n",
       "      <th>freq</th>\n",
       "      <td>1</td>\n",
       "      <td>3</td>\n",
       "      <td>194</td>\n",
       "      <td>1511</td>\n",
       "    </tr>\n",
       "  </tbody>\n",
       "</table>\n",
       "</div>"
      ],
      "text/plain": [
       "                  track_id             song_id      artist_name release\n",
       "count              1000000             1000000          1000000  999985\n",
       "unique             1000000              999056            72665  702000\n",
       "top     TRNTHTS128F9354BCB  SONMIKP12A58A7E1FF  Michael Jackson   Intro\n",
       "freq                     1                   3              194    1511"
      ]
     },
     "execution_count": 7,
     "metadata": {},
     "output_type": "execute_result"
    }
   ],
   "source": [
    "df1.describe()"
   ]
  },
  {
   "cell_type": "markdown",
   "id": "616a1e57",
   "metadata": {},
   "source": [
    "**CHECKING MISSING VALUERS AND DUPLICATES**"
   ]
  },
  {
   "cell_type": "code",
   "execution_count": 8,
   "id": "a00adbb5",
   "metadata": {},
   "outputs": [
    {
     "name": "stdout",
     "output_type": "stream",
     "text": [
      "user_id      0\n",
      "song_id      0\n",
      "frequency    0\n",
      "dtype: int64\n",
      "track_id        0\n",
      "song_id         0\n",
      "artist_name     0\n",
      "release        15\n",
      "dtype: int64\n"
     ]
    }
   ],
   "source": [
    "print(df.isna().sum())\n",
    "print(df1.isna().sum())"
   ]
  },
  {
   "cell_type": "code",
   "execution_count": 9,
   "id": "1e73824e",
   "metadata": {},
   "outputs": [
    {
     "data": {
      "text/plain": [
       "0"
      ]
     },
     "execution_count": 9,
     "metadata": {},
     "output_type": "execute_result"
    }
   ],
   "source": [
    "df.duplicated().sum()"
   ]
  },
  {
   "cell_type": "code",
   "execution_count": 10,
   "id": "dfde7842",
   "metadata": {},
   "outputs": [
    {
     "data": {
      "text/plain": [
       "0"
      ]
     },
     "execution_count": 10,
     "metadata": {},
     "output_type": "execute_result"
    }
   ],
   "source": [
    "df1.duplicated().sum()"
   ]
  },
  {
   "cell_type": "code",
   "execution_count": 11,
   "id": "2bfcd827",
   "metadata": {},
   "outputs": [],
   "source": [
    "df.drop_duplicates(inplace=True)"
   ]
  },
  {
   "cell_type": "code",
   "execution_count": 12,
   "id": "12854a79",
   "metadata": {},
   "outputs": [
    {
     "data": {
      "text/plain": [
       "1287727"
      ]
     },
     "execution_count": 12,
     "metadata": {},
     "output_type": "execute_result"
    }
   ],
   "source": [
    "df['song_id'].duplicated().sum()"
   ]
  },
  {
   "cell_type": "code",
   "execution_count": 13,
   "id": "30077e76",
   "metadata": {},
   "outputs": [
    {
     "data": {
      "text/plain": [
       "944"
      ]
     },
     "execution_count": 13,
     "metadata": {},
     "output_type": "execute_result"
    }
   ],
   "source": [
    "df1['song_id'].duplicated().sum()"
   ]
  },
  {
   "cell_type": "markdown",
   "id": "909c873d",
   "metadata": {},
   "source": [
    "**MERGING THE DATA**"
   ]
  },
  {
   "cell_type": "code",
   "execution_count": 14,
   "id": "4c594a66",
   "metadata": {},
   "outputs": [],
   "source": [
    "df2 = pd.merge(df, df1, on='song_id', how='left')"
   ]
  },
  {
   "cell_type": "code",
   "execution_count": 15,
   "id": "66525190",
   "metadata": {},
   "outputs": [],
   "source": [
    "df2.to_csv(r'C:\\Users\\admin\\OneDrive\\Desktop\\kaggle\\original.csv')"
   ]
  },
  {
   "cell_type": "code",
   "execution_count": 16,
   "id": "c18c5df8",
   "metadata": {},
   "outputs": [
    {
     "data": {
      "text/html": [
       "<div>\n",
       "<style scoped>\n",
       "    .dataframe tbody tr th:only-of-type {\n",
       "        vertical-align: middle;\n",
       "    }\n",
       "\n",
       "    .dataframe tbody tr th {\n",
       "        vertical-align: top;\n",
       "    }\n",
       "\n",
       "    .dataframe thead th {\n",
       "        text-align: right;\n",
       "    }\n",
       "</style>\n",
       "<table border=\"1\" class=\"dataframe\">\n",
       "  <thead>\n",
       "    <tr style=\"text-align: right;\">\n",
       "      <th></th>\n",
       "      <th>user_id</th>\n",
       "      <th>song_id</th>\n",
       "      <th>frequency</th>\n",
       "      <th>track_id</th>\n",
       "      <th>artist_name</th>\n",
       "      <th>release</th>\n",
       "    </tr>\n",
       "  </thead>\n",
       "  <tbody>\n",
       "    <tr>\n",
       "      <th>0</th>\n",
       "      <td>fd50c4007b68a3737fe052d5a4f78ce8aa117f3d</td>\n",
       "      <td>SOBONKR12A58A7A7E0</td>\n",
       "      <td>1</td>\n",
       "      <td>TRAEHHJ12903CF492F</td>\n",
       "      <td>Dwight Yoakam</td>\n",
       "      <td>You're The One</td>\n",
       "    </tr>\n",
       "    <tr>\n",
       "      <th>1</th>\n",
       "      <td>fd50c4007b68a3737fe052d5a4f78ce8aa117f3d</td>\n",
       "      <td>SOEGIYH12A6D4FC0E3</td>\n",
       "      <td>1</td>\n",
       "      <td>TRLGMFJ128F4217DBE</td>\n",
       "      <td>Barry Tuckwell/Academy of St Martin-in-the-Fie...</td>\n",
       "      <td>Horn Concerto No. 4 in E flat K495: II. Romanc...</td>\n",
       "    </tr>\n",
       "    <tr>\n",
       "      <th>2</th>\n",
       "      <td>fd50c4007b68a3737fe052d5a4f78ce8aa117f3d</td>\n",
       "      <td>SOFLJQZ12A6D4FADA6</td>\n",
       "      <td>1</td>\n",
       "      <td>TRTNDNE128F1486812</td>\n",
       "      <td>Cartola</td>\n",
       "      <td>Tive Sim</td>\n",
       "    </tr>\n",
       "    <tr>\n",
       "      <th>3</th>\n",
       "      <td>fd50c4007b68a3737fe052d5a4f78ce8aa117f3d</td>\n",
       "      <td>SOHTKMO12AB01843B0</td>\n",
       "      <td>1</td>\n",
       "      <td>TRASTUE128F930D488</td>\n",
       "      <td>Lonnie Gordon</td>\n",
       "      <td>Catch You Baby (Steve Pitron &amp; Max Sanna Radio...</td>\n",
       "    </tr>\n",
       "    <tr>\n",
       "      <th>4</th>\n",
       "      <td>fd50c4007b68a3737fe052d5a4f78ce8aa117f3d</td>\n",
       "      <td>SODQZCY12A6D4F9D11</td>\n",
       "      <td>1</td>\n",
       "      <td>TRFPLWO128F1486B9E</td>\n",
       "      <td>Miguel Calo</td>\n",
       "      <td>El Cuatrero</td>\n",
       "    </tr>\n",
       "    <tr>\n",
       "      <th>5</th>\n",
       "      <td>fd50c4007b68a3737fe052d5a4f78ce8aa117f3d</td>\n",
       "      <td>SOXLOQG12AF72A2D55</td>\n",
       "      <td>1</td>\n",
       "      <td>TRWBSCZ128F932F2F9</td>\n",
       "      <td>Beastie Boys</td>\n",
       "      <td>Unite (2009 Digital Remaster)</td>\n",
       "    </tr>\n",
       "    <tr>\n",
       "      <th>6</th>\n",
       "      <td>d7083f5e1d50c264277d624340edaaf3dc16095b</td>\n",
       "      <td>SOUVUHC12A67020E3B</td>\n",
       "      <td>1</td>\n",
       "      <td>TRCQXMT128E0786397</td>\n",
       "      <td>Moby</td>\n",
       "      <td>Lift Me Up</td>\n",
       "    </tr>\n",
       "    <tr>\n",
       "      <th>7</th>\n",
       "      <td>d7083f5e1d50c264277d624340edaaf3dc16095b</td>\n",
       "      <td>SOUQERE12A58A75633</td>\n",
       "      <td>1</td>\n",
       "      <td>TRZLFVB128F429FED0</td>\n",
       "      <td>Guano Apes</td>\n",
       "      <td>Living In A Lie</td>\n",
       "    </tr>\n",
       "    <tr>\n",
       "      <th>8</th>\n",
       "      <td>d7083f5e1d50c264277d624340edaaf3dc16095b</td>\n",
       "      <td>SOIPJAX12A8C141A2D</td>\n",
       "      <td>1</td>\n",
       "      <td>TRIKCQI128F92DDC16</td>\n",
       "      <td>Guano Apes</td>\n",
       "      <td>Open Your Eyes</td>\n",
       "    </tr>\n",
       "    <tr>\n",
       "      <th>9</th>\n",
       "      <td>d7083f5e1d50c264277d624340edaaf3dc16095b</td>\n",
       "      <td>SOEFCDJ12AB0185FA0</td>\n",
       "      <td>2</td>\n",
       "      <td>TRTBQQG128F9339E23</td>\n",
       "      <td>UDG</td>\n",
       "      <td>Kurtizana</td>\n",
       "    </tr>\n",
       "    <tr>\n",
       "      <th>10</th>\n",
       "      <td>d7083f5e1d50c264277d624340edaaf3dc16095b</td>\n",
       "      <td>SOATCSU12A8C13393A</td>\n",
       "      <td>1</td>\n",
       "      <td>TRXNEZC128F42633B8</td>\n",
       "      <td>moe.</td>\n",
       "      <td>Happy Hour Hero</td>\n",
       "    </tr>\n",
       "    <tr>\n",
       "      <th>11</th>\n",
       "      <td>d7083f5e1d50c264277d624340edaaf3dc16095b</td>\n",
       "      <td>SOZPZGN12A8C135B45</td>\n",
       "      <td>1</td>\n",
       "      <td>TRJSZYC128F426DBBB</td>\n",
       "      <td>Bahramji &amp; Maneesh De Moor</td>\n",
       "      <td>Dreamcatcher</td>\n",
       "    </tr>\n",
       "    <tr>\n",
       "      <th>12</th>\n",
       "      <td>d7083f5e1d50c264277d624340edaaf3dc16095b</td>\n",
       "      <td>SOPFVWP12A6D4FC636</td>\n",
       "      <td>1</td>\n",
       "      <td>TRJQUWB128F14ADBF7</td>\n",
       "      <td>Michael Card</td>\n",
       "      <td>Sleep Sound In Jesus</td>\n",
       "    </tr>\n",
       "    <tr>\n",
       "      <th>13</th>\n",
       "      <td>d7083f5e1d50c264277d624340edaaf3dc16095b</td>\n",
       "      <td>SOHEKND12A8AE481D0</td>\n",
       "      <td>1</td>\n",
       "      <td>TRXRJTW12903CBB252</td>\n",
       "      <td>Jamiroquai</td>\n",
       "      <td>Space Cowboy</td>\n",
       "    </tr>\n",
       "    <tr>\n",
       "      <th>14</th>\n",
       "      <td>d7083f5e1d50c264277d624340edaaf3dc16095b</td>\n",
       "      <td>SOPSVVG12A8C13B444</td>\n",
       "      <td>1</td>\n",
       "      <td>TRUSGYE128F429FED8</td>\n",
       "      <td>Guano Apes</td>\n",
       "      <td>Mine All Mine</td>\n",
       "    </tr>\n",
       "  </tbody>\n",
       "</table>\n",
       "</div>"
      ],
      "text/plain": [
       "                                     user_id             song_id  frequency  \\\n",
       "0   fd50c4007b68a3737fe052d5a4f78ce8aa117f3d  SOBONKR12A58A7A7E0          1   \n",
       "1   fd50c4007b68a3737fe052d5a4f78ce8aa117f3d  SOEGIYH12A6D4FC0E3          1   \n",
       "2   fd50c4007b68a3737fe052d5a4f78ce8aa117f3d  SOFLJQZ12A6D4FADA6          1   \n",
       "3   fd50c4007b68a3737fe052d5a4f78ce8aa117f3d  SOHTKMO12AB01843B0          1   \n",
       "4   fd50c4007b68a3737fe052d5a4f78ce8aa117f3d  SODQZCY12A6D4F9D11          1   \n",
       "5   fd50c4007b68a3737fe052d5a4f78ce8aa117f3d  SOXLOQG12AF72A2D55          1   \n",
       "6   d7083f5e1d50c264277d624340edaaf3dc16095b  SOUVUHC12A67020E3B          1   \n",
       "7   d7083f5e1d50c264277d624340edaaf3dc16095b  SOUQERE12A58A75633          1   \n",
       "8   d7083f5e1d50c264277d624340edaaf3dc16095b  SOIPJAX12A8C141A2D          1   \n",
       "9   d7083f5e1d50c264277d624340edaaf3dc16095b  SOEFCDJ12AB0185FA0          2   \n",
       "10  d7083f5e1d50c264277d624340edaaf3dc16095b  SOATCSU12A8C13393A          1   \n",
       "11  d7083f5e1d50c264277d624340edaaf3dc16095b  SOZPZGN12A8C135B45          1   \n",
       "12  d7083f5e1d50c264277d624340edaaf3dc16095b  SOPFVWP12A6D4FC636          1   \n",
       "13  d7083f5e1d50c264277d624340edaaf3dc16095b  SOHEKND12A8AE481D0          1   \n",
       "14  d7083f5e1d50c264277d624340edaaf3dc16095b  SOPSVVG12A8C13B444          1   \n",
       "\n",
       "              track_id                                        artist_name  \\\n",
       "0   TRAEHHJ12903CF492F                                      Dwight Yoakam   \n",
       "1   TRLGMFJ128F4217DBE  Barry Tuckwell/Academy of St Martin-in-the-Fie...   \n",
       "2   TRTNDNE128F1486812                                            Cartola   \n",
       "3   TRASTUE128F930D488                                      Lonnie Gordon   \n",
       "4   TRFPLWO128F1486B9E                                        Miguel Calo   \n",
       "5   TRWBSCZ128F932F2F9                                       Beastie Boys   \n",
       "6   TRCQXMT128E0786397                                               Moby   \n",
       "7   TRZLFVB128F429FED0                                         Guano Apes   \n",
       "8   TRIKCQI128F92DDC16                                         Guano Apes   \n",
       "9   TRTBQQG128F9339E23                                                UDG   \n",
       "10  TRXNEZC128F42633B8                                               moe.   \n",
       "11  TRJSZYC128F426DBBB                         Bahramji & Maneesh De Moor   \n",
       "12  TRJQUWB128F14ADBF7                                       Michael Card   \n",
       "13  TRXRJTW12903CBB252                                         Jamiroquai   \n",
       "14  TRUSGYE128F429FED8                                         Guano Apes   \n",
       "\n",
       "                                              release  \n",
       "0                                      You're The One  \n",
       "1   Horn Concerto No. 4 in E flat K495: II. Romanc...  \n",
       "2                                            Tive Sim  \n",
       "3   Catch You Baby (Steve Pitron & Max Sanna Radio...  \n",
       "4                                         El Cuatrero  \n",
       "5                       Unite (2009 Digital Remaster)  \n",
       "6                                          Lift Me Up  \n",
       "7                                     Living In A Lie  \n",
       "8                                      Open Your Eyes  \n",
       "9                                           Kurtizana  \n",
       "10                                    Happy Hour Hero  \n",
       "11                                       Dreamcatcher  \n",
       "12                               Sleep Sound In Jesus  \n",
       "13                                       Space Cowboy  \n",
       "14                                      Mine All Mine  "
      ]
     },
     "execution_count": 16,
     "metadata": {},
     "output_type": "execute_result"
    }
   ],
   "source": [
    "df2.head(15)"
   ]
  },
  {
   "cell_type": "code",
   "execution_count": 17,
   "id": "d69fa42f",
   "metadata": {},
   "outputs": [
    {
     "data": {
      "text/plain": [
       "(1491952, 6)"
      ]
     },
     "execution_count": 17,
     "metadata": {},
     "output_type": "execute_result"
    }
   ],
   "source": [
    "df2.shape"
   ]
  },
  {
   "cell_type": "code",
   "execution_count": 18,
   "id": "d4dbe77a",
   "metadata": {},
   "outputs": [
    {
     "data": {
      "text/html": [
       "<div>\n",
       "<style scoped>\n",
       "    .dataframe tbody tr th:only-of-type {\n",
       "        vertical-align: middle;\n",
       "    }\n",
       "\n",
       "    .dataframe tbody tr th {\n",
       "        vertical-align: top;\n",
       "    }\n",
       "\n",
       "    .dataframe thead th {\n",
       "        text-align: right;\n",
       "    }\n",
       "</style>\n",
       "<table border=\"1\" class=\"dataframe\">\n",
       "  <thead>\n",
       "    <tr style=\"text-align: right;\">\n",
       "      <th></th>\n",
       "      <th>frequency</th>\n",
       "    </tr>\n",
       "  </thead>\n",
       "  <tbody>\n",
       "    <tr>\n",
       "      <th>count</th>\n",
       "      <td>1.491952e+06</td>\n",
       "    </tr>\n",
       "    <tr>\n",
       "      <th>mean</th>\n",
       "      <td>3.179719e+00</td>\n",
       "    </tr>\n",
       "    <tr>\n",
       "      <th>std</th>\n",
       "      <td>7.015023e+00</td>\n",
       "    </tr>\n",
       "    <tr>\n",
       "      <th>min</th>\n",
       "      <td>1.000000e+00</td>\n",
       "    </tr>\n",
       "    <tr>\n",
       "      <th>25%</th>\n",
       "      <td>1.000000e+00</td>\n",
       "    </tr>\n",
       "    <tr>\n",
       "      <th>50%</th>\n",
       "      <td>1.000000e+00</td>\n",
       "    </tr>\n",
       "    <tr>\n",
       "      <th>75%</th>\n",
       "      <td>3.000000e+00</td>\n",
       "    </tr>\n",
       "    <tr>\n",
       "      <th>max</th>\n",
       "      <td>9.230000e+02</td>\n",
       "    </tr>\n",
       "  </tbody>\n",
       "</table>\n",
       "</div>"
      ],
      "text/plain": [
       "          frequency\n",
       "count  1.491952e+06\n",
       "mean   3.179719e+00\n",
       "std    7.015023e+00\n",
       "min    1.000000e+00\n",
       "25%    1.000000e+00\n",
       "50%    1.000000e+00\n",
       "75%    3.000000e+00\n",
       "max    9.230000e+02"
      ]
     },
     "execution_count": 18,
     "metadata": {},
     "output_type": "execute_result"
    }
   ],
   "source": [
    "df2.describe()"
   ]
  },
  {
   "cell_type": "markdown",
   "id": "c773338c",
   "metadata": {},
   "source": [
    "**Basic stastistics**"
   ]
  },
  {
   "cell_type": "code",
   "execution_count": 19,
   "id": "adb67994",
   "metadata": {},
   "outputs": [
    {
     "name": "stdout",
     "output_type": "stream",
     "text": [
      "Total no of uniques 1491952\n",
      "Total no of users: 110000\n",
      "Total no of songs: 163206\n",
      "Total no of frequency: 299\n",
      "Total no of track: 163828\n",
      "Total no of artist name: 28367\n",
      "Total no of release: 137671\n"
     ]
    }
   ],
   "source": [
    "print(\"Total no of uniques\",df2.shape[0])\n",
    "print('Total no of users:',df2['user_id'].unique().shape[0])\n",
    "print('Total no of songs:',df2['song_id'].unique().shape[0])\n",
    "print('Total no of frequency:',df2['frequency'].unique().shape[0])\n",
    "print('Total no of track:',df2['track_id'].unique().shape[0])\n",
    "print('Total no of artist name:',df2['artist_name'].unique().shape[0])\n",
    "print('Total no of release:',df2['release'].unique().shape[0])"
   ]
  },
  {
   "cell_type": "code",
   "execution_count": 20,
   "id": "bb85369e",
   "metadata": {},
   "outputs": [
    {
     "data": {
      "text/html": [
       "<div>\n",
       "<style scoped>\n",
       "    .dataframe tbody tr th:only-of-type {\n",
       "        vertical-align: middle;\n",
       "    }\n",
       "\n",
       "    .dataframe tbody tr th {\n",
       "        vertical-align: top;\n",
       "    }\n",
       "\n",
       "    .dataframe thead th {\n",
       "        text-align: right;\n",
       "    }\n",
       "</style>\n",
       "<table border=\"1\" class=\"dataframe\">\n",
       "  <thead>\n",
       "    <tr style=\"text-align: right;\">\n",
       "      <th></th>\n",
       "      <th>user_id</th>\n",
       "      <th>song_id</th>\n",
       "      <th>frequency</th>\n",
       "      <th>track_id</th>\n",
       "      <th>artist_name</th>\n",
       "      <th>release</th>\n",
       "    </tr>\n",
       "  </thead>\n",
       "  <tbody>\n",
       "    <tr>\n",
       "      <th>count</th>\n",
       "      <td>1491952</td>\n",
       "      <td>1491952</td>\n",
       "      <td>1.491952e+06</td>\n",
       "      <td>1491952</td>\n",
       "      <td>1491952</td>\n",
       "      <td>1491951</td>\n",
       "    </tr>\n",
       "    <tr>\n",
       "      <th>unique</th>\n",
       "      <td>110000</td>\n",
       "      <td>163206</td>\n",
       "      <td>NaN</td>\n",
       "      <td>163828</td>\n",
       "      <td>28367</td>\n",
       "      <td>137670</td>\n",
       "    </tr>\n",
       "    <tr>\n",
       "      <th>top</th>\n",
       "      <td>316110734d8da7478cc33237458814f770a9eb7a</td>\n",
       "      <td>SOFRQTD12A81C233C0</td>\n",
       "      <td>NaN</td>\n",
       "      <td>TRDMBIJ128F4290431</td>\n",
       "      <td>Coldplay</td>\n",
       "      <td>Sehr kosmisch</td>\n",
       "    </tr>\n",
       "    <tr>\n",
       "      <th>freq</th>\n",
       "      <td>57</td>\n",
       "      <td>5043</td>\n",
       "      <td>NaN</td>\n",
       "      <td>5043</td>\n",
       "      <td>13675</td>\n",
       "      <td>5043</td>\n",
       "    </tr>\n",
       "    <tr>\n",
       "      <th>mean</th>\n",
       "      <td>NaN</td>\n",
       "      <td>NaN</td>\n",
       "      <td>3.179719e+00</td>\n",
       "      <td>NaN</td>\n",
       "      <td>NaN</td>\n",
       "      <td>NaN</td>\n",
       "    </tr>\n",
       "    <tr>\n",
       "      <th>std</th>\n",
       "      <td>NaN</td>\n",
       "      <td>NaN</td>\n",
       "      <td>7.015023e+00</td>\n",
       "      <td>NaN</td>\n",
       "      <td>NaN</td>\n",
       "      <td>NaN</td>\n",
       "    </tr>\n",
       "    <tr>\n",
       "      <th>min</th>\n",
       "      <td>NaN</td>\n",
       "      <td>NaN</td>\n",
       "      <td>1.000000e+00</td>\n",
       "      <td>NaN</td>\n",
       "      <td>NaN</td>\n",
       "      <td>NaN</td>\n",
       "    </tr>\n",
       "    <tr>\n",
       "      <th>25%</th>\n",
       "      <td>NaN</td>\n",
       "      <td>NaN</td>\n",
       "      <td>1.000000e+00</td>\n",
       "      <td>NaN</td>\n",
       "      <td>NaN</td>\n",
       "      <td>NaN</td>\n",
       "    </tr>\n",
       "    <tr>\n",
       "      <th>50%</th>\n",
       "      <td>NaN</td>\n",
       "      <td>NaN</td>\n",
       "      <td>1.000000e+00</td>\n",
       "      <td>NaN</td>\n",
       "      <td>NaN</td>\n",
       "      <td>NaN</td>\n",
       "    </tr>\n",
       "    <tr>\n",
       "      <th>75%</th>\n",
       "      <td>NaN</td>\n",
       "      <td>NaN</td>\n",
       "      <td>3.000000e+00</td>\n",
       "      <td>NaN</td>\n",
       "      <td>NaN</td>\n",
       "      <td>NaN</td>\n",
       "    </tr>\n",
       "    <tr>\n",
       "      <th>max</th>\n",
       "      <td>NaN</td>\n",
       "      <td>NaN</td>\n",
       "      <td>9.230000e+02</td>\n",
       "      <td>NaN</td>\n",
       "      <td>NaN</td>\n",
       "      <td>NaN</td>\n",
       "    </tr>\n",
       "  </tbody>\n",
       "</table>\n",
       "</div>"
      ],
      "text/plain": [
       "                                         user_id             song_id  \\\n",
       "count                                    1491952             1491952   \n",
       "unique                                    110000              163206   \n",
       "top     316110734d8da7478cc33237458814f770a9eb7a  SOFRQTD12A81C233C0   \n",
       "freq                                          57                5043   \n",
       "mean                                         NaN                 NaN   \n",
       "std                                          NaN                 NaN   \n",
       "min                                          NaN                 NaN   \n",
       "25%                                          NaN                 NaN   \n",
       "50%                                          NaN                 NaN   \n",
       "75%                                          NaN                 NaN   \n",
       "max                                          NaN                 NaN   \n",
       "\n",
       "           frequency            track_id artist_name        release  \n",
       "count   1.491952e+06             1491952     1491952        1491951  \n",
       "unique           NaN              163828       28367         137670  \n",
       "top              NaN  TRDMBIJ128F4290431    Coldplay  Sehr kosmisch  \n",
       "freq             NaN                5043       13675           5043  \n",
       "mean    3.179719e+00                 NaN         NaN            NaN  \n",
       "std     7.015023e+00                 NaN         NaN            NaN  \n",
       "min     1.000000e+00                 NaN         NaN            NaN  \n",
       "25%     1.000000e+00                 NaN         NaN            NaN  \n",
       "50%     1.000000e+00                 NaN         NaN            NaN  \n",
       "75%     3.000000e+00                 NaN         NaN            NaN  \n",
       "max     9.230000e+02                 NaN         NaN            NaN  "
      ]
     },
     "execution_count": 20,
     "metadata": {},
     "output_type": "execute_result"
    }
   ],
   "source": [
    "df2.describe(include='all')"
   ]
  },
  {
   "cell_type": "markdown",
   "id": "eae57ab2",
   "metadata": {},
   "source": [
    "**Frequency of distribution**"
   ]
  },
  {
   "cell_type": "code",
   "execution_count": 21,
   "id": "84e83aaf",
   "metadata": {},
   "outputs": [
    {
     "data": {
      "text/plain": [
       "<matplotlib.legend.Legend at 0x29b809d6df0>"
      ]
     },
     "execution_count": 21,
     "metadata": {},
     "output_type": "execute_result"
    },
    {
     "data": {
      "image/png": "[encoded data removed]",
      "text/plain": [
       "<Figure size 432x288 with 1 Axes>"
      ]
     },
     "metadata": {
      "needs_background": "light"
     },
     "output_type": "display_data"
    }
   ],
   "source": [
    "sns.distplot(df2[\"frequency\"])\n",
    "plt.axvline(x=np.mean(df[\"frequency\"]),c=\"red\",ls=\"--\",label=\"mean\")\n",
    "plt.axvline(x=np.percentile(df[\"frequency\"],25),c=\"red\",ls=\"--\",label=\"25-75\")\n",
    "plt.axvline(x=np.percentile(df[\"frequency\"],75),c=\"green\",ls=\"--\")\n",
    "plt.legend()"
   ]
  },
  {
   "cell_type": "code",
   "execution_count": 22,
   "id": "2ed8622e",
   "metadata": {},
   "outputs": [
    {
     "data": {
      "text/plain": [
       "[<matplotlib.lines.Line2D at 0x29b80da9760>]"
      ]
     },
     "execution_count": 22,
     "metadata": {},
     "output_type": "execute_result"
    },
    {
     "data": {
      "image/png": "[encoded data removed]",
      "text/plain": [
       "<Figure size 432x288 with 1 Axes>"
      ]
     },
     "metadata": {
      "needs_background": "light"
     },
     "output_type": "display_data"
    }
   ],
   "source": [
    "plt.plot(df2['frequency'])"
   ]
  },
  {
   "cell_type": "code",
   "execution_count": 23,
   "id": "234ef85c",
   "metadata": {},
   "outputs": [
    {
     "data": {
      "text/plain": [
       "<matplotlib.axes._subplots.AxesSubplot at 0x29b82d02f70>"
      ]
     },
     "execution_count": 23,
     "metadata": {},
     "output_type": "execute_result"
    },
    {
     "data": {
      "image/png": "[encoded data removed]",
      "text/plain": [
       "<Figure size 432x288 with 1 Axes>"
      ]
     },
     "metadata": {
      "needs_background": "light"
     },
     "output_type": "display_data"
    }
   ],
   "source": [
    "sns.distplot(df['frequency'],bins=299,kde=True,color='red')"
   ]
  },
  {
   "cell_type": "markdown",
   "id": "77734220",
   "metadata": {},
   "source": [
    "**TOP 10 SONGS REPEATED**"
   ]
  },
  {
   "cell_type": "code",
   "execution_count": 24,
   "id": "c33ad548",
   "metadata": {},
   "outputs": [
    {
     "name": "stdout",
     "output_type": "stream",
     "text": [
      "Top 10 songs repeated\n"
     ]
    },
    {
     "data": {
      "text/plain": [
       "SOFRQTD12A81C233C0    5043\n",
       "SOAUWYT12A81C206F1    4483\n",
       "SOBONKR12A58A7A7E0    4136\n",
       "SOAXGDH12A8C13F8A1    3780\n",
       "SOSXLTC12AF72A7F54    3672\n",
       "SONYKOW12AB01849C9    3430\n",
       "SOEGIYH12A6D4FC0E3    3272\n",
       "SODJWHY12A8C142CCE    2791\n",
       "SOLFXKT12AB017E3E0    2725\n",
       "SOFLJQZ12A6D4FADA6    2668\n",
       "Name: song_id, dtype: int64"
      ]
     },
     "execution_count": 24,
     "metadata": {},
     "output_type": "execute_result"
    }
   ],
   "source": [
    "print(\"Top 10 songs repeated\")\n",
    "df.song_id.value_counts()[:10]"
   ]
  },
  {
   "cell_type": "markdown",
   "id": "57a49c19",
   "metadata": {},
   "source": [
    "**NO OF SONGS LISTENED**"
   ]
  },
  {
   "cell_type": "code",
   "execution_count": 25,
   "id": "77306d84",
   "metadata": {},
   "outputs": [
    {
     "data": {
      "text/plain": [
       "array(['fd50c4007b68a3737fe052d5a4f78ce8aa117f3d',\n",
       "       'd7083f5e1d50c264277d624340edaaf3dc16095b',\n",
       "       'd68dc6fc25248234590d7668a11e3335534ae4b4', ...,\n",
       "       'ab79461415bb9db956def3a897886d0754ddddfb',\n",
       "       'fc072bde2043756ea30ff07e4a5311e34825b4df',\n",
       "       '5e650759ebf89012044c6d52121eeada8b0ec814'], dtype=object)"
      ]
     },
     "execution_count": 25,
     "metadata": {},
     "output_type": "execute_result"
    }
   ],
   "source": [
    "df['user_id'].unique()"
   ]
  },
  {
   "cell_type": "code",
   "execution_count": 26,
   "id": "3061a895",
   "metadata": {
    "scrolled": true
   },
   "outputs": [
    {
     "data": {
      "text/plain": [
       "user_id\n",
       "00007a02388c208ea7176479f6ae06f8224355b3     9\n",
       "00014a76ed063e1a749171a253bca9d9a0ff1782    11\n",
       "00015189668691680bb1a2e58afde1541ec92ced    17\n",
       "0001ff7aa2667c8d8b945317b88adaed1c0b9dc2     9\n",
       "00020fcd8b01986a6a85b896ccde6c49f35142ad    32\n",
       "                                            ..\n",
       "fffdef71f13352e9cff769f1d96f5ccf90f8955e     7\n",
       "fffe29116f96c97b47a5dabdd406784ad0ba6f30     6\n",
       "fffe5b73c50c72ca9c54947efac1fcacf59c4a17    23\n",
       "fffed0bee753cd78494011b8b55dafd4f5c7e5ff    13\n",
       "ffff07d7d9bb187aa58c7b81b3d3f35e7cf7c0ee    13\n",
       "Name: song_id, Length: 110000, dtype: int64"
      ]
     },
     "execution_count": 26,
     "metadata": {},
     "output_type": "execute_result"
    }
   ],
   "source": [
    "song_user=df2.groupby('user_id')['song_id'].count()\n",
    "song_user"
   ]
  },
  {
   "cell_type": "code",
   "execution_count": 27,
   "id": "d0e15d85",
   "metadata": {},
   "outputs": [
    {
     "data": {
      "text/plain": [
       "user_id\n",
       "b4f681dac463c297568bffe7f4b646b74a5e6d0d    5\n",
       "1691b9058739f0b88ac2777e5bbffe0e1d400f2d    5\n",
       "d1764e1f4626164793d400b95efb4a5f80a06cf9    5\n",
       "d1776bb80cf8298288974c52f903cc3b9601761a    5\n",
       "98d00906e235bede8d2b14b9cf5b802ee2438231    5\n",
       "Name: song_id, dtype: int64"
      ]
     },
     "execution_count": 27,
     "metadata": {},
     "output_type": "execute_result"
    }
   ],
   "source": [
    "song_user.sort_values().head()"
   ]
  },
  {
   "cell_type": "code",
   "execution_count": 28,
   "id": "148a8ba8",
   "metadata": {
    "scrolled": true
   },
   "outputs": [
    {
     "data": {
      "text/plain": [
       "count    110000.000000\n",
       "mean         13.563200\n",
       "std           8.321648\n",
       "min           5.000000\n",
       "25%           7.000000\n",
       "50%          11.000000\n",
       "75%          18.000000\n",
       "max          57.000000\n",
       "Name: song_id, dtype: float64"
      ]
     },
     "execution_count": 28,
     "metadata": {},
     "output_type": "execute_result"
    }
   ],
   "source": [
    "song_user.describe()"
   ]
  },
  {
   "cell_type": "code",
   "execution_count": 29,
   "id": "c80c3ea2",
   "metadata": {},
   "outputs": [
    {
     "data": {
      "image/png": "[encoded data removed]",
      "text/plain": [
       "<Figure size 432x288 with 1 Axes>"
      ]
     },
     "metadata": {
      "needs_background": "light"
     },
     "output_type": "display_data"
    }
   ],
   "source": [
    "plt.xlabel(\"no of songs per user\")\n",
    "sns.kdeplot(song_user)\n",
    "plt.show()"
   ]
  },
  {
   "cell_type": "code",
   "execution_count": 30,
   "id": "991bf5ff",
   "metadata": {
    "scrolled": true
   },
   "outputs": [
    {
     "name": "stdout",
     "output_type": "stream",
     "text": [
      "{('00007a02388c208ea7176479f6ae06f8224355b3', 1): [742001, 742002, 742003, 742004, 742006, 742008], ('00007a02388c208ea7176479f6ae06f8224355b3', 2): [742005, 742007], ('00007a02388c208ea7176479f6ae06f8224355b3', 3): [742000], ('00014a76ed063e1a749171a253bca9d9a0ff1782', 1): [1471727, 1471729, 1471730, 1471731, 1471732, 1471734, 1471736, 1471737], ('00014a76ed063e1a749171a253bca9d9a0ff1782', 2): [1471728], ('00014a76ed063e1a749171a253bca9d9a0ff1782', 4): [1471735], ('00014a76ed063e1a749171a253bca9d9a0ff1782', 10): [1471733], ('00015189668691680bb1a2e58afde1541ec92ced', 1): [1151290, 1151293], ('00015189668691680bb1a2e58afde1541ec92ced', 2): [1151288, 1151298], ('00015189668691680bb1a2e58afde1541ec92ced', 3): [1151283], ('00015189668691680bb1a2e58afde1541ec92ced', 5): [1151282, 1151284, 1151285, 1151289, 1151296], ('00015189668691680bb1a2e58afde1541ec92ced', 6): [1151294], ('00015189668691680bb1a2e58afde1541ec92ced', 8): [1151295], ('00015189668691680bb1a2e58afde1541ec92ced', 9): [1151286, 1151291], ('00015189668691680bb1a2e58afde1541ec92ced', 10): [1151287, 1151292], ('00015189668691680bb1a2e58afde1541ec92ced', 15): [1151297], ('0001ff7aa2667c8d8b945317b88adaed1c0b9dc2', 1): [1450944, 1450946, 1450948, 1450949, 1450950, 1450951, 1450952], ('0001ff7aa2667c8d8b945317b88adaed1c0b9dc2', 2): [1450945], ('0001ff7aa2667c8d8b945317b88adaed1c0b9dc2', 3): [1450947], ('00020fcd8b01986a6a85b896ccde6c49f35142ad', 1): [1102648, 1102651, 1102652, 1102655, 1102657, 1102658, 1102662, 1102663, 1102665, 1102666, 1102667, 1102669, 1102670, 1102671, 1102672, 1102673, 1102675, 1102676, 1102677, 1102678], ('00020fcd8b01986a6a85b896ccde6c49f35142ad', 2): [1102647, 1102649, 1102650, 1102653, 1102654, 1102656, 1102659, 1102660, 1102661, 1102664, 1102668, 1102674], ('0003477fcf455dc4fcae3d7ca5e329cef811c868', 1): [1215418, 1215419, 1215420, 1215421], ('0003477fcf455dc4fcae3d7ca5e329cef811c868', 3): [1215423], ('0003477fcf455dc4fcae3d7ca5e329cef811c868', 4): [1215422], ('0003798d61a8010dbfd8010180b7107cbbb8a649', 1): [1427074, 1427078, 1427079, 1427080, 1427081, 1427082, 1427085, 1427087, 1427088, 1427089, 1427090, 1427091, 1427092], ('0003798d61a8010dbfd8010180b7107cbbb8a649', 2): [1427071, 1427072, 1427073, 1427075, 1427076, 1427083], ('0003798d61a8010dbfd8010180b7107cbbb8a649', 3): [1427077, 1427086], ('0003798d61a8010dbfd8010180b7107cbbb8a649', 4): [1427084], ('0003d5245414b9c6244046543a06f601bfc97949', 1): [649270, 649271, 649273, 649275, 649279, 649282, 649284, 649288, 649289], ('0003d5245414b9c6244046543a06f601bfc97949', 2): [649280, 649285], ('0003d5245414b9c6244046543a06f601bfc97949', 3): [649272, 649274], ('0003d5245414b9c6244046543a06f601bfc97949', 4): [649278], ('0003d5245414b9c6244046543a06f601bfc97949', 5): [649276, 649281, 649283], ('0003d5245414b9c6244046543a06f601bfc97949', 6): [649286], ('0003d5245414b9c6244046543a06f601bfc97949', 10): [649287], ('0003d5245414b9c6244046543a06f601bfc97949', 11): [649277], ('00040e91f2f614ca2f94ebc558dd0fc53ea2b875', 1): [1289937, 1289938, 1289939, 1289940, 1289941, 1289943, 1289944], ('00040e91f2f614ca2f94ebc558dd0fc53ea2b875', 2): [1289942], ('0004dd6499e2e3f630f070416c437627de60d5c1', 1): [383336, 383337, 383339, 383340, 383345, 383348], ('0004dd6499e2e3f630f070416c437627de60d5c1', 2): [383342, 383344, 383351], ('0004dd6499e2e3f630f070416c437627de60d5c1', 3): [383341, 383343, 383347, 383349, 383350], ('0004dd6499e2e3f630f070416c437627de60d5c1', 5): [383346], ('0004dd6499e2e3f630f070416c437627de60d5c1', 7): [383352], ('0004dd6499e2e3f630f070416c437627de60d5c1', 10): [383335], ('0004dd6499e2e3f630f070416c437627de60d5c1', 27): [383338], ('0005b81b840251543089e816fb790690e3914df2', 1): [1227047, 1227048, 1227049, 1227051, 1227052, 1227053, 1227054, 1227055, 1227056], ('0005b81b840251543089e816fb790690e3914df2', 3): [1227050], ('00061a993bb3add5cc37b2ea28a9552337f2fe4d', 1): [1238417, 1238420, 1238422, 1238427, 1238430, 1238431, 1238433], ('00061a993bb3add5cc37b2ea28a9552337f2fe4d', 2): [1238415, 1238419, 1238421, 1238436], ('00061a993bb3add5cc37b2ea28a9552337f2fe4d', 3): [1238418, 1238423, 1238424, 1238425, 1238426, 1238429, 1238432, 1238434, 1238435], ('00061a993bb3add5cc37b2ea28a9552337f2fe4d', 5): [1238414], ('00061a993bb3add5cc37b2ea28a9552337f2fe4d', 7): [1238428], ('00061a993bb3add5cc37b2ea28a9552337f2fe4d', 11): [1238416], ('0006a8a3733a7009f8bc109ccb3cdb59a19721ad', 1): [1110313, 1110314, 1110316, 1110319, 1110322, 1110323, 1110324, 1110325, 1110327], ('0006a8a3733a7009f8bc109ccb3cdb59a19721ad', 2): [1110317, 1110326, 1110328], ('0006a8a3733a7009f8bc109ccb3cdb59a19721ad', 3): [1110315, 1110320], ('0006a8a3733a7009f8bc109ccb3cdb59a19721ad', 4): [1110318, 1110321], ('0006dfb63a4b7b1790a18c4c92da3b9dbcbc02bb', 1): [248397, 248400, 248401, 248405], ('0006dfb63a4b7b1790a18c4c92da3b9dbcbc02bb', 2): [248404], ('0006dfb63a4b7b1790a18c4c92da3b9dbcbc02bb', 5): [248396], ('0006dfb63a4b7b1790a18c4c92da3b9dbcbc02bb', 7): [248399, 248402, 248403], ('0006dfb63a4b7b1790a18c4c92da3b9dbcbc02bb', 11): [248398], ('00071174209267a7f504e23d0c48d16f820b69e9', 1): [1347367, 1347368, 1347369, 1347370, 1347371, 1347372], ('0007140a3796e901f3190f12e9de6d7548d4ac4a', 1): [889818, 889819, 889821, 889822, 889823, 889824, 889825, 889826, 889828, 889830, 889832, 889833, 889834, 889836], ('0007140a3796e901f3190f12e9de6d7548d4ac4a', 2): [889820, 889827, 889831], ('0007140a3796e901f3190f12e9de6d7548d4ac4a', 3): [889829], ('0007140a3796e901f3190f12e9de6d7548d4ac4a', 12): [889835], ('0007151403610e6b0d8c9c7352b2a72144a212d8', 2): [1299086, 1299089], ('0007151403610e6b0d8c9c7352b2a72144a212d8', 4): [1299088], ('0007151403610e6b0d8c9c7352b2a72144a212d8', 5): [1299085], ('0007151403610e6b0d8c9c7352b2a72144a212d8', 6): [1299087], ('00071b4e8ffb68920638635660f887e8c43a3f36', 1): [338894, 338895, 338896, 338897, 338898, 338901, 338903, 338904], ('00071b4e8ffb68920638635660f887e8c43a3f36', 2): [338902, 338905], ('00071b4e8ffb68920638635660f887e8c43a3f36', 3): [338899], ('00071b4e8ffb68920638635660f887e8c43a3f36', 4): [338892], ('00071b4e8ffb68920638635660f887e8c43a3f36', 5): [338893], ('00071b4e8ffb68920638635660f887e8c43a3f36', 6): [338900], ('000724134199acaa98869fc4ffb805198d2940eb', 1): [1313347, 1313348, 1313349, 1313350, 1313351, 1313352, 1313353, 1313354, 1313355, 1313356, 1313357, 1313359, 1313360, 1313361], ('000724134199acaa98869fc4ffb805198d2940eb', 2): [1313358], ('0007ccf17b03de70b8642e2548fe4c9be3b9e560', 1): [691957, 691958, 691959, 691961, 691962, 691965, 691966, 691969], ('0007ccf17b03de70b8642e2548fe4c9be3b9e560', 2): [691967], ('0007ccf17b03de70b8642e2548fe4c9be3b9e560', 4): [691960], ('0007ccf17b03de70b8642e2548fe4c9be3b9e560', 8): [691964], ('0007ccf17b03de70b8642e2548fe4c9be3b9e560', 10): [691968], ('0007ccf17b03de70b8642e2548fe4c9be3b9e560', 53): [691956], ('0007ccf17b03de70b8642e2548fe4c9be3b9e560', 60): [691963], ('0007e2fe805dd791cd082707a85cd616e7808ea5', 1): [1278563, 1278564, 1278565, 1278566, 1278567, 1278568, 1278569, 1278574, 1278576, 1278577, 1278578, 1278579, 1278580], ('0007e2fe805dd791cd082707a85cd616e7808ea5', 2): [1278570, 1278571, 1278573], ('0007e2fe805dd791cd082707a85cd616e7808ea5', 4): [1278572, 1278575], ('0008c5592e089fff5a99c4bd1ef4c2fc1a7bf2a8', 1): [1476853, 1476854, 1476855, 1476856, 1476858, 1476862, 1476863, 1476864, 1476865], ('0008c5592e089fff5a99c4bd1ef4c2fc1a7bf2a8', 2): [1476857, 1476861], ('0008c5592e089fff5a99c4bd1ef4c2fc1a7bf2a8', 3): [1476866], ('0008c5592e089fff5a99c4bd1ef4c2fc1a7bf2a8', 4): [1476859, 1476860], ('0008c5592e089fff5a99c4bd1ef4c2fc1a7bf2a8', 8): [1476867], ('0008c5592e089fff5a99c4bd1ef4c2fc1a7bf2a8', 9): [1476852], ('000923be99eda0ecf81ca3351794f80dd758f696', 1): [354661, 354664, 354666, 354667, 354675, 354678, 354680, 354683, 354684], ('000923be99eda0ecf81ca3351794f80dd758f696', 2): [354657, 354660], ('000923be99eda0ecf81ca3351794f80dd758f696', 3): [354677], ('000923be99eda0ecf81ca3351794f80dd758f696', 5): [354658, 354665], ('000923be99eda0ecf81ca3351794f80dd758f696', 7): [354662, 354670, 354674, 354676], ...}\n"
     ]
    }
   ],
   "source": [
    "df2.groupby(['user_id', 'frequency'])\n",
    "  \n",
    "print(df2.groupby(['user_id', 'frequency']).groups)"
   ]
  },
  {
   "cell_type": "code",
   "execution_count": 31,
   "id": "f7f1921e",
   "metadata": {},
   "outputs": [],
   "source": [
    "df_group_one = df[['user_id', 'song_id']]"
   ]
  },
  {
   "cell_type": "code",
   "execution_count": 32,
   "id": "64d1316f",
   "metadata": {
    "scrolled": true
   },
   "outputs": [
    {
     "data": {
      "text/plain": [
       "1026279    SOAAAFI12A6D4F9C66\n",
       "1261410    SOAAAFI12A6D4F9C66\n",
       "466551     SOAAAGK12AB0189572\n",
       "294621     SOAAAGQ12A8C1420C8\n",
       "561661     SOAAAGQ12A8C1420C8\n",
       "Name: song_id, dtype: object"
      ]
     },
     "execution_count": 32,
     "metadata": {},
     "output_type": "execute_result"
    }
   ],
   "source": [
    "df_group_one['song_id'].sort_values().head()"
   ]
  },
  {
   "cell_type": "markdown",
   "id": "04361288",
   "metadata": {},
   "source": [
    "**Analysis of famous artist**"
   ]
  },
  {
   "cell_type": "code",
   "execution_count": 33,
   "id": "1d17cead",
   "metadata": {},
   "outputs": [
    {
     "data": {
      "text/plain": [
       "artist_name\n",
       "!!!                     109\n",
       "!Deladap                  3\n",
       "& And Oceans              2\n",
       "'68 Comeback             22\n",
       "'N Sync/Phil Collins     48\n",
       "                       ... \n",
       "Étienne Daho             45\n",
       "Íon                       5\n",
       "Ólafur Arnalds           78\n",
       "Órla Fallon               1\n",
       "Özlem Tekin               1\n",
       "Name: song_id, Length: 28367, dtype: int64"
      ]
     },
     "execution_count": 33,
     "metadata": {},
     "output_type": "execute_result"
    }
   ],
   "source": [
    "artist_song = df2.groupby(\"artist_name\")[\"song_id\"].count()\n",
    "artist_song"
   ]
  },
  {
   "cell_type": "code",
   "execution_count": 34,
   "id": "3e4c980e",
   "metadata": {},
   "outputs": [
    {
     "data": {
      "text/plain": [
       "artist_name\n",
       "Harmonia                   5046\n",
       "Guns N' Roses              5061\n",
       "Björk                      5144\n",
       "Evanescence                5170\n",
       "Daft Punk                  5411\n",
       "John Mayer                 5452\n",
       "The Killers                5721\n",
       "Radiohead                  5764\n",
       "Linkin Park                5846\n",
       "OneRepublic                6027\n",
       "The Black Keys             6507\n",
       "Train                      6617\n",
       "Taylor Swift               7435\n",
       "Jack Johnson               7465\n",
       "Muse                       7916\n",
       "Eminem                     8160\n",
       "Florence + The Machine     8213\n",
       "Justin Bieber              9259\n",
       "Kings Of Leon             11586\n",
       "Coldplay                  13675\n",
       "Name: song_id, dtype: int64"
      ]
     },
     "execution_count": 34,
     "metadata": {},
     "output_type": "execute_result"
    }
   ],
   "source": [
    "artist_song.sort_values().tail(20)"
   ]
  },
  {
   "cell_type": "markdown",
   "id": "1370f17f",
   "metadata": {},
   "source": [
    "**Analysis on Popular Song**"
   ]
  },
  {
   "cell_type": "code",
   "execution_count": 35,
   "id": "ec2d4337",
   "metadata": {},
   "outputs": [
    {
     "data": {
      "text/plain": [
       "release\n",
       "\n",
       "Ef Ég Hefði Aldrei...                                        1\n",
       "\n",
       "Light Mass Prayers                                           4\n",
       "\n",
       "The Arsonist Story\":  Evil Craves Attention/Our Son/10x10    1\n",
       "\n",
       "Ég Átti Gráa Æsku                                            4\n",
       " (Jack The Stripper)                                          2\n",
       "                                                             ..\n",
       "Þú ert jörðin                                                 2\n",
       "Þú ert sólin                                                  2\n",
       "ça Me Fait Du Bien                                            2\n",
       "étienne d'août                                                4\n",
       "þetta Gerist á Bestu Bæjum                                    1\n",
       "Name: track_id, Length: 137670, dtype: int64"
      ]
     },
     "execution_count": 35,
     "metadata": {},
     "output_type": "execute_result"
    }
   ],
   "source": [
    "pop_song = df2.groupby(\"release\")[\"track_id\"].count()\n",
    "pop_song"
   ]
  },
  {
   "cell_type": "code",
   "execution_count": 36,
   "id": "3f673c22",
   "metadata": {},
   "outputs": [
    {
     "data": {
      "text/plain": [
       "user_id        0\n",
       "song_id        0\n",
       "frequency      0\n",
       "track_id       0\n",
       "artist_name    0\n",
       "release        1\n",
       "dtype: int64"
      ]
     },
     "execution_count": 36,
     "metadata": {},
     "output_type": "execute_result"
    }
   ],
   "source": [
    "df2.isnull().sum()"
   ]
  },
  {
   "cell_type": "code",
   "execution_count": 37,
   "id": "449df5be",
   "metadata": {},
   "outputs": [
    {
     "data": {
      "text/plain": [
       "release\n",
       "\n",
       "Ef Ég Hefði Aldrei...       1\n",
       "Makin' me hot                1\n",
       "Makin' Money                 1\n",
       "Makin' Magic                 1\n",
       "Makin' Love To A Murderer    1\n",
       "Name: track_id, dtype: int64"
      ]
     },
     "execution_count": 37,
     "metadata": {},
     "output_type": "execute_result"
    }
   ],
   "source": [
    "pop_song.sort_values().head()"
   ]
  },
  {
   "cell_type": "code",
   "execution_count": 38,
   "id": "4e79c132",
   "metadata": {},
   "outputs": [
    {
     "data": {
      "text/plain": [
       "release\n",
       "Marry Me                                                               2013\n",
       "Bring Me To Life                                                       2046\n",
       "Catch You Baby (Steve Pitron & Max Sanna Radio Edit)                   2097\n",
       "Drop The World                                                         2226\n",
       "OMG                                                                    2260\n",
       "Nothin' On You [feat. Bruno Mars] (Album Version)                      2346\n",
       "Yellow                                                                 2631\n",
       "Love Story                                                             2633\n",
       "Tive Sim                                                               2669\n",
       "Fireflies                                                              2745\n",
       "Hey_ Soul Sister                                                       2791\n",
       "Somebody To Love                                                       3263\n",
       "Horn Concerto No. 4 in E flat K495: II. Romance (Andante cantabile)    3272\n",
       "Secrets                                                                3456\n",
       "Revelry                                                                3672\n",
       "Dog Days Are Over (Radio Edit)                                         3780\n",
       "Use Somebody                                                           3822\n",
       "You're The One                                                         4270\n",
       "Undo                                                                   4483\n",
       "Sehr kosmisch                                                          5043\n",
       "Name: track_id, dtype: int64"
      ]
     },
     "execution_count": 38,
     "metadata": {},
     "output_type": "execute_result"
    }
   ],
   "source": [
    "pop_song.sort_values().tail(20)"
   ]
  },
  {
   "cell_type": "code",
   "execution_count": 39,
   "id": "6229c207",
   "metadata": {},
   "outputs": [
    {
     "data": {
      "image/png": "[encoded data removed]",
      "text/plain": [
       "<Figure size 432x288 with 1 Axes>"
      ]
     },
     "metadata": {
      "needs_background": "light"
     },
     "output_type": "display_data"
    }
   ],
   "source": [
    "sns.kdeplot(data=pop_song)\n",
    "plt.ylabel('Popularity')\n",
    "plt.xlabel('song')\n",
    "plt.show()"
   ]
  },
  {
   "cell_type": "markdown",
   "id": "6828ba61",
   "metadata": {},
   "source": [
    "**HISTOGRAM**"
   ]
  },
  {
   "cell_type": "code",
   "execution_count": 40,
   "id": "602e2bed",
   "metadata": {},
   "outputs": [
    {
     "data": {
      "text/plain": [
       "array([[<matplotlib.axes._subplots.AxesSubplot object at 0x0000029B9C352EB0>]],\n",
       "      dtype=object)"
      ]
     },
     "execution_count": 40,
     "metadata": {},
     "output_type": "execute_result"
    },
    {
     "data": {
      "image/png": "[encoded data removed]",
      "text/plain": [
       "<Figure size 360x360 with 1 Axes>"
      ]
     },
     "metadata": {
      "needs_background": "light"
     },
     "output_type": "display_data"
    }
   ],
   "source": [
    "df.hist(figsize=(5,5),bins=11)"
   ]
  },
  {
   "cell_type": "markdown",
   "id": "a4b7c476",
   "metadata": {},
   "source": [
    "**Small analysis through tableau**"
   ]
  },
  {
   "cell_type": "markdown",
   "id": "c1fb4413",
   "metadata": {},
   "source": [
    "<img src=\"tab.png\" alt=\"Tableau\">"
   ]
  },
  {
   "cell_type": "code",
   "execution_count": null,
   "id": "0973c450",
   "metadata": {},
   "outputs": [],
   "source": []
  }
 ],
 "metadata": {
  "kernelspec": {
   "display_name": "Python 3",
   "language": "python",
   "name": "python3"
  },
  "language_info": {
   "codemirror_mode": {
    "name": "ipython",
    "version": 3
   },
   "file_extension": ".py",
   "mimetype": "text/x-python",
   "name": "python",
   "nbconvert_exporter": "python",
   "pygments_lexer": "ipython3",
   "version": "3.8.8"
  }
 },
 "nbformat": 4,
 "nbformat_minor": 5
}
