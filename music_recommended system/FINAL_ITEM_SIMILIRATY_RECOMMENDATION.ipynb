{
 "cells": [
  {
   "cell_type": "markdown",
   "id": "c747a984",
   "metadata": {},
   "source": [
    "**Importing Libraries**"
   ]
  },
  {
   "cell_type": "code",
   "execution_count": 1,
   "id": "f859478d",
   "metadata": {},
   "outputs": [],
   "source": [
    "import pandas as pd\n",
    "import numpy as np\n",
    "import matplotlib.pyplot as plt\n",
    "import seaborn as sns\n",
    "import warnings\n",
    "import os \n",
    "import random\n",
    "from datetime import datetime\n",
    "from scipy import sparse\n",
    "import Recommenders as Recommenders\n",
    "#from scipy.sparse import csr matrix\n",
    "\n",
    "warnings.filterwarnings('ignore')\n",
    "warnings.simplefilter(action = \"ignore\", category = RuntimeWarning)"
   ]
  },
  {
   "cell_type": "markdown",
   "id": "58bf7233",
   "metadata": {},
   "source": [
    "**Dataset1**"
   ]
  },
  {
   "cell_type": "code",
   "execution_count": 2,
   "id": "9ead163e",
   "metadata": {},
   "outputs": [],
   "source": [
    "df=pd.read_csv('kaggle_visible_evaluation_triplets.txt',sep='\\t', names=['user_id','song_id','frequency'])"
   ]
  },
  {
   "cell_type": "code",
   "execution_count": 3,
   "id": "bf34ab37",
   "metadata": {},
   "outputs": [
    {
     "data": {
      "text/html": [
       "<div>\n",
       "<style scoped>\n",
       "    .dataframe tbody tr th:only-of-type {\n",
       "        vertical-align: middle;\n",
       "    }\n",
       "\n",
       "    .dataframe tbody tr th {\n",
       "        vertical-align: top;\n",
       "    }\n",
       "\n",
       "    .dataframe thead th {\n",
       "        text-align: right;\n",
       "    }\n",
       "</style>\n",
       "<table border=\"1\" class=\"dataframe\">\n",
       "  <thead>\n",
       "    <tr style=\"text-align: right;\">\n",
       "      <th></th>\n",
       "      <th>user_id</th>\n",
       "      <th>song_id</th>\n",
       "      <th>frequency</th>\n",
       "    </tr>\n",
       "  </thead>\n",
       "  <tbody>\n",
       "    <tr>\n",
       "      <th>0</th>\n",
       "      <td>fd50c4007b68a3737fe052d5a4f78ce8aa117f3d</td>\n",
       "      <td>SOBONKR12A58A7A7E0</td>\n",
       "      <td>1</td>\n",
       "    </tr>\n",
       "    <tr>\n",
       "      <th>1</th>\n",
       "      <td>fd50c4007b68a3737fe052d5a4f78ce8aa117f3d</td>\n",
       "      <td>SOEGIYH12A6D4FC0E3</td>\n",
       "      <td>1</td>\n",
       "    </tr>\n",
       "    <tr>\n",
       "      <th>2</th>\n",
       "      <td>fd50c4007b68a3737fe052d5a4f78ce8aa117f3d</td>\n",
       "      <td>SOFLJQZ12A6D4FADA6</td>\n",
       "      <td>1</td>\n",
       "    </tr>\n",
       "    <tr>\n",
       "      <th>3</th>\n",
       "      <td>fd50c4007b68a3737fe052d5a4f78ce8aa117f3d</td>\n",
       "      <td>SOHTKMO12AB01843B0</td>\n",
       "      <td>1</td>\n",
       "    </tr>\n",
       "    <tr>\n",
       "      <th>4</th>\n",
       "      <td>fd50c4007b68a3737fe052d5a4f78ce8aa117f3d</td>\n",
       "      <td>SODQZCY12A6D4F9D11</td>\n",
       "      <td>1</td>\n",
       "    </tr>\n",
       "  </tbody>\n",
       "</table>\n",
       "</div>"
      ],
      "text/plain": [
       "                                    user_id             song_id  frequency\n",
       "0  fd50c4007b68a3737fe052d5a4f78ce8aa117f3d  SOBONKR12A58A7A7E0          1\n",
       "1  fd50c4007b68a3737fe052d5a4f78ce8aa117f3d  SOEGIYH12A6D4FC0E3          1\n",
       "2  fd50c4007b68a3737fe052d5a4f78ce8aa117f3d  SOFLJQZ12A6D4FADA6          1\n",
       "3  fd50c4007b68a3737fe052d5a4f78ce8aa117f3d  SOHTKMO12AB01843B0          1\n",
       "4  fd50c4007b68a3737fe052d5a4f78ce8aa117f3d  SODQZCY12A6D4F9D11          1"
      ]
     },
     "execution_count": 3,
     "metadata": {},
     "output_type": "execute_result"
    }
   ],
   "source": [
    "df.head(5)"
   ]
  },
  {
   "cell_type": "code",
   "execution_count": 4,
   "id": "274c7888",
   "metadata": {},
   "outputs": [
    {
     "data": {
      "text/html": [
       "<div>\n",
       "<style scoped>\n",
       "    .dataframe tbody tr th:only-of-type {\n",
       "        vertical-align: middle;\n",
       "    }\n",
       "\n",
       "    .dataframe tbody tr th {\n",
       "        vertical-align: top;\n",
       "    }\n",
       "\n",
       "    .dataframe thead th {\n",
       "        text-align: right;\n",
       "    }\n",
       "</style>\n",
       "<table border=\"1\" class=\"dataframe\">\n",
       "  <thead>\n",
       "    <tr style=\"text-align: right;\">\n",
       "      <th></th>\n",
       "      <th>frequency</th>\n",
       "    </tr>\n",
       "  </thead>\n",
       "  <tbody>\n",
       "    <tr>\n",
       "      <th>count</th>\n",
       "      <td>1.450933e+06</td>\n",
       "    </tr>\n",
       "    <tr>\n",
       "      <th>mean</th>\n",
       "      <td>3.187149e+00</td>\n",
       "    </tr>\n",
       "    <tr>\n",
       "      <th>std</th>\n",
       "      <td>7.051664e+00</td>\n",
       "    </tr>\n",
       "    <tr>\n",
       "      <th>min</th>\n",
       "      <td>1.000000e+00</td>\n",
       "    </tr>\n",
       "    <tr>\n",
       "      <th>25%</th>\n",
       "      <td>1.000000e+00</td>\n",
       "    </tr>\n",
       "    <tr>\n",
       "      <th>50%</th>\n",
       "      <td>1.000000e+00</td>\n",
       "    </tr>\n",
       "    <tr>\n",
       "      <th>75%</th>\n",
       "      <td>3.000000e+00</td>\n",
       "    </tr>\n",
       "    <tr>\n",
       "      <th>max</th>\n",
       "      <td>9.230000e+02</td>\n",
       "    </tr>\n",
       "  </tbody>\n",
       "</table>\n",
       "</div>"
      ],
      "text/plain": [
       "          frequency\n",
       "count  1.450933e+06\n",
       "mean   3.187149e+00\n",
       "std    7.051664e+00\n",
       "min    1.000000e+00\n",
       "25%    1.000000e+00\n",
       "50%    1.000000e+00\n",
       "75%    3.000000e+00\n",
       "max    9.230000e+02"
      ]
     },
     "execution_count": 4,
     "metadata": {},
     "output_type": "execute_result"
    }
   ],
   "source": [
    "df.describe()"
   ]
  },
  {
   "cell_type": "markdown",
   "id": "c413be65",
   "metadata": {},
   "source": [
    "**Dataset2**"
   ]
  },
  {
   "cell_type": "code",
   "execution_count": 5,
   "id": "5ecd8eb3",
   "metadata": {},
   "outputs": [],
   "source": [
    "df1=pd.read_csv('unique_tracks.txt',sep='<SEP>',names=['track_id', 'song_id', 'artist_name', 'release'])"
   ]
  },
  {
   "cell_type": "code",
   "execution_count": 6,
   "id": "922ef44f",
   "metadata": {},
   "outputs": [
    {
     "data": {
      "text/html": [
       "<div>\n",
       "<style scoped>\n",
       "    .dataframe tbody tr th:only-of-type {\n",
       "        vertical-align: middle;\n",
       "    }\n",
       "\n",
       "    .dataframe tbody tr th {\n",
       "        vertical-align: top;\n",
       "    }\n",
       "\n",
       "    .dataframe thead th {\n",
       "        text-align: right;\n",
       "    }\n",
       "</style>\n",
       "<table border=\"1\" class=\"dataframe\">\n",
       "  <thead>\n",
       "    <tr style=\"text-align: right;\">\n",
       "      <th></th>\n",
       "      <th>track_id</th>\n",
       "      <th>song_id</th>\n",
       "      <th>artist_name</th>\n",
       "      <th>release</th>\n",
       "    </tr>\n",
       "  </thead>\n",
       "  <tbody>\n",
       "    <tr>\n",
       "      <th>0</th>\n",
       "      <td>TRMMMYQ128F932D901</td>\n",
       "      <td>SOQMMHC12AB0180CB8</td>\n",
       "      <td>Faster Pussy cat</td>\n",
       "      <td>Silent Night</td>\n",
       "    </tr>\n",
       "    <tr>\n",
       "      <th>1</th>\n",
       "      <td>TRMMMKD128F425225D</td>\n",
       "      <td>SOVFVAK12A8C1350D9</td>\n",
       "      <td>Karkkiautomaatti</td>\n",
       "      <td>Tanssi vaan</td>\n",
       "    </tr>\n",
       "    <tr>\n",
       "      <th>2</th>\n",
       "      <td>TRMMMRX128F93187D9</td>\n",
       "      <td>SOGTUKN12AB017F4F1</td>\n",
       "      <td>Hudson Mohawke</td>\n",
       "      <td>No One Could Ever</td>\n",
       "    </tr>\n",
       "    <tr>\n",
       "      <th>3</th>\n",
       "      <td>TRMMMCH128F425532C</td>\n",
       "      <td>SOBNYVR12A8C13558C</td>\n",
       "      <td>Yerba Brava</td>\n",
       "      <td>Si Vos Querés</td>\n",
       "    </tr>\n",
       "    <tr>\n",
       "      <th>4</th>\n",
       "      <td>TRMMMWA128F426B589</td>\n",
       "      <td>SOHSBXH12A8C13B0DF</td>\n",
       "      <td>Der Mystic</td>\n",
       "      <td>Tangle Of Aspens</td>\n",
       "    </tr>\n",
       "  </tbody>\n",
       "</table>\n",
       "</div>"
      ],
      "text/plain": [
       "             track_id             song_id       artist_name            release\n",
       "0  TRMMMYQ128F932D901  SOQMMHC12AB0180CB8  Faster Pussy cat       Silent Night\n",
       "1  TRMMMKD128F425225D  SOVFVAK12A8C1350D9  Karkkiautomaatti        Tanssi vaan\n",
       "2  TRMMMRX128F93187D9  SOGTUKN12AB017F4F1    Hudson Mohawke  No One Could Ever\n",
       "3  TRMMMCH128F425532C  SOBNYVR12A8C13558C       Yerba Brava      Si Vos Querés\n",
       "4  TRMMMWA128F426B589  SOHSBXH12A8C13B0DF        Der Mystic   Tangle Of Aspens"
      ]
     },
     "execution_count": 6,
     "metadata": {},
     "output_type": "execute_result"
    }
   ],
   "source": [
    "df1.head(5)"
   ]
  },
  {
   "cell_type": "code",
   "execution_count": 7,
   "id": "d22fc142",
   "metadata": {},
   "outputs": [
    {
     "data": {
      "text/html": [
       "<div>\n",
       "<style scoped>\n",
       "    .dataframe tbody tr th:only-of-type {\n",
       "        vertical-align: middle;\n",
       "    }\n",
       "\n",
       "    .dataframe tbody tr th {\n",
       "        vertical-align: top;\n",
       "    }\n",
       "\n",
       "    .dataframe thead th {\n",
       "        text-align: right;\n",
       "    }\n",
       "</style>\n",
       "<table border=\"1\" class=\"dataframe\">\n",
       "  <thead>\n",
       "    <tr style=\"text-align: right;\">\n",
       "      <th></th>\n",
       "      <th>track_id</th>\n",
       "      <th>song_id</th>\n",
       "      <th>artist_name</th>\n",
       "      <th>release</th>\n",
       "    </tr>\n",
       "  </thead>\n",
       "  <tbody>\n",
       "    <tr>\n",
       "      <th>count</th>\n",
       "      <td>1000000</td>\n",
       "      <td>1000000</td>\n",
       "      <td>1000000</td>\n",
       "      <td>999985</td>\n",
       "    </tr>\n",
       "    <tr>\n",
       "      <th>unique</th>\n",
       "      <td>1000000</td>\n",
       "      <td>999056</td>\n",
       "      <td>72665</td>\n",
       "      <td>702000</td>\n",
       "    </tr>\n",
       "    <tr>\n",
       "      <th>top</th>\n",
       "      <td>TREUDPF12903CB6C6F</td>\n",
       "      <td>SOZBJBH12A8151BD4E</td>\n",
       "      <td>Michael Jackson</td>\n",
       "      <td>Intro</td>\n",
       "    </tr>\n",
       "    <tr>\n",
       "      <th>freq</th>\n",
       "      <td>1</td>\n",
       "      <td>3</td>\n",
       "      <td>194</td>\n",
       "      <td>1511</td>\n",
       "    </tr>\n",
       "  </tbody>\n",
       "</table>\n",
       "</div>"
      ],
      "text/plain": [
       "                  track_id             song_id      artist_name release\n",
       "count              1000000             1000000          1000000  999985\n",
       "unique             1000000              999056            72665  702000\n",
       "top     TREUDPF12903CB6C6F  SOZBJBH12A8151BD4E  Michael Jackson   Intro\n",
       "freq                     1                   3              194    1511"
      ]
     },
     "execution_count": 7,
     "metadata": {},
     "output_type": "execute_result"
    }
   ],
   "source": [
    "df1.describe()"
   ]
  },
  {
   "cell_type": "markdown",
   "id": "616a1e57",
   "metadata": {},
   "source": [
    "**CHECKING MISSING VALUERS AND DUPLICATES**"
   ]
  },
  {
   "cell_type": "code",
   "execution_count": 8,
   "id": "a00adbb5",
   "metadata": {},
   "outputs": [
    {
     "name": "stdout",
     "output_type": "stream",
     "text": [
      "user_id      0\n",
      "song_id      0\n",
      "frequency    0\n",
      "dtype: int64\n",
      "track_id        0\n",
      "song_id         0\n",
      "artist_name     0\n",
      "release        15\n",
      "dtype: int64\n"
     ]
    }
   ],
   "source": [
    "print(df.isna().sum())\n",
    "print(df1.isna().sum())"
   ]
  },
  {
   "cell_type": "code",
   "execution_count": 9,
   "id": "1e73824e",
   "metadata": {},
   "outputs": [
    {
     "data": {
      "text/plain": [
       "0"
      ]
     },
     "execution_count": 9,
     "metadata": {},
     "output_type": "execute_result"
    }
   ],
   "source": [
    "df.duplicated().sum()"
   ]
  },
  {
   "cell_type": "code",
   "execution_count": 10,
   "id": "dfde7842",
   "metadata": {},
   "outputs": [
    {
     "data": {
      "text/plain": [
       "0"
      ]
     },
     "execution_count": 10,
     "metadata": {},
     "output_type": "execute_result"
    }
   ],
   "source": [
    "df1.duplicated().sum()"
   ]
  },
  {
   "cell_type": "code",
   "execution_count": 11,
   "id": "2bfcd827",
   "metadata": {},
   "outputs": [],
   "source": [
    "df.drop_duplicates(inplace=True)"
   ]
  },
  {
   "cell_type": "code",
   "execution_count": 12,
   "id": "12854a79",
   "metadata": {},
   "outputs": [
    {
     "data": {
      "text/plain": [
       "1287727"
      ]
     },
     "execution_count": 12,
     "metadata": {},
     "output_type": "execute_result"
    }
   ],
   "source": [
    "df['song_id'].duplicated().sum()"
   ]
  },
  {
   "cell_type": "code",
   "execution_count": 13,
   "id": "30077e76",
   "metadata": {},
   "outputs": [
    {
     "data": {
      "text/plain": [
       "944"
      ]
     },
     "execution_count": 13,
     "metadata": {},
     "output_type": "execute_result"
    }
   ],
   "source": [
    "df1['song_id'].duplicated().sum()"
   ]
  },
  {
   "cell_type": "markdown",
   "id": "909c873d",
   "metadata": {},
   "source": [
    "**MERGING THE DATA**"
   ]
  },
  {
   "cell_type": "code",
   "execution_count": 14,
   "id": "c33a9848",
   "metadata": {},
   "outputs": [],
   "source": [
    "ds = pd.merge(df, df1.drop_duplicates(['song_id']), on='song_id', how='inner')"
   ]
  },
  {
   "cell_type": "code",
   "execution_count": 15,
   "id": "4c594a66",
   "metadata": {},
   "outputs": [
    {
     "data": {
      "text/html": [
       "<div>\n",
       "<style scoped>\n",
       "    .dataframe tbody tr th:only-of-type {\n",
       "        vertical-align: middle;\n",
       "    }\n",
       "\n",
       "    .dataframe tbody tr th {\n",
       "        vertical-align: top;\n",
       "    }\n",
       "\n",
       "    .dataframe thead th {\n",
       "        text-align: right;\n",
       "    }\n",
       "</style>\n",
       "<table border=\"1\" class=\"dataframe\">\n",
       "  <thead>\n",
       "    <tr style=\"text-align: right;\">\n",
       "      <th></th>\n",
       "      <th>user_id</th>\n",
       "      <th>song_id</th>\n",
       "      <th>frequency</th>\n",
       "      <th>track_id</th>\n",
       "      <th>artist_name</th>\n",
       "      <th>release</th>\n",
       "    </tr>\n",
       "  </thead>\n",
       "  <tbody>\n",
       "    <tr>\n",
       "      <th>0</th>\n",
       "      <td>fd50c4007b68a3737fe052d5a4f78ce8aa117f3d</td>\n",
       "      <td>SOBONKR12A58A7A7E0</td>\n",
       "      <td>1</td>\n",
       "      <td>TRAEHHJ12903CF492F</td>\n",
       "      <td>Dwight Yoakam</td>\n",
       "      <td>You're The One</td>\n",
       "    </tr>\n",
       "    <tr>\n",
       "      <th>1</th>\n",
       "      <td>c34670d9c1718361feb93068a853cead3c95b76a</td>\n",
       "      <td>SOBONKR12A58A7A7E0</td>\n",
       "      <td>1</td>\n",
       "      <td>TRAEHHJ12903CF492F</td>\n",
       "      <td>Dwight Yoakam</td>\n",
       "      <td>You're The One</td>\n",
       "    </tr>\n",
       "    <tr>\n",
       "      <th>2</th>\n",
       "      <td>c5006d9f41f68ccccbf5ee29212b6af494110c5e</td>\n",
       "      <td>SOBONKR12A58A7A7E0</td>\n",
       "      <td>1</td>\n",
       "      <td>TRAEHHJ12903CF492F</td>\n",
       "      <td>Dwight Yoakam</td>\n",
       "      <td>You're The One</td>\n",
       "    </tr>\n",
       "    <tr>\n",
       "      <th>3</th>\n",
       "      <td>e4332e11f4df6dd26673bb6b085e9a2bbdc9b8a5</td>\n",
       "      <td>SOBONKR12A58A7A7E0</td>\n",
       "      <td>2</td>\n",
       "      <td>TRAEHHJ12903CF492F</td>\n",
       "      <td>Dwight Yoakam</td>\n",
       "      <td>You're The One</td>\n",
       "    </tr>\n",
       "    <tr>\n",
       "      <th>4</th>\n",
       "      <td>baf2fe5885ab93fbbdb7fecc6691788e70afb6c8</td>\n",
       "      <td>SOBONKR12A58A7A7E0</td>\n",
       "      <td>4</td>\n",
       "      <td>TRAEHHJ12903CF492F</td>\n",
       "      <td>Dwight Yoakam</td>\n",
       "      <td>You're The One</td>\n",
       "    </tr>\n",
       "  </tbody>\n",
       "</table>\n",
       "</div>"
      ],
      "text/plain": [
       "                                    user_id             song_id  frequency  \\\n",
       "0  fd50c4007b68a3737fe052d5a4f78ce8aa117f3d  SOBONKR12A58A7A7E0          1   \n",
       "1  c34670d9c1718361feb93068a853cead3c95b76a  SOBONKR12A58A7A7E0          1   \n",
       "2  c5006d9f41f68ccccbf5ee29212b6af494110c5e  SOBONKR12A58A7A7E0          1   \n",
       "3  e4332e11f4df6dd26673bb6b085e9a2bbdc9b8a5  SOBONKR12A58A7A7E0          2   \n",
       "4  baf2fe5885ab93fbbdb7fecc6691788e70afb6c8  SOBONKR12A58A7A7E0          4   \n",
       "\n",
       "             track_id    artist_name         release  \n",
       "0  TRAEHHJ12903CF492F  Dwight Yoakam  You're The One  \n",
       "1  TRAEHHJ12903CF492F  Dwight Yoakam  You're The One  \n",
       "2  TRAEHHJ12903CF492F  Dwight Yoakam  You're The One  \n",
       "3  TRAEHHJ12903CF492F  Dwight Yoakam  You're The One  \n",
       "4  TRAEHHJ12903CF492F  Dwight Yoakam  You're The One  "
      ]
     },
     "execution_count": 15,
     "metadata": {},
     "output_type": "execute_result"
    }
   ],
   "source": [
    "df2 = ds.iloc[0:100000,:]\n",
    "df2.head()"
   ]
  },
  {
   "cell_type": "code",
   "execution_count": 16,
   "id": "66525190",
   "metadata": {},
   "outputs": [],
   "source": [
    "#df2.to_csv(r'C:\\Users\\admin\\OneDrive\\Desktop\\kaggle\\original.csv')"
   ]
  },
  {
   "cell_type": "code",
   "execution_count": 17,
   "id": "c18c5df8",
   "metadata": {},
   "outputs": [
    {
     "data": {
      "text/html": [
       "<div>\n",
       "<style scoped>\n",
       "    .dataframe tbody tr th:only-of-type {\n",
       "        vertical-align: middle;\n",
       "    }\n",
       "\n",
       "    .dataframe tbody tr th {\n",
       "        vertical-align: top;\n",
       "    }\n",
       "\n",
       "    .dataframe thead th {\n",
       "        text-align: right;\n",
       "    }\n",
       "</style>\n",
       "<table border=\"1\" class=\"dataframe\">\n",
       "  <thead>\n",
       "    <tr style=\"text-align: right;\">\n",
       "      <th></th>\n",
       "      <th>user_id</th>\n",
       "      <th>song_id</th>\n",
       "      <th>frequency</th>\n",
       "      <th>track_id</th>\n",
       "      <th>artist_name</th>\n",
       "      <th>release</th>\n",
       "    </tr>\n",
       "  </thead>\n",
       "  <tbody>\n",
       "    <tr>\n",
       "      <th>99995</th>\n",
       "      <td>dddcc58b7737433a44e355cce60c8405ffb7836e</td>\n",
       "      <td>SOBXHDL12A81C204C0</td>\n",
       "      <td>2</td>\n",
       "      <td>TRHNCIR128F42334A5</td>\n",
       "      <td>Kanye West</td>\n",
       "      <td>Stronger</td>\n",
       "    </tr>\n",
       "    <tr>\n",
       "      <th>99996</th>\n",
       "      <td>550cb0bd684a1945f9c0bc1a3e56233a2bb0dc30</td>\n",
       "      <td>SOBXHDL12A81C204C0</td>\n",
       "      <td>1</td>\n",
       "      <td>TRHNCIR128F42334A5</td>\n",
       "      <td>Kanye West</td>\n",
       "      <td>Stronger</td>\n",
       "    </tr>\n",
       "    <tr>\n",
       "      <th>99997</th>\n",
       "      <td>4cc8fb2634db54539b8d9b27ce02fba3c19505a4</td>\n",
       "      <td>SOBXHDL12A81C204C0</td>\n",
       "      <td>1</td>\n",
       "      <td>TRHNCIR128F42334A5</td>\n",
       "      <td>Kanye West</td>\n",
       "      <td>Stronger</td>\n",
       "    </tr>\n",
       "    <tr>\n",
       "      <th>99998</th>\n",
       "      <td>3c6248e7e2117ebb5ef4afed2851f502ae29fbbb</td>\n",
       "      <td>SOBXHDL12A81C204C0</td>\n",
       "      <td>1</td>\n",
       "      <td>TRHNCIR128F42334A5</td>\n",
       "      <td>Kanye West</td>\n",
       "      <td>Stronger</td>\n",
       "    </tr>\n",
       "    <tr>\n",
       "      <th>99999</th>\n",
       "      <td>c8667b5e1481bd5d7ecbf5bf8a838929c08839a8</td>\n",
       "      <td>SOBXHDL12A81C204C0</td>\n",
       "      <td>82</td>\n",
       "      <td>TRHNCIR128F42334A5</td>\n",
       "      <td>Kanye West</td>\n",
       "      <td>Stronger</td>\n",
       "    </tr>\n",
       "  </tbody>\n",
       "</table>\n",
       "</div>"
      ],
      "text/plain": [
       "                                        user_id             song_id  \\\n",
       "99995  dddcc58b7737433a44e355cce60c8405ffb7836e  SOBXHDL12A81C204C0   \n",
       "99996  550cb0bd684a1945f9c0bc1a3e56233a2bb0dc30  SOBXHDL12A81C204C0   \n",
       "99997  4cc8fb2634db54539b8d9b27ce02fba3c19505a4  SOBXHDL12A81C204C0   \n",
       "99998  3c6248e7e2117ebb5ef4afed2851f502ae29fbbb  SOBXHDL12A81C204C0   \n",
       "99999  c8667b5e1481bd5d7ecbf5bf8a838929c08839a8  SOBXHDL12A81C204C0   \n",
       "\n",
       "       frequency            track_id artist_name   release  \n",
       "99995          2  TRHNCIR128F42334A5  Kanye West  Stronger  \n",
       "99996          1  TRHNCIR128F42334A5  Kanye West  Stronger  \n",
       "99997          1  TRHNCIR128F42334A5  Kanye West  Stronger  \n",
       "99998          1  TRHNCIR128F42334A5  Kanye West  Stronger  \n",
       "99999         82  TRHNCIR128F42334A5  Kanye West  Stronger  "
      ]
     },
     "execution_count": 17,
     "metadata": {},
     "output_type": "execute_result"
    }
   ],
   "source": [
    "df2.tail(5)"
   ]
  },
  {
   "cell_type": "code",
   "execution_count": 18,
   "id": "e96769d3",
   "metadata": {},
   "outputs": [],
   "source": [
    "pr = Recommenders.popularity_recommender_py()"
   ]
  },
  {
   "cell_type": "code",
   "execution_count": 19,
   "id": "669431e2",
   "metadata": {},
   "outputs": [],
   "source": [
    "pr.create(df2, 'user_id', 'release')"
   ]
  },
  {
   "cell_type": "code",
   "execution_count": 20,
   "id": "be24a152",
   "metadata": {},
   "outputs": [
    {
     "data": {
      "text/html": [
       "<div>\n",
       "<style scoped>\n",
       "    .dataframe tbody tr th:only-of-type {\n",
       "        vertical-align: middle;\n",
       "    }\n",
       "\n",
       "    .dataframe tbody tr th {\n",
       "        vertical-align: top;\n",
       "    }\n",
       "\n",
       "    .dataframe thead th {\n",
       "        text-align: right;\n",
       "    }\n",
       "</style>\n",
       "<table border=\"1\" class=\"dataframe\">\n",
       "  <thead>\n",
       "    <tr style=\"text-align: right;\">\n",
       "      <th></th>\n",
       "      <th>user_id</th>\n",
       "      <th>release</th>\n",
       "      <th>score</th>\n",
       "      <th>Rank</th>\n",
       "    </tr>\n",
       "  </thead>\n",
       "  <tbody>\n",
       "    <tr>\n",
       "      <th>286</th>\n",
       "      <td>f6e34f0a68d5ea1344511e33486f956de361db78</td>\n",
       "      <td>Sehr kosmisch</td>\n",
       "      <td>5043</td>\n",
       "      <td>1.0</td>\n",
       "    </tr>\n",
       "    <tr>\n",
       "      <th>361</th>\n",
       "      <td>f6e34f0a68d5ea1344511e33486f956de361db78</td>\n",
       "      <td>Undo</td>\n",
       "      <td>4483</td>\n",
       "      <td>2.0</td>\n",
       "    </tr>\n",
       "    <tr>\n",
       "      <th>396</th>\n",
       "      <td>f6e34f0a68d5ea1344511e33486f956de361db78</td>\n",
       "      <td>You're The One</td>\n",
       "      <td>4136</td>\n",
       "      <td>3.0</td>\n",
       "    </tr>\n",
       "    <tr>\n",
       "      <th>73</th>\n",
       "      <td>f6e34f0a68d5ea1344511e33486f956de361db78</td>\n",
       "      <td>Dog Days Are Over (Radio Edit)</td>\n",
       "      <td>3780</td>\n",
       "      <td>4.0</td>\n",
       "    </tr>\n",
       "    <tr>\n",
       "      <th>269</th>\n",
       "      <td>f6e34f0a68d5ea1344511e33486f956de361db78</td>\n",
       "      <td>Revelry</td>\n",
       "      <td>3672</td>\n",
       "      <td>5.0</td>\n",
       "    </tr>\n",
       "    <tr>\n",
       "      <th>285</th>\n",
       "      <td>f6e34f0a68d5ea1344511e33486f956de361db78</td>\n",
       "      <td>Secrets</td>\n",
       "      <td>3430</td>\n",
       "      <td>6.0</td>\n",
       "    </tr>\n",
       "    <tr>\n",
       "      <th>134</th>\n",
       "      <td>f6e34f0a68d5ea1344511e33486f956de361db78</td>\n",
       "      <td>Horn Concerto No. 4 in E flat K495: II. Romanc...</td>\n",
       "      <td>3272</td>\n",
       "      <td>7.0</td>\n",
       "    </tr>\n",
       "    <tr>\n",
       "      <th>96</th>\n",
       "      <td>f6e34f0a68d5ea1344511e33486f956de361db78</td>\n",
       "      <td>Fireflies</td>\n",
       "      <td>2725</td>\n",
       "      <td>8.0</td>\n",
       "    </tr>\n",
       "    <tr>\n",
       "      <th>349</th>\n",
       "      <td>f6e34f0a68d5ea1344511e33486f956de361db78</td>\n",
       "      <td>Tive Sim</td>\n",
       "      <td>2668</td>\n",
       "      <td>9.0</td>\n",
       "    </tr>\n",
       "    <tr>\n",
       "      <th>232</th>\n",
       "      <td>f6e34f0a68d5ea1344511e33486f956de361db78</td>\n",
       "      <td>OMG</td>\n",
       "      <td>2260</td>\n",
       "      <td>10.0</td>\n",
       "    </tr>\n",
       "  </tbody>\n",
       "</table>\n",
       "</div>"
      ],
      "text/plain": [
       "                                      user_id  \\\n",
       "286  f6e34f0a68d5ea1344511e33486f956de361db78   \n",
       "361  f6e34f0a68d5ea1344511e33486f956de361db78   \n",
       "396  f6e34f0a68d5ea1344511e33486f956de361db78   \n",
       "73   f6e34f0a68d5ea1344511e33486f956de361db78   \n",
       "269  f6e34f0a68d5ea1344511e33486f956de361db78   \n",
       "285  f6e34f0a68d5ea1344511e33486f956de361db78   \n",
       "134  f6e34f0a68d5ea1344511e33486f956de361db78   \n",
       "96   f6e34f0a68d5ea1344511e33486f956de361db78   \n",
       "349  f6e34f0a68d5ea1344511e33486f956de361db78   \n",
       "232  f6e34f0a68d5ea1344511e33486f956de361db78   \n",
       "\n",
       "                                               release  score  Rank  \n",
       "286                                      Sehr kosmisch   5043   1.0  \n",
       "361                                               Undo   4483   2.0  \n",
       "396                                     You're The One   4136   3.0  \n",
       "73                      Dog Days Are Over (Radio Edit)   3780   4.0  \n",
       "269                                            Revelry   3672   5.0  \n",
       "285                                            Secrets   3430   6.0  \n",
       "134  Horn Concerto No. 4 in E flat K495: II. Romanc...   3272   7.0  \n",
       "96                                           Fireflies   2725   8.0  \n",
       "349                                           Tive Sim   2668   9.0  \n",
       "232                                                OMG   2260  10.0  "
      ]
     },
     "execution_count": 20,
     "metadata": {},
     "output_type": "execute_result"
    }
   ],
   "source": [
    "# display the top 10 popular songs\n",
    "pr.recommend(df2['user_id'][5])"
   ]
  },
  {
   "cell_type": "code",
   "execution_count": 21,
   "id": "c21a5123",
   "metadata": {
    "scrolled": true
   },
   "outputs": [
    {
     "data": {
      "text/html": [
       "<div>\n",
       "<style scoped>\n",
       "    .dataframe tbody tr th:only-of-type {\n",
       "        vertical-align: middle;\n",
       "    }\n",
       "\n",
       "    .dataframe tbody tr th {\n",
       "        vertical-align: top;\n",
       "    }\n",
       "\n",
       "    .dataframe thead th {\n",
       "        text-align: right;\n",
       "    }\n",
       "</style>\n",
       "<table border=\"1\" class=\"dataframe\">\n",
       "  <thead>\n",
       "    <tr style=\"text-align: right;\">\n",
       "      <th></th>\n",
       "      <th>user_id</th>\n",
       "      <th>release</th>\n",
       "      <th>score</th>\n",
       "      <th>Rank</th>\n",
       "    </tr>\n",
       "  </thead>\n",
       "  <tbody>\n",
       "    <tr>\n",
       "      <th>286</th>\n",
       "      <td>849d1675036c83b2404f13bf249a05dd4880ecc4</td>\n",
       "      <td>Sehr kosmisch</td>\n",
       "      <td>5043</td>\n",
       "      <td>1.0</td>\n",
       "    </tr>\n",
       "    <tr>\n",
       "      <th>361</th>\n",
       "      <td>849d1675036c83b2404f13bf249a05dd4880ecc4</td>\n",
       "      <td>Undo</td>\n",
       "      <td>4483</td>\n",
       "      <td>2.0</td>\n",
       "    </tr>\n",
       "    <tr>\n",
       "      <th>396</th>\n",
       "      <td>849d1675036c83b2404f13bf249a05dd4880ecc4</td>\n",
       "      <td>You're The One</td>\n",
       "      <td>4136</td>\n",
       "      <td>3.0</td>\n",
       "    </tr>\n",
       "    <tr>\n",
       "      <th>73</th>\n",
       "      <td>849d1675036c83b2404f13bf249a05dd4880ecc4</td>\n",
       "      <td>Dog Days Are Over (Radio Edit)</td>\n",
       "      <td>3780</td>\n",
       "      <td>4.0</td>\n",
       "    </tr>\n",
       "    <tr>\n",
       "      <th>269</th>\n",
       "      <td>849d1675036c83b2404f13bf249a05dd4880ecc4</td>\n",
       "      <td>Revelry</td>\n",
       "      <td>3672</td>\n",
       "      <td>5.0</td>\n",
       "    </tr>\n",
       "    <tr>\n",
       "      <th>285</th>\n",
       "      <td>849d1675036c83b2404f13bf249a05dd4880ecc4</td>\n",
       "      <td>Secrets</td>\n",
       "      <td>3430</td>\n",
       "      <td>6.0</td>\n",
       "    </tr>\n",
       "    <tr>\n",
       "      <th>134</th>\n",
       "      <td>849d1675036c83b2404f13bf249a05dd4880ecc4</td>\n",
       "      <td>Horn Concerto No. 4 in E flat K495: II. Romanc...</td>\n",
       "      <td>3272</td>\n",
       "      <td>7.0</td>\n",
       "    </tr>\n",
       "    <tr>\n",
       "      <th>96</th>\n",
       "      <td>849d1675036c83b2404f13bf249a05dd4880ecc4</td>\n",
       "      <td>Fireflies</td>\n",
       "      <td>2725</td>\n",
       "      <td>8.0</td>\n",
       "    </tr>\n",
       "    <tr>\n",
       "      <th>349</th>\n",
       "      <td>849d1675036c83b2404f13bf249a05dd4880ecc4</td>\n",
       "      <td>Tive Sim</td>\n",
       "      <td>2668</td>\n",
       "      <td>9.0</td>\n",
       "    </tr>\n",
       "    <tr>\n",
       "      <th>232</th>\n",
       "      <td>849d1675036c83b2404f13bf249a05dd4880ecc4</td>\n",
       "      <td>OMG</td>\n",
       "      <td>2260</td>\n",
       "      <td>10.0</td>\n",
       "    </tr>\n",
       "  </tbody>\n",
       "</table>\n",
       "</div>"
      ],
      "text/plain": [
       "                                      user_id  \\\n",
       "286  849d1675036c83b2404f13bf249a05dd4880ecc4   \n",
       "361  849d1675036c83b2404f13bf249a05dd4880ecc4   \n",
       "396  849d1675036c83b2404f13bf249a05dd4880ecc4   \n",
       "73   849d1675036c83b2404f13bf249a05dd4880ecc4   \n",
       "269  849d1675036c83b2404f13bf249a05dd4880ecc4   \n",
       "285  849d1675036c83b2404f13bf249a05dd4880ecc4   \n",
       "134  849d1675036c83b2404f13bf249a05dd4880ecc4   \n",
       "96   849d1675036c83b2404f13bf249a05dd4880ecc4   \n",
       "349  849d1675036c83b2404f13bf249a05dd4880ecc4   \n",
       "232  849d1675036c83b2404f13bf249a05dd4880ecc4   \n",
       "\n",
       "                                               release  score  Rank  \n",
       "286                                      Sehr kosmisch   5043   1.0  \n",
       "361                                               Undo   4483   2.0  \n",
       "396                                     You're The One   4136   3.0  \n",
       "73                      Dog Days Are Over (Radio Edit)   3780   4.0  \n",
       "269                                            Revelry   3672   5.0  \n",
       "285                                            Secrets   3430   6.0  \n",
       "134  Horn Concerto No. 4 in E flat K495: II. Romanc...   3272   7.0  \n",
       "96                                           Fireflies   2725   8.0  \n",
       "349                                           Tive Sim   2668   9.0  \n",
       "232                                                OMG   2260  10.0  "
      ]
     },
     "execution_count": 21,
     "metadata": {},
     "output_type": "execute_result"
    }
   ],
   "source": [
    "pr.recommend(df2['user_id'][50])"
   ]
  },
  {
   "cell_type": "markdown",
   "id": "ddfe279c",
   "metadata": {},
   "source": [
    "**Item Similarity Recommendation**"
   ]
  },
  {
   "cell_type": "code",
   "execution_count": 22,
   "id": "b8315da5",
   "metadata": {},
   "outputs": [],
   "source": [
    "ir = Recommenders.item_similarity_recommender_py()\n",
    "ir.create(df2, 'user_id', 'release')"
   ]
  },
  {
   "cell_type": "code",
   "execution_count": 23,
   "id": "b61f9907",
   "metadata": {},
   "outputs": [],
   "source": [
    "user_items = ir.get_user_items(df2['user_id'][5])"
   ]
  },
  {
   "cell_type": "code",
   "execution_count": 24,
   "id": "ca709057",
   "metadata": {},
   "outputs": [
    {
     "name": "stdout",
     "output_type": "stream",
     "text": [
      "You're The One\n",
      "Revelry\n",
      "STARSTRUKK [FEATURINGKATYPERRY] (Explicit Bonus Version)\n"
     ]
    }
   ],
   "source": [
    "for user_item in user_items:\n",
    "    print(user_item)"
   ]
  },
  {
   "cell_type": "code",
   "execution_count": 25,
   "id": "fd96dd59",
   "metadata": {},
   "outputs": [
    {
     "name": "stdout",
     "output_type": "stream",
     "text": [
      "No. of unique songs for the user: 3\n",
      "no. of unique songs in the training set: 400\n",
      "Non zero values in cooccurence_matrix :610\n"
     ]
    },
    {
     "data": {
      "text/html": [
       "<div>\n",
       "<style scoped>\n",
       "    .dataframe tbody tr th:only-of-type {\n",
       "        vertical-align: middle;\n",
       "    }\n",
       "\n",
       "    .dataframe tbody tr th {\n",
       "        vertical-align: top;\n",
       "    }\n",
       "\n",
       "    .dataframe thead th {\n",
       "        text-align: right;\n",
       "    }\n",
       "</style>\n",
       "<table border=\"1\" class=\"dataframe\">\n",
       "  <thead>\n",
       "    <tr style=\"text-align: right;\">\n",
       "      <th></th>\n",
       "      <th>user_id</th>\n",
       "      <th>song</th>\n",
       "      <th>score</th>\n",
       "      <th>rank</th>\n",
       "    </tr>\n",
       "  </thead>\n",
       "  <tbody>\n",
       "    <tr>\n",
       "      <th>0</th>\n",
       "      <td>f6e34f0a68d5ea1344511e33486f956de361db78</td>\n",
       "      <td>Undo</td>\n",
       "      <td>0.101653</td>\n",
       "      <td>1</td>\n",
       "    </tr>\n",
       "    <tr>\n",
       "      <th>1</th>\n",
       "      <td>f6e34f0a68d5ea1344511e33486f956de361db78</td>\n",
       "      <td>Horn Concerto No. 4 in E flat K495: II. Romanc...</td>\n",
       "      <td>0.063813</td>\n",
       "      <td>2</td>\n",
       "    </tr>\n",
       "    <tr>\n",
       "      <th>2</th>\n",
       "      <td>f6e34f0a68d5ea1344511e33486f956de361db78</td>\n",
       "      <td>Ain't Misbehavin</td>\n",
       "      <td>0.059722</td>\n",
       "      <td>3</td>\n",
       "    </tr>\n",
       "    <tr>\n",
       "      <th>3</th>\n",
       "      <td>f6e34f0a68d5ea1344511e33486f956de361db78</td>\n",
       "      <td>Tive Sim</td>\n",
       "      <td>0.045352</td>\n",
       "      <td>4</td>\n",
       "    </tr>\n",
       "    <tr>\n",
       "      <th>4</th>\n",
       "      <td>f6e34f0a68d5ea1344511e33486f956de361db78</td>\n",
       "      <td>Représente</td>\n",
       "      <td>0.041899</td>\n",
       "      <td>5</td>\n",
       "    </tr>\n",
       "    <tr>\n",
       "      <th>5</th>\n",
       "      <td>f6e34f0a68d5ea1344511e33486f956de361db78</td>\n",
       "      <td>Invalid</td>\n",
       "      <td>0.040089</td>\n",
       "      <td>6</td>\n",
       "    </tr>\n",
       "    <tr>\n",
       "      <th>6</th>\n",
       "      <td>f6e34f0a68d5ea1344511e33486f956de361db78</td>\n",
       "      <td>Sehr kosmisch</td>\n",
       "      <td>0.038049</td>\n",
       "      <td>7</td>\n",
       "    </tr>\n",
       "    <tr>\n",
       "      <th>7</th>\n",
       "      <td>f6e34f0a68d5ea1344511e33486f956de361db78</td>\n",
       "      <td>Catch You Baby (Steve Pitron &amp; Max Sanna Radio...</td>\n",
       "      <td>0.037191</td>\n",
       "      <td>8</td>\n",
       "    </tr>\n",
       "    <tr>\n",
       "      <th>8</th>\n",
       "      <td>f6e34f0a68d5ea1344511e33486f956de361db78</td>\n",
       "      <td>Secrets</td>\n",
       "      <td>0.036977</td>\n",
       "      <td>9</td>\n",
       "    </tr>\n",
       "    <tr>\n",
       "      <th>9</th>\n",
       "      <td>f6e34f0a68d5ea1344511e33486f956de361db78</td>\n",
       "      <td>Dog Days Are Over (Radio Edit)</td>\n",
       "      <td>0.036359</td>\n",
       "      <td>10</td>\n",
       "    </tr>\n",
       "  </tbody>\n",
       "</table>\n",
       "</div>"
      ],
      "text/plain": [
       "                                    user_id  \\\n",
       "0  f6e34f0a68d5ea1344511e33486f956de361db78   \n",
       "1  f6e34f0a68d5ea1344511e33486f956de361db78   \n",
       "2  f6e34f0a68d5ea1344511e33486f956de361db78   \n",
       "3  f6e34f0a68d5ea1344511e33486f956de361db78   \n",
       "4  f6e34f0a68d5ea1344511e33486f956de361db78   \n",
       "5  f6e34f0a68d5ea1344511e33486f956de361db78   \n",
       "6  f6e34f0a68d5ea1344511e33486f956de361db78   \n",
       "7  f6e34f0a68d5ea1344511e33486f956de361db78   \n",
       "8  f6e34f0a68d5ea1344511e33486f956de361db78   \n",
       "9  f6e34f0a68d5ea1344511e33486f956de361db78   \n",
       "\n",
       "                                                song     score rank  \n",
       "0                                               Undo  0.101653    1  \n",
       "1  Horn Concerto No. 4 in E flat K495: II. Romanc...  0.063813    2  \n",
       "2                                   Ain't Misbehavin  0.059722    3  \n",
       "3                                           Tive Sim  0.045352    4  \n",
       "4                                         Représente  0.041899    5  \n",
       "5                                            Invalid  0.040089    6  \n",
       "6                                      Sehr kosmisch  0.038049    7  \n",
       "7  Catch You Baby (Steve Pitron & Max Sanna Radio...  0.037191    8  \n",
       "8                                            Secrets  0.036977    9  \n",
       "9                     Dog Days Are Over (Radio Edit)  0.036359   10  "
      ]
     },
     "execution_count": 25,
     "metadata": {},
     "output_type": "execute_result"
    }
   ],
   "source": [
    "# give song recommendation for that user\n",
    "ir.recommend(df2['user_id'][5])"
   ]
  },
  {
   "cell_type": "code",
   "execution_count": 26,
   "id": "965fd99b",
   "metadata": {},
   "outputs": [
    {
     "name": "stdout",
     "output_type": "stream",
     "text": [
      "no. of unique songs in the training set: 400\n",
      "Non zero values in cooccurence_matrix :0\n"
     ]
    },
    {
     "data": {
      "text/html": [
       "<div>\n",
       "<style scoped>\n",
       "    .dataframe tbody tr th:only-of-type {\n",
       "        vertical-align: middle;\n",
       "    }\n",
       "\n",
       "    .dataframe tbody tr th {\n",
       "        vertical-align: top;\n",
       "    }\n",
       "\n",
       "    .dataframe thead th {\n",
       "        text-align: right;\n",
       "    }\n",
       "</style>\n",
       "<table border=\"1\" class=\"dataframe\">\n",
       "  <thead>\n",
       "    <tr style=\"text-align: right;\">\n",
       "      <th></th>\n",
       "      <th>user_id</th>\n",
       "      <th>song</th>\n",
       "      <th>score</th>\n",
       "      <th>rank</th>\n",
       "    </tr>\n",
       "  </thead>\n",
       "  <tbody>\n",
       "    <tr>\n",
       "      <th>0</th>\n",
       "      <td></td>\n",
       "      <td>Stronger</td>\n",
       "      <td>0.0</td>\n",
       "      <td>1</td>\n",
       "    </tr>\n",
       "    <tr>\n",
       "      <th>1</th>\n",
       "      <td></td>\n",
       "      <td>Strut (1993 Digital Remaster)</td>\n",
       "      <td>0.0</td>\n",
       "      <td>2</td>\n",
       "    </tr>\n",
       "    <tr>\n",
       "      <th>2</th>\n",
       "      <td></td>\n",
       "      <td>Officer</td>\n",
       "      <td>0.0</td>\n",
       "      <td>3</td>\n",
       "    </tr>\n",
       "    <tr>\n",
       "      <th>3</th>\n",
       "      <td></td>\n",
       "      <td>Star To Fall</td>\n",
       "      <td>0.0</td>\n",
       "      <td>4</td>\n",
       "    </tr>\n",
       "    <tr>\n",
       "      <th>4</th>\n",
       "      <td></td>\n",
       "      <td>Last Man Standing</td>\n",
       "      <td>0.0</td>\n",
       "      <td>5</td>\n",
       "    </tr>\n",
       "    <tr>\n",
       "      <th>5</th>\n",
       "      <td></td>\n",
       "      <td>Equally Destructive</td>\n",
       "      <td>0.0</td>\n",
       "      <td>6</td>\n",
       "    </tr>\n",
       "    <tr>\n",
       "      <th>6</th>\n",
       "      <td></td>\n",
       "      <td>Code Monkey</td>\n",
       "      <td>0.0</td>\n",
       "      <td>7</td>\n",
       "    </tr>\n",
       "    <tr>\n",
       "      <th>7</th>\n",
       "      <td></td>\n",
       "      <td>Cry of the Brave</td>\n",
       "      <td>0.0</td>\n",
       "      <td>8</td>\n",
       "    </tr>\n",
       "    <tr>\n",
       "      <th>8</th>\n",
       "      <td></td>\n",
       "      <td>So What</td>\n",
       "      <td>0.0</td>\n",
       "      <td>9</td>\n",
       "    </tr>\n",
       "    <tr>\n",
       "      <th>9</th>\n",
       "      <td></td>\n",
       "      <td>Renegade</td>\n",
       "      <td>0.0</td>\n",
       "      <td>10</td>\n",
       "    </tr>\n",
       "  </tbody>\n",
       "</table>\n",
       "</div>"
      ],
      "text/plain": [
       "  user_id                           song  score rank\n",
       "0                               Stronger    0.0    1\n",
       "1          Strut (1993 Digital Remaster)    0.0    2\n",
       "2                                Officer    0.0    3\n",
       "3                           Star To Fall    0.0    4\n",
       "4                      Last Man Standing    0.0    5\n",
       "5                    Equally Destructive    0.0    6\n",
       "6                            Code Monkey    0.0    7\n",
       "7                       Cry of the Brave    0.0    8\n",
       "8                                So What    0.0    9\n",
       "9                               Renegade    0.0   10"
      ]
     },
     "execution_count": 26,
     "metadata": {},
     "output_type": "execute_result"
    }
   ],
   "source": [
    "# give related songs based on the words\n",
    "ir.get_similar_items(['Oliver James - Fleet Foxes', 'The End - Pearl Jam'])"
   ]
  },
  {
   "cell_type": "code",
   "execution_count": null,
   "id": "b9355a50",
   "metadata": {},
   "outputs": [],
   "source": []
  }
 ],
 "metadata": {
  "kernelspec": {
   "display_name": "Python 3",
   "language": "python",
   "name": "python3"
  },
  "language_info": {
   "codemirror_mode": {
    "name": "ipython",
    "version": 3
   },
   "file_extension": ".py",
   "mimetype": "text/x-python",
   "name": "python",
   "nbconvert_exporter": "python",
   "pygments_lexer": "ipython3",
   "version": "3.8.8"
  }
 },
 "nbformat": 4,
 "nbformat_minor": 5
}
