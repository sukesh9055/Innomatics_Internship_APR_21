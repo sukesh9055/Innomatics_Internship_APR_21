{
 "cells": [
  {
   "cell_type": "markdown",
   "metadata": {},
   "source": [
    "# Music recommender system\n",
    "\n",
    "One of the most used machine learning algorithms is recommendation systems. A **recommender** (or recommendation) **system** (or engine) is a filtering system which aim is to predict a rating or preference a user would give to an item, eg. a film, a product, a song, etc.\n",
    "\n",
    "Which type of recommender can we have?   \n",
    "\n",
    "There are two main types of recommender systems: \n",
    "- Content-based filters\n",
    "- Collaborative filters\n",
    "  \n",
    "> Content-based filters predicts what a user likes based on what that particular user has liked in the past. On the other hand, collaborative-based filters predict what a user like based on what other users, that are similar to that particular user, have liked.\n",
    "\n",
    "We have previously developed a content-based recommendation system. Now, we'll look into collaborative filtering. \n",
    "\n",
    "### 2) Collaborative filters\n",
    "\n",
    "Collaborative Filters work with an interaction matrix, also called rating matrix. The aim of this algorithm is to learn a function that can predict if a user will benefit from an item - meaning the user will likely buy, listen to, watch this item.\n",
    "\n",
    "Among collaborative-based systems, we can encounter two types: **user-item** filtering and **item-item** filtering. \n",
    "\n",
    "*What algorithms do collaborative filters use to recommend new songs?* There are several machine learning algorithms that can be used in the case of collaborative filtering. Among them, we can mention nearest-neighbor, clustering, and matrix factorization.\n",
    "\n",
    "**K-Nearest Neighbors (kNN)** is considered the standard method when it comes to both user-based and item-based collaborative filtering approaches.\n",
    "  \n",
    "We'll go through the steps for generating a music recommender system using a k-nearest algorithm approach."
   ]
  },
  {
   "cell_type": "markdown",
   "metadata": {},
   "source": [
    "### Importing required libraries"
   ]
  },
  {
   "cell_type": "markdown",
   "metadata": {},
   "source": [
    "First, we'll import all the required libraries."
   ]
  },
  {
   "cell_type": "code",
   "execution_count": 1,
   "metadata": {},
   "outputs": [],
   "source": [
    "import warnings\n",
    "warnings.filterwarnings(\"ignore\", category=FutureWarning)"
   ]
  },
  {
   "cell_type": "code",
   "execution_count": 2,
   "metadata": {},
   "outputs": [],
   "source": [
    "import pandas as pd\n",
    "import numpy as np\n",
    "import matplotlib.pyplot as plt\n",
    "import seaborn as sns"
   ]
  },
  {
   "cell_type": "code",
   "execution_count": 3,
   "metadata": {},
   "outputs": [],
   "source": [
    "from scipy.sparse import csr_matrix"
   ]
  },
  {
   "cell_type": "code",
   "execution_count": 4,
   "metadata": {},
   "outputs": [],
   "source": [
    "from sklearn.neighbors import NearestNeighbors\n",
    "from fuzzywuzzy import fuzz\n",
    "import numpy as np\n",
    "\n",
    "class Recommender:\n",
    "    def __init__(self, metric, algorithm, k, data, decode_id_song):\n",
    "        self.metric = metric\n",
    "        self.algorithm = algorithm\n",
    "        self.k = k\n",
    "        self.data = data\n",
    "        self.decode_id_song = decode_id_song\n",
    "        self.data = data\n",
    "        self.model = self._recommender().fit(data)\n",
    "    \n",
    "    def make_recommendation(self, new_song, n_recommendations):\n",
    "        recommended = self._recommend(new_song=new_song, n_recommendations=n_recommendations)\n",
    "        print(\"... Done\")\n",
    "        return recommended \n",
    "    \n",
    "    def _recommender(self):\n",
    "        return NearestNeighbors(metric=self.metric, algorithm=self.algorithm, n_neighbors=self.k, n_jobs=-1)\n",
    "    \n",
    "    def _recommend(self, new_song, n_recommendations):\n",
    "        # Get the id of the recommended songs\n",
    "        recommendations = []\n",
    "        recommendation_ids = self._get_recommendations(new_song=new_song, n_recommendations=n_recommendations)\n",
    "        # return the name of the song using a mapping dictionary\n",
    "        recommendations_map = self._map_indeces_to_song_title(recommendation_ids)\n",
    "        # Translate this recommendations into the ranking of song titles recommended\n",
    "        for i, (idx, dist) in enumerate(recommendation_ids):\n",
    "            recommendations.append(recommendations_map[idx])\n",
    "        return recommendations\n",
    "                 \n",
    "    def _get_recommendations(self, new_song, n_recommendations):\n",
    "        # Get the id of the song according to the text\n",
    "        recom_song_id = self._fuzzy_matching(song=new_song)\n",
    "        # Start the recommendation process\n",
    "        print(f\"Starting the recommendation process for {new_song} ...\")\n",
    "        # Return the n neighbors for the song id\n",
    "        distances, indices = self.model.kneighbors(self.data[recom_song_id], n_neighbors=n_recommendations+1)\n",
    "        return sorted(list(zip(indices.squeeze().tolist(), distances.squeeze().tolist())), key=lambda x: x[1])[:0:-1]\n",
    "    \n",
    "    def _map_indeces_to_song_title(self, recommendation_ids):\n",
    "        # get reverse mapper\n",
    "        return {song_id: song_title for song_title, song_id in self.decode_id_song.items()}\n",
    "    \n",
    "    def _fuzzy_matching(self, song):\n",
    "        match_tuple = []\n",
    "        # get match\n",
    "        for title, idx in self.decode_id_song.items():\n",
    "            ratio = fuzz.ratio(title.lower(), song.lower())\n",
    "            if ratio >= 60:\n",
    "                match_tuple.append((title, idx, ratio))\n",
    "        # sort\n",
    "        match_tuple = sorted(match_tuple, key=lambda x: x[2])[::-1]\n",
    "        if not match_tuple:\n",
    "            print(f\"The recommendation system could not find a match for {song}\")\n",
    "            return\n",
    "        return match_tuple[0][1]"
   ]
  },
  {
   "cell_type": "markdown",
   "metadata": {},
   "source": [
    "### Reading the files"
   ]
  },
  {
   "cell_type": "markdown",
   "metadata": {},
   "source": [
    "We are going to use the **[Million Song Dataset](http://millionsongdataset.com/)**, a freely-available collection of audio features and metadata for a million contemporary popular music tracks. "
   ]
  },
  {
   "cell_type": "markdown",
   "metadata": {},
   "source": [
    "There are two files that will be interesting for us. The first of them will give us information about the songs. Particularly, it contains the user ID, song ID and the listen count. On the other hand, the second file will contain song ID, title of that song, release, artist name and year. \n",
    "We need to merge these two DataFrames. For that aim, we'll use the `song_ID` "
   ]
  },
  {
   "cell_type": "code",
   "execution_count": 5,
   "metadata": {},
   "outputs": [],
   "source": [
    "df=pd.read_csv('kaggle_visible_evaluation_triplets.txt',sep='\\t', names=['user_id','song_id','frequency'])"
   ]
  },
  {
   "cell_type": "code",
   "execution_count": 6,
   "metadata": {},
   "outputs": [
    {
     "name": "stderr",
     "output_type": "stream",
     "text": [
      "<ipython-input-6-7921ca581fcb>:1: ParserWarning: Falling back to the 'python' engine because the 'c' engine does not support regex separators (separators > 1 char and different from '\\s+' are interpreted as regex); you can avoid this warning by specifying engine='python'.\n",
      "  df1=pd.read_csv('unique_tracks.txt',sep='<SEP>',names=['track_id', 'song_id', 'artist_name', 'release'])\n"
     ]
    }
   ],
   "source": [
    "df1=pd.read_csv('unique_tracks.txt',sep='<SEP>',names=['track_id', 'song_id', 'artist_name', 'release'])"
   ]
  },
  {
   "cell_type": "code",
   "execution_count": 7,
   "metadata": {},
   "outputs": [],
   "source": [
    "ds=pd.merge(df, df1.drop_duplicates(['song_id']), on='song_id', how='inner')"
   ]
  },
  {
   "cell_type": "code",
   "execution_count": 42,
   "metadata": {},
   "outputs": [],
   "source": [
    "\n",
    "\n",
    "#Merge the two dataframes above to create input dataframe for recommender systems\n",
    "songs = ds.iloc[0:500000,:]"
   ]
  },
  {
   "cell_type": "code",
   "execution_count": 43,
   "metadata": {
    "scrolled": true
   },
   "outputs": [
    {
     "data": {
      "text/html": [
       "<div>\n",
       "<style scoped>\n",
       "    .dataframe tbody tr th:only-of-type {\n",
       "        vertical-align: middle;\n",
       "    }\n",
       "\n",
       "    .dataframe tbody tr th {\n",
       "        vertical-align: top;\n",
       "    }\n",
       "\n",
       "    .dataframe thead th {\n",
       "        text-align: right;\n",
       "    }\n",
       "</style>\n",
       "<table border=\"1\" class=\"dataframe\">\n",
       "  <thead>\n",
       "    <tr style=\"text-align: right;\">\n",
       "      <th></th>\n",
       "      <th>user_id</th>\n",
       "      <th>song_id</th>\n",
       "      <th>frequency</th>\n",
       "      <th>track_id</th>\n",
       "      <th>artist_name</th>\n",
       "      <th>release</th>\n",
       "    </tr>\n",
       "  </thead>\n",
       "  <tbody>\n",
       "    <tr>\n",
       "      <th>499995</th>\n",
       "      <td>c3fc6e99824f08723bb65522a60226665ca68d13</td>\n",
       "      <td>SORHRZS12AB0185CC2</td>\n",
       "      <td>1</td>\n",
       "      <td>TRUAJPS12903CAE9D5</td>\n",
       "      <td>Jason Collett</td>\n",
       "      <td>Got The Glory</td>\n",
       "    </tr>\n",
       "    <tr>\n",
       "      <th>499996</th>\n",
       "      <td>77241419b32b8c1802d3f91e3c9ebc4c8b657ec1</td>\n",
       "      <td>SORHRZS12AB0185CC2</td>\n",
       "      <td>1</td>\n",
       "      <td>TRUAJPS12903CAE9D5</td>\n",
       "      <td>Jason Collett</td>\n",
       "      <td>Got The Glory</td>\n",
       "    </tr>\n",
       "    <tr>\n",
       "      <th>499997</th>\n",
       "      <td>a4d4c28313f7e1b3c207b19bb75f09416aa6ee9a</td>\n",
       "      <td>SORHRZS12AB0185CC2</td>\n",
       "      <td>11</td>\n",
       "      <td>TRUAJPS12903CAE9D5</td>\n",
       "      <td>Jason Collett</td>\n",
       "      <td>Got The Glory</td>\n",
       "    </tr>\n",
       "    <tr>\n",
       "      <th>499998</th>\n",
       "      <td>273d10f6a884df48672fe2e4b8077cc215d9620f</td>\n",
       "      <td>SORHRZS12AB0185CC2</td>\n",
       "      <td>5</td>\n",
       "      <td>TRUAJPS12903CAE9D5</td>\n",
       "      <td>Jason Collett</td>\n",
       "      <td>Got The Glory</td>\n",
       "    </tr>\n",
       "    <tr>\n",
       "      <th>499999</th>\n",
       "      <td>718fbc3b7b12830705fab202de82de9f49d054d1</td>\n",
       "      <td>SORHRZS12AB0185CC2</td>\n",
       "      <td>1</td>\n",
       "      <td>TRUAJPS12903CAE9D5</td>\n",
       "      <td>Jason Collett</td>\n",
       "      <td>Got The Glory</td>\n",
       "    </tr>\n",
       "  </tbody>\n",
       "</table>\n",
       "</div>"
      ],
      "text/plain": [
       "                                         user_id             song_id  \\\n",
       "499995  c3fc6e99824f08723bb65522a60226665ca68d13  SORHRZS12AB0185CC2   \n",
       "499996  77241419b32b8c1802d3f91e3c9ebc4c8b657ec1  SORHRZS12AB0185CC2   \n",
       "499997  a4d4c28313f7e1b3c207b19bb75f09416aa6ee9a  SORHRZS12AB0185CC2   \n",
       "499998  273d10f6a884df48672fe2e4b8077cc215d9620f  SORHRZS12AB0185CC2   \n",
       "499999  718fbc3b7b12830705fab202de82de9f49d054d1  SORHRZS12AB0185CC2   \n",
       "\n",
       "        frequency            track_id    artist_name        release  \n",
       "499995          1  TRUAJPS12903CAE9D5  Jason Collett  Got The Glory  \n",
       "499996          1  TRUAJPS12903CAE9D5  Jason Collett  Got The Glory  \n",
       "499997         11  TRUAJPS12903CAE9D5  Jason Collett  Got The Glory  \n",
       "499998          5  TRUAJPS12903CAE9D5  Jason Collett  Got The Glory  \n",
       "499999          1  TRUAJPS12903CAE9D5  Jason Collett  Got The Glory  "
      ]
     },
     "execution_count": 43,
     "metadata": {},
     "output_type": "execute_result"
    }
   ],
   "source": [
    "songs.tail()"
   ]
  },
  {
   "cell_type": "code",
   "execution_count": 82,
   "metadata": {},
   "outputs": [
    {
     "data": {
      "text/html": [
       "<div>\n",
       "<style scoped>\n",
       "    .dataframe tbody tr th:only-of-type {\n",
       "        vertical-align: middle;\n",
       "    }\n",
       "\n",
       "    .dataframe tbody tr th {\n",
       "        vertical-align: top;\n",
       "    }\n",
       "\n",
       "    .dataframe thead th {\n",
       "        text-align: right;\n",
       "    }\n",
       "</style>\n",
       "<table border=\"1\" class=\"dataframe\">\n",
       "  <thead>\n",
       "    <tr style=\"text-align: right;\">\n",
       "      <th></th>\n",
       "      <th>user_id</th>\n",
       "      <th>song_id</th>\n",
       "      <th>frequency</th>\n",
       "      <th>track_id</th>\n",
       "      <th>artist_name</th>\n",
       "      <th>release</th>\n",
       "    </tr>\n",
       "  </thead>\n",
       "  <tbody>\n",
       "    <tr>\n",
       "      <th>0</th>\n",
       "      <td>fd50c4007b68a3737fe052d5a4f78ce8aa117f3d</td>\n",
       "      <td>SOBONKR12A58A7A7E0</td>\n",
       "      <td>1</td>\n",
       "      <td>TRAEHHJ12903CF492F</td>\n",
       "      <td>Dwight Yoakam</td>\n",
       "      <td>You're The One</td>\n",
       "    </tr>\n",
       "    <tr>\n",
       "      <th>1</th>\n",
       "      <td>c34670d9c1718361feb93068a853cead3c95b76a</td>\n",
       "      <td>SOBONKR12A58A7A7E0</td>\n",
       "      <td>1</td>\n",
       "      <td>TRAEHHJ12903CF492F</td>\n",
       "      <td>Dwight Yoakam</td>\n",
       "      <td>You're The One</td>\n",
       "    </tr>\n",
       "    <tr>\n",
       "      <th>2</th>\n",
       "      <td>c5006d9f41f68ccccbf5ee29212b6af494110c5e</td>\n",
       "      <td>SOBONKR12A58A7A7E0</td>\n",
       "      <td>1</td>\n",
       "      <td>TRAEHHJ12903CF492F</td>\n",
       "      <td>Dwight Yoakam</td>\n",
       "      <td>You're The One</td>\n",
       "    </tr>\n",
       "    <tr>\n",
       "      <th>3</th>\n",
       "      <td>e4332e11f4df6dd26673bb6b085e9a2bbdc9b8a5</td>\n",
       "      <td>SOBONKR12A58A7A7E0</td>\n",
       "      <td>2</td>\n",
       "      <td>TRAEHHJ12903CF492F</td>\n",
       "      <td>Dwight Yoakam</td>\n",
       "      <td>You're The One</td>\n",
       "    </tr>\n",
       "    <tr>\n",
       "      <th>4</th>\n",
       "      <td>baf2fe5885ab93fbbdb7fecc6691788e70afb6c8</td>\n",
       "      <td>SOBONKR12A58A7A7E0</td>\n",
       "      <td>4</td>\n",
       "      <td>TRAEHHJ12903CF492F</td>\n",
       "      <td>Dwight Yoakam</td>\n",
       "      <td>You're The One</td>\n",
       "    </tr>\n",
       "    <tr>\n",
       "      <th>...</th>\n",
       "      <td>...</td>\n",
       "      <td>...</td>\n",
       "      <td>...</td>\n",
       "      <td>...</td>\n",
       "      <td>...</td>\n",
       "      <td>...</td>\n",
       "    </tr>\n",
       "    <tr>\n",
       "      <th>94</th>\n",
       "      <td>29333537efed306786efabd8f8b74a34add96255</td>\n",
       "      <td>SOBONKR12A58A7A7E0</td>\n",
       "      <td>1</td>\n",
       "      <td>TRAEHHJ12903CF492F</td>\n",
       "      <td>Dwight Yoakam</td>\n",
       "      <td>You're The One</td>\n",
       "    </tr>\n",
       "    <tr>\n",
       "      <th>95</th>\n",
       "      <td>04a3cf001048b04d5ef7ae73f1067b9a290d3794</td>\n",
       "      <td>SOBONKR12A58A7A7E0</td>\n",
       "      <td>5</td>\n",
       "      <td>TRAEHHJ12903CF492F</td>\n",
       "      <td>Dwight Yoakam</td>\n",
       "      <td>You're The One</td>\n",
       "    </tr>\n",
       "    <tr>\n",
       "      <th>96</th>\n",
       "      <td>c681fe92cf8c7a82824e374e96d34d3a0ac60055</td>\n",
       "      <td>SOBONKR12A58A7A7E0</td>\n",
       "      <td>1</td>\n",
       "      <td>TRAEHHJ12903CF492F</td>\n",
       "      <td>Dwight Yoakam</td>\n",
       "      <td>You're The One</td>\n",
       "    </tr>\n",
       "    <tr>\n",
       "      <th>97</th>\n",
       "      <td>0af269ae8ccefedce1f9946e6b14ea9b29e917dd</td>\n",
       "      <td>SOBONKR12A58A7A7E0</td>\n",
       "      <td>1</td>\n",
       "      <td>TRAEHHJ12903CF492F</td>\n",
       "      <td>Dwight Yoakam</td>\n",
       "      <td>You're The One</td>\n",
       "    </tr>\n",
       "    <tr>\n",
       "      <th>98</th>\n",
       "      <td>c5ae154357a61fe2c936e2c16162c3e6548cc06f</td>\n",
       "      <td>SOBONKR12A58A7A7E0</td>\n",
       "      <td>2</td>\n",
       "      <td>TRAEHHJ12903CF492F</td>\n",
       "      <td>Dwight Yoakam</td>\n",
       "      <td>You're The One</td>\n",
       "    </tr>\n",
       "  </tbody>\n",
       "</table>\n",
       "<p>99 rows × 6 columns</p>\n",
       "</div>"
      ],
      "text/plain": [
       "                                     user_id             song_id  frequency  \\\n",
       "0   fd50c4007b68a3737fe052d5a4f78ce8aa117f3d  SOBONKR12A58A7A7E0          1   \n",
       "1   c34670d9c1718361feb93068a853cead3c95b76a  SOBONKR12A58A7A7E0          1   \n",
       "2   c5006d9f41f68ccccbf5ee29212b6af494110c5e  SOBONKR12A58A7A7E0          1   \n",
       "3   e4332e11f4df6dd26673bb6b085e9a2bbdc9b8a5  SOBONKR12A58A7A7E0          2   \n",
       "4   baf2fe5885ab93fbbdb7fecc6691788e70afb6c8  SOBONKR12A58A7A7E0          4   \n",
       "..                                       ...                 ...        ...   \n",
       "94  29333537efed306786efabd8f8b74a34add96255  SOBONKR12A58A7A7E0          1   \n",
       "95  04a3cf001048b04d5ef7ae73f1067b9a290d3794  SOBONKR12A58A7A7E0          5   \n",
       "96  c681fe92cf8c7a82824e374e96d34d3a0ac60055  SOBONKR12A58A7A7E0          1   \n",
       "97  0af269ae8ccefedce1f9946e6b14ea9b29e917dd  SOBONKR12A58A7A7E0          1   \n",
       "98  c5ae154357a61fe2c936e2c16162c3e6548cc06f  SOBONKR12A58A7A7E0          2   \n",
       "\n",
       "              track_id    artist_name         release  \n",
       "0   TRAEHHJ12903CF492F  Dwight Yoakam  You're The One  \n",
       "1   TRAEHHJ12903CF492F  Dwight Yoakam  You're The One  \n",
       "2   TRAEHHJ12903CF492F  Dwight Yoakam  You're The One  \n",
       "3   TRAEHHJ12903CF492F  Dwight Yoakam  You're The One  \n",
       "4   TRAEHHJ12903CF492F  Dwight Yoakam  You're The One  \n",
       "..                 ...            ...             ...  \n",
       "94  TRAEHHJ12903CF492F  Dwight Yoakam  You're The One  \n",
       "95  TRAEHHJ12903CF492F  Dwight Yoakam  You're The One  \n",
       "96  TRAEHHJ12903CF492F  Dwight Yoakam  You're The One  \n",
       "97  TRAEHHJ12903CF492F  Dwight Yoakam  You're The One  \n",
       "98  TRAEHHJ12903CF492F  Dwight Yoakam  You're The One  \n",
       "\n",
       "[99 rows x 6 columns]"
      ]
     },
     "execution_count": 82,
     "metadata": {},
     "output_type": "execute_result"
    }
   ],
   "source": [
    "songs.head(99)"
   ]
  },
  {
   "cell_type": "markdown",
   "metadata": {},
   "source": [
    "We'll save this dataset into a `csv file` so we have this available if there is any other recommendation system project we want to do."
   ]
  },
  {
   "cell_type": "code",
   "execution_count": 44,
   "metadata": {},
   "outputs": [],
   "source": [
    "songs.to_csv('songs.csv', index=False)"
   ]
  },
  {
   "cell_type": "markdown",
   "metadata": {},
   "source": [
    "We can read this file into a new **DataFrame** that we'd call `df_songs`."
   ]
  },
  {
   "cell_type": "code",
   "execution_count": 45,
   "metadata": {},
   "outputs": [],
   "source": [
    "df_songs = pd.read_csv('songs.csv')"
   ]
  },
  {
   "cell_type": "markdown",
   "metadata": {},
   "source": [
    "## Exploring the data"
   ]
  },
  {
   "cell_type": "markdown",
   "metadata": {},
   "source": [
    "As usual, any data science or machine learning project starts with an exploratory data analysis (EDA). The aim of EDA is to understand and get insights on our data."
   ]
  },
  {
   "cell_type": "markdown",
   "metadata": {},
   "source": [
    "We'll first inspect the first rows of our `DataFrame`."
   ]
  },
  {
   "cell_type": "code",
   "execution_count": 46,
   "metadata": {},
   "outputs": [
    {
     "data": {
      "text/html": [
       "<div>\n",
       "<style scoped>\n",
       "    .dataframe tbody tr th:only-of-type {\n",
       "        vertical-align: middle;\n",
       "    }\n",
       "\n",
       "    .dataframe tbody tr th {\n",
       "        vertical-align: top;\n",
       "    }\n",
       "\n",
       "    .dataframe thead th {\n",
       "        text-align: right;\n",
       "    }\n",
       "</style>\n",
       "<table border=\"1\" class=\"dataframe\">\n",
       "  <thead>\n",
       "    <tr style=\"text-align: right;\">\n",
       "      <th></th>\n",
       "      <th>user_id</th>\n",
       "      <th>song_id</th>\n",
       "      <th>frequency</th>\n",
       "      <th>track_id</th>\n",
       "      <th>artist_name</th>\n",
       "      <th>release</th>\n",
       "    </tr>\n",
       "  </thead>\n",
       "  <tbody>\n",
       "    <tr>\n",
       "      <th>0</th>\n",
       "      <td>fd50c4007b68a3737fe052d5a4f78ce8aa117f3d</td>\n",
       "      <td>SOBONKR12A58A7A7E0</td>\n",
       "      <td>1</td>\n",
       "      <td>TRAEHHJ12903CF492F</td>\n",
       "      <td>Dwight Yoakam</td>\n",
       "      <td>You're The One</td>\n",
       "    </tr>\n",
       "    <tr>\n",
       "      <th>1</th>\n",
       "      <td>c34670d9c1718361feb93068a853cead3c95b76a</td>\n",
       "      <td>SOBONKR12A58A7A7E0</td>\n",
       "      <td>1</td>\n",
       "      <td>TRAEHHJ12903CF492F</td>\n",
       "      <td>Dwight Yoakam</td>\n",
       "      <td>You're The One</td>\n",
       "    </tr>\n",
       "    <tr>\n",
       "      <th>2</th>\n",
       "      <td>c5006d9f41f68ccccbf5ee29212b6af494110c5e</td>\n",
       "      <td>SOBONKR12A58A7A7E0</td>\n",
       "      <td>1</td>\n",
       "      <td>TRAEHHJ12903CF492F</td>\n",
       "      <td>Dwight Yoakam</td>\n",
       "      <td>You're The One</td>\n",
       "    </tr>\n",
       "    <tr>\n",
       "      <th>3</th>\n",
       "      <td>e4332e11f4df6dd26673bb6b085e9a2bbdc9b8a5</td>\n",
       "      <td>SOBONKR12A58A7A7E0</td>\n",
       "      <td>2</td>\n",
       "      <td>TRAEHHJ12903CF492F</td>\n",
       "      <td>Dwight Yoakam</td>\n",
       "      <td>You're The One</td>\n",
       "    </tr>\n",
       "    <tr>\n",
       "      <th>4</th>\n",
       "      <td>baf2fe5885ab93fbbdb7fecc6691788e70afb6c8</td>\n",
       "      <td>SOBONKR12A58A7A7E0</td>\n",
       "      <td>4</td>\n",
       "      <td>TRAEHHJ12903CF492F</td>\n",
       "      <td>Dwight Yoakam</td>\n",
       "      <td>You're The One</td>\n",
       "    </tr>\n",
       "  </tbody>\n",
       "</table>\n",
       "</div>"
      ],
      "text/plain": [
       "                                    user_id             song_id  frequency  \\\n",
       "0  fd50c4007b68a3737fe052d5a4f78ce8aa117f3d  SOBONKR12A58A7A7E0          1   \n",
       "1  c34670d9c1718361feb93068a853cead3c95b76a  SOBONKR12A58A7A7E0          1   \n",
       "2  c5006d9f41f68ccccbf5ee29212b6af494110c5e  SOBONKR12A58A7A7E0          1   \n",
       "3  e4332e11f4df6dd26673bb6b085e9a2bbdc9b8a5  SOBONKR12A58A7A7E0          2   \n",
       "4  baf2fe5885ab93fbbdb7fecc6691788e70afb6c8  SOBONKR12A58A7A7E0          4   \n",
       "\n",
       "             track_id    artist_name         release  \n",
       "0  TRAEHHJ12903CF492F  Dwight Yoakam  You're The One  \n",
       "1  TRAEHHJ12903CF492F  Dwight Yoakam  You're The One  \n",
       "2  TRAEHHJ12903CF492F  Dwight Yoakam  You're The One  \n",
       "3  TRAEHHJ12903CF492F  Dwight Yoakam  You're The One  \n",
       "4  TRAEHHJ12903CF492F  Dwight Yoakam  You're The One  "
      ]
     },
     "execution_count": 46,
     "metadata": {},
     "output_type": "execute_result"
    }
   ],
   "source": [
    "df_songs.head()"
   ]
  },
  {
   "cell_type": "markdown",
   "metadata": {},
   "source": [
    "Then, we'll check how many observions there are in the dataset."
   ]
  },
  {
   "cell_type": "code",
   "execution_count": 47,
   "metadata": {},
   "outputs": [
    {
     "name": "stdout",
     "output_type": "stream",
     "text": [
      "There are 500000 observations in the dataset\n"
     ]
    }
   ],
   "source": [
    "#Get total observations\n",
    "print(f\"There are {df_songs.shape[0]} observations in the dataset\")"
   ]
  },
  {
   "cell_type": "markdown",
   "metadata": {},
   "source": [
    "Now, we should perform some cleaning steps. But looking at the dataset, we can see that there is no missing values."
   ]
  },
  {
   "cell_type": "code",
   "execution_count": 48,
   "metadata": {},
   "outputs": [
    {
     "data": {
      "text/plain": [
       "user_id        0\n",
       "song_id        0\n",
       "frequency      0\n",
       "track_id       0\n",
       "artist_name    0\n",
       "release        0\n",
       "dtype: int64"
      ]
     },
     "execution_count": 48,
     "metadata": {},
     "output_type": "execute_result"
    }
   ],
   "source": [
    "df_songs.isnull().sum()"
   ]
  },
  {
   "cell_type": "markdown",
   "metadata": {},
   "source": [
    "And most of the columns contain strings."
   ]
  },
  {
   "cell_type": "code",
   "execution_count": 49,
   "metadata": {},
   "outputs": [
    {
     "data": {
      "text/plain": [
       "user_id        object\n",
       "song_id        object\n",
       "frequency       int64\n",
       "track_id       object\n",
       "artist_name    object\n",
       "release        object\n",
       "dtype: object"
      ]
     },
     "execution_count": 49,
     "metadata": {},
     "output_type": "execute_result"
    }
   ],
   "source": [
    "df_songs.dtypes"
   ]
  },
  {
   "cell_type": "markdown",
   "metadata": {},
   "source": [
    "Let's start exploring some characteristics of the dataset: \n",
    "\n",
    "- Unique songs:"
   ]
  },
  {
   "cell_type": "code",
   "execution_count": 50,
   "metadata": {},
   "outputs": [
    {
     "name": "stdout",
     "output_type": "stream",
     "text": [
      "There are 6183 unique songs in the dataset\n"
     ]
    }
   ],
   "source": [
    "#Unique songs\n",
    "unique_songs = df_songs['release'].unique().shape[0]\n",
    "print(f\"There are {unique_songs} unique songs in the dataset\")"
   ]
  },
  {
   "cell_type": "markdown",
   "metadata": {},
   "source": [
    "- Unique artists:"
   ]
  },
  {
   "cell_type": "code",
   "execution_count": 51,
   "metadata": {},
   "outputs": [
    {
     "name": "stdout",
     "output_type": "stream",
     "text": [
      "There are 3194 unique artists in the dataset\n"
     ]
    }
   ],
   "source": [
    "#Unique artists\n",
    "unique_artists = df_songs['artist_name'].unique().shape[0]\n",
    "print(f\"There are {unique_artists} unique artists in the dataset\")"
   ]
  },
  {
   "cell_type": "markdown",
   "metadata": {},
   "source": [
    "- Unique users:"
   ]
  },
  {
   "cell_type": "code",
   "execution_count": 52,
   "metadata": {},
   "outputs": [
    {
     "name": "stdout",
     "output_type": "stream",
     "text": [
      "There are 100931 unique users in the dataset\n"
     ]
    }
   ],
   "source": [
    "#Unique users\n",
    "unique_users = df_songs['user_id'].unique().shape[0]\n",
    "print(f\"There are {unique_users} unique users in the dataset\")"
   ]
  },
  {
   "cell_type": "markdown",
   "metadata": {},
   "source": [
    "**listen count**"
   ]
  },
  {
   "cell_type": "markdown",
   "metadata": {},
   "source": [
    "We can also get some other information from the feature `listen_count`. We will answer the folloging questions:"
   ]
  },
  {
   "cell_type": "markdown",
   "metadata": {},
   "source": [
    "**What was the maximum time the same user listen to a same song?**"
   ]
  },
  {
   "cell_type": "code",
   "execution_count": 53,
   "metadata": {},
   "outputs": [],
   "source": [
    "listen_counts = pd.DataFrame(df_songs.groupby('frequency').size(), columns=['count'])"
   ]
  },
  {
   "cell_type": "code",
   "execution_count": 54,
   "metadata": {},
   "outputs": [
    {
     "name": "stdout",
     "output_type": "stream",
     "text": [
      "The maximum time the same user listened to the same songs was: 500\n"
     ]
    }
   ],
   "source": [
    "print(f\"The maximum time the same user listened to the same songs was: {listen_counts.reset_index(drop=False)['frequency'].iloc[-1]}\")"
   ]
  },
  {
   "cell_type": "markdown",
   "metadata": {},
   "source": [
    "**How many times on average the same user listen to a same song?**"
   ]
  },
  {
   "cell_type": "code",
   "execution_count": 55,
   "metadata": {},
   "outputs": [
    {
     "name": "stdout",
     "output_type": "stream",
     "text": [
      "On average, a user listen to the same song 3.580628 times\n"
     ]
    }
   ],
   "source": [
    "print(f\"On average, a user listen to the same song {df_songs['frequency'].mean()} times\")"
   ]
  },
  {
   "cell_type": "markdown",
   "metadata": {},
   "source": [
    "We can also check the distribution of `listen_count`:"
   ]
  },
  {
   "cell_type": "code",
   "execution_count": 56,
   "metadata": {},
   "outputs": [
    {
     "data": {
      "image/png": "[encoded data removed]",
      "text/plain": [
       "<Figure size 1440x360 with 1 Axes>"
      ]
     },
     "metadata": {
      "needs_background": "light"
     },
     "output_type": "display_data"
    }
   ],
   "source": [
    "plt.figure(figsize=(20, 5))\n",
    "sns.boxplot(x='frequency', data=df_songs)\n",
    "sns.despine()"
   ]
  },
  {
   "cell_type": "markdown",
   "metadata": {},
   "source": [
    "**What are the most frequent number of times a user listen to the same song?**"
   ]
  },
  {
   "cell_type": "code",
   "execution_count": 57,
   "metadata": {},
   "outputs": [],
   "source": [
    "listen_counts_temp = listen_counts[listen_counts['count'] > 50].reset_index(drop=False)"
   ]
  },
  {
   "cell_type": "code",
   "execution_count": 58,
   "metadata": {},
   "outputs": [
    {
     "data": {
      "image/png": "[encoded data removed]",
      "text/plain": [
       "<Figure size 1152x576 with 1 Axes>"
      ]
     },
     "metadata": {
      "needs_background": "light"
     },
     "output_type": "display_data"
    }
   ],
   "source": [
    "plt.figure(figsize=(16, 8))\n",
    "sns.barplot(x='frequency', y='count', palette='Set3', data=listen_counts_temp)\n",
    "plt.gca().spines['top'].set_visible(False)\n",
    "plt.gca().spines['right'].set_visible(False)\n",
    "plt.show();"
   ]
  },
  {
   "cell_type": "markdown",
   "metadata": {},
   "source": [
    "**How many songs does a user listen in average?**"
   ]
  },
  {
   "cell_type": "code",
   "execution_count": 59,
   "metadata": {},
   "outputs": [],
   "source": [
    "song_user = df_songs.groupby('user_id')['song_id'].count()"
   ]
  },
  {
   "cell_type": "code",
   "execution_count": 60,
   "metadata": {},
   "outputs": [
    {
     "data": {
      "image/png": "[encoded data removed]",
      "text/plain": [
       "<Figure size 1152x576 with 1 Axes>"
      ]
     },
     "metadata": {
      "needs_background": "light"
     },
     "output_type": "display_data"
    }
   ],
   "source": [
    "plt.figure(figsize=(16, 8))\n",
    "sns.distplot(song_user.values, color='orange')\n",
    "plt.gca().spines['top'].set_visible(False)\n",
    "plt.gca().spines['right'].set_visible(False)\n",
    "plt.show();"
   ]
  },
  {
   "cell_type": "code",
   "execution_count": 61,
   "metadata": {},
   "outputs": [
    {
     "name": "stdout",
     "output_type": "stream",
     "text": [
      "A user listens to an average of 4.953879382944784 songs\n"
     ]
    }
   ],
   "source": [
    "print(f\"A user listens to an average of {np.mean(song_user)} songs\")"
   ]
  },
  {
   "cell_type": "code",
   "execution_count": 62,
   "metadata": {},
   "outputs": [
    {
     "name": "stdout",
     "output_type": "stream",
     "text": [
      "A user listens to an average of 4.0 songs, with minimum 1 and maximum 46 songs\n"
     ]
    }
   ],
   "source": [
    "print(f\"A user listens to an average of {np.median(song_user)} songs, with minimum {np.min(song_user)} and maximum {np.max(song_user)} songs\")"
   ]
  },
  {
   "cell_type": "markdown",
   "metadata": {},
   "source": [
    "We can see that a user listens in average to 27 songs. Even the maximum amount of songs listen by an user is 711, and we have 9567 songs in our dataset.\n",
    "\n",
    "So, not all user listen to all songs, so a lot of values in the `song x users` matrix are going to be zero. Thus, we’ll be dealing with extremely sparse data. \n",
    "\n",
    "*How sparse?* Let's check that:"
   ]
  },
  {
   "cell_type": "code",
   "execution_count": 63,
   "metadata": {},
   "outputs": [],
   "source": [
    "# Get how many values should it be if all songs have been listen by all users\n",
    "values_matrix = unique_users * unique_songs"
   ]
  },
  {
   "cell_type": "code",
   "execution_count": 64,
   "metadata": {},
   "outputs": [],
   "source": [
    "# Substract the total values with the actural shape of the DataFrame songs\n",
    "zero_values_matrix = values_matrix - df_songs.shape[0]"
   ]
  },
  {
   "cell_type": "code",
   "execution_count": 65,
   "metadata": {},
   "outputs": [
    {
     "name": "stdout",
     "output_type": "stream",
     "text": [
      "The matrix of users x songs has 623556373 values that are zero\n"
     ]
    }
   ],
   "source": [
    "print(f\"The matrix of users x songs has {zero_values_matrix} values that are zero\")"
   ]
  },
  {
   "cell_type": "markdown",
   "metadata": {},
   "source": [
    "Dealing with such a sparse matrix, we'll take a lot of memory and resources. To make our life easier, let's just select all those users that have listened to at least 16 songs. "
   ]
  },
  {
   "cell_type": "markdown",
   "metadata": {},
   "source": [
    "### Prepare the data"
   ]
  },
  {
   "cell_type": "code",
   "execution_count": 66,
   "metadata": {},
   "outputs": [],
   "source": [
    "# Get users which have listen to at least 16 songs\n",
    "song_ten_id = song_user[song_user > 16].index.to_list()"
   ]
  },
  {
   "cell_type": "code",
   "execution_count": 67,
   "metadata": {},
   "outputs": [],
   "source": [
    "# Filtered the dataset to keep only those users with more than 16 listened\n",
    "df_song_id_more_ten = df_songs[df_songs['user_id'].isin(song_ten_id)].reset_index(drop=True)"
   ]
  },
  {
   "cell_type": "markdown",
   "metadata": {},
   "source": [
    "We need now to work with a `scipy-sparse matrix` to avoid overflow and wasted memory. For that purpose, we'll use the `csr_matrix` function from `scipy.sparse`."
   ]
  },
  {
   "cell_type": "code",
   "execution_count": 68,
   "metadata": {},
   "outputs": [],
   "source": [
    "# convert the dataframe into a pivot table\n",
    "df_songs_features = df_song_id_more_ten.pivot(index='song_id', columns='user_id', values='frequency').fillna(0)\n",
    "\n",
    "# obtain a sparse matrix\n",
    "mat_songs_features = csr_matrix(df_songs_features.values)"
   ]
  },
  {
   "cell_type": "markdown",
   "metadata": {},
   "source": [
    "Let's take a look at the table `user x song`."
   ]
  },
  {
   "cell_type": "code",
   "execution_count": 69,
   "metadata": {},
   "outputs": [
    {
     "data": {
      "text/html": [
       "<div>\n",
       "<style scoped>\n",
       "    .dataframe tbody tr th:only-of-type {\n",
       "        vertical-align: middle;\n",
       "    }\n",
       "\n",
       "    .dataframe tbody tr th {\n",
       "        vertical-align: top;\n",
       "    }\n",
       "\n",
       "    .dataframe thead th {\n",
       "        text-align: right;\n",
       "    }\n",
       "</style>\n",
       "<table border=\"1\" class=\"dataframe\">\n",
       "  <thead>\n",
       "    <tr style=\"text-align: right;\">\n",
       "      <th>user_id</th>\n",
       "      <th>0003798d61a8010dbfd8010180b7107cbbb8a649</th>\n",
       "      <th>0011d5f4fb02ff276763d385c3f2ded2b00ad94a</th>\n",
       "      <th>002ee8f7e9d68eafd9dea98a2f093174be98fdb4</th>\n",
       "      <th>00587ee69421cb6abc50898714c23583f1f4e230</th>\n",
       "      <th>005a6d3db8263c1b08cb04b4e78c689dbb7ba6f5</th>\n",
       "      <th>006665569461ff1711a0f3f29c47b5e7ab43edb2</th>\n",
       "      <th>0093ea2ad5eebbfe7635a70909b7988d1b340a5a</th>\n",
       "      <th>00e1946778997bfb860e3cb1dedfcdf487df9d67</th>\n",
       "      <th>00f0fe027bcf6bb8ef4a6c310446781d6098a8e0</th>\n",
       "      <th>01047b99e00bb0743f66bb321bdd62e38fddb0a5</th>\n",
       "      <th>...</th>\n",
       "      <th>fe95c6a6a5290c4069043abf13adec17b548519c</th>\n",
       "      <th>fe9ab375d8c5826f6987a534b7158e404e530b89</th>\n",
       "      <th>ff125cc7b865c5be00d6a1d2a4e0984278cdddc4</th>\n",
       "      <th>ff30c9ddaf0fd5f83b01f2e903fc14d3f7b99099</th>\n",
       "      <th>ff511fa7338117958042d2a698513697a736bc8e</th>\n",
       "      <th>ff77fea5a8d84f5109de17185e2a7fb5d7e2a467</th>\n",
       "      <th>ff80830a101547b5c112e72e939dde33f0a68a1b</th>\n",
       "      <th>ff8e4bd0e848f80a47a3988eb853e81d0cdb5a23</th>\n",
       "      <th>ffee916020d891a74264b8326829742333b79103</th>\n",
       "      <th>ffef132931d961bad8df82a6a8f200fa1aed7746</th>\n",
       "    </tr>\n",
       "    <tr>\n",
       "      <th>song_id</th>\n",
       "      <th></th>\n",
       "      <th></th>\n",
       "      <th></th>\n",
       "      <th></th>\n",
       "      <th></th>\n",
       "      <th></th>\n",
       "      <th></th>\n",
       "      <th></th>\n",
       "      <th></th>\n",
       "      <th></th>\n",
       "      <th></th>\n",
       "      <th></th>\n",
       "      <th></th>\n",
       "      <th></th>\n",
       "      <th></th>\n",
       "      <th></th>\n",
       "      <th></th>\n",
       "      <th></th>\n",
       "      <th></th>\n",
       "      <th></th>\n",
       "      <th></th>\n",
       "    </tr>\n",
       "  </thead>\n",
       "  <tbody>\n",
       "    <tr>\n",
       "      <th>SOAAFYH12A8C13717A</th>\n",
       "      <td>0.0</td>\n",
       "      <td>0.0</td>\n",
       "      <td>0.0</td>\n",
       "      <td>0.0</td>\n",
       "      <td>0.0</td>\n",
       "      <td>0.0</td>\n",
       "      <td>0.0</td>\n",
       "      <td>0.0</td>\n",
       "      <td>0.0</td>\n",
       "      <td>0.0</td>\n",
       "      <td>...</td>\n",
       "      <td>0.0</td>\n",
       "      <td>0.0</td>\n",
       "      <td>0.0</td>\n",
       "      <td>0.0</td>\n",
       "      <td>0.0</td>\n",
       "      <td>0.0</td>\n",
       "      <td>0.0</td>\n",
       "      <td>0.0</td>\n",
       "      <td>0.0</td>\n",
       "      <td>0.0</td>\n",
       "    </tr>\n",
       "    <tr>\n",
       "      <th>SOAALJB12A8C13C4B6</th>\n",
       "      <td>0.0</td>\n",
       "      <td>0.0</td>\n",
       "      <td>0.0</td>\n",
       "      <td>0.0</td>\n",
       "      <td>0.0</td>\n",
       "      <td>0.0</td>\n",
       "      <td>0.0</td>\n",
       "      <td>0.0</td>\n",
       "      <td>0.0</td>\n",
       "      <td>0.0</td>\n",
       "      <td>...</td>\n",
       "      <td>0.0</td>\n",
       "      <td>0.0</td>\n",
       "      <td>0.0</td>\n",
       "      <td>0.0</td>\n",
       "      <td>0.0</td>\n",
       "      <td>0.0</td>\n",
       "      <td>0.0</td>\n",
       "      <td>0.0</td>\n",
       "      <td>0.0</td>\n",
       "      <td>0.0</td>\n",
       "    </tr>\n",
       "    <tr>\n",
       "      <th>SOAAMPN12A6310D812</th>\n",
       "      <td>0.0</td>\n",
       "      <td>0.0</td>\n",
       "      <td>0.0</td>\n",
       "      <td>0.0</td>\n",
       "      <td>0.0</td>\n",
       "      <td>0.0</td>\n",
       "      <td>0.0</td>\n",
       "      <td>0.0</td>\n",
       "      <td>0.0</td>\n",
       "      <td>0.0</td>\n",
       "      <td>...</td>\n",
       "      <td>0.0</td>\n",
       "      <td>0.0</td>\n",
       "      <td>0.0</td>\n",
       "      <td>0.0</td>\n",
       "      <td>0.0</td>\n",
       "      <td>0.0</td>\n",
       "      <td>0.0</td>\n",
       "      <td>0.0</td>\n",
       "      <td>0.0</td>\n",
       "      <td>0.0</td>\n",
       "    </tr>\n",
       "    <tr>\n",
       "      <th>SOAAROC12A6D4FA420</th>\n",
       "      <td>0.0</td>\n",
       "      <td>0.0</td>\n",
       "      <td>0.0</td>\n",
       "      <td>0.0</td>\n",
       "      <td>0.0</td>\n",
       "      <td>0.0</td>\n",
       "      <td>0.0</td>\n",
       "      <td>0.0</td>\n",
       "      <td>0.0</td>\n",
       "      <td>0.0</td>\n",
       "      <td>...</td>\n",
       "      <td>0.0</td>\n",
       "      <td>0.0</td>\n",
       "      <td>0.0</td>\n",
       "      <td>0.0</td>\n",
       "      <td>0.0</td>\n",
       "      <td>0.0</td>\n",
       "      <td>0.0</td>\n",
       "      <td>0.0</td>\n",
       "      <td>0.0</td>\n",
       "      <td>0.0</td>\n",
       "    </tr>\n",
       "    <tr>\n",
       "      <th>SOAAUKC12AB017F868</th>\n",
       "      <td>0.0</td>\n",
       "      <td>0.0</td>\n",
       "      <td>0.0</td>\n",
       "      <td>0.0</td>\n",
       "      <td>0.0</td>\n",
       "      <td>0.0</td>\n",
       "      <td>0.0</td>\n",
       "      <td>0.0</td>\n",
       "      <td>0.0</td>\n",
       "      <td>0.0</td>\n",
       "      <td>...</td>\n",
       "      <td>0.0</td>\n",
       "      <td>0.0</td>\n",
       "      <td>0.0</td>\n",
       "      <td>0.0</td>\n",
       "      <td>0.0</td>\n",
       "      <td>0.0</td>\n",
       "      <td>0.0</td>\n",
       "      <td>0.0</td>\n",
       "      <td>0.0</td>\n",
       "      <td>0.0</td>\n",
       "    </tr>\n",
       "  </tbody>\n",
       "</table>\n",
       "<p>5 rows × 1803 columns</p>\n",
       "</div>"
      ],
      "text/plain": [
       "user_id             0003798d61a8010dbfd8010180b7107cbbb8a649  \\\n",
       "song_id                                                        \n",
       "SOAAFYH12A8C13717A                                       0.0   \n",
       "SOAALJB12A8C13C4B6                                       0.0   \n",
       "SOAAMPN12A6310D812                                       0.0   \n",
       "SOAAROC12A6D4FA420                                       0.0   \n",
       "SOAAUKC12AB017F868                                       0.0   \n",
       "\n",
       "user_id             0011d5f4fb02ff276763d385c3f2ded2b00ad94a  \\\n",
       "song_id                                                        \n",
       "SOAAFYH12A8C13717A                                       0.0   \n",
       "SOAALJB12A8C13C4B6                                       0.0   \n",
       "SOAAMPN12A6310D812                                       0.0   \n",
       "SOAAROC12A6D4FA420                                       0.0   \n",
       "SOAAUKC12AB017F868                                       0.0   \n",
       "\n",
       "user_id             002ee8f7e9d68eafd9dea98a2f093174be98fdb4  \\\n",
       "song_id                                                        \n",
       "SOAAFYH12A8C13717A                                       0.0   \n",
       "SOAALJB12A8C13C4B6                                       0.0   \n",
       "SOAAMPN12A6310D812                                       0.0   \n",
       "SOAAROC12A6D4FA420                                       0.0   \n",
       "SOAAUKC12AB017F868                                       0.0   \n",
       "\n",
       "user_id             00587ee69421cb6abc50898714c23583f1f4e230  \\\n",
       "song_id                                                        \n",
       "SOAAFYH12A8C13717A                                       0.0   \n",
       "SOAALJB12A8C13C4B6                                       0.0   \n",
       "SOAAMPN12A6310D812                                       0.0   \n",
       "SOAAROC12A6D4FA420                                       0.0   \n",
       "SOAAUKC12AB017F868                                       0.0   \n",
       "\n",
       "user_id             005a6d3db8263c1b08cb04b4e78c689dbb7ba6f5  \\\n",
       "song_id                                                        \n",
       "SOAAFYH12A8C13717A                                       0.0   \n",
       "SOAALJB12A8C13C4B6                                       0.0   \n",
       "SOAAMPN12A6310D812                                       0.0   \n",
       "SOAAROC12A6D4FA420                                       0.0   \n",
       "SOAAUKC12AB017F868                                       0.0   \n",
       "\n",
       "user_id             006665569461ff1711a0f3f29c47b5e7ab43edb2  \\\n",
       "song_id                                                        \n",
       "SOAAFYH12A8C13717A                                       0.0   \n",
       "SOAALJB12A8C13C4B6                                       0.0   \n",
       "SOAAMPN12A6310D812                                       0.0   \n",
       "SOAAROC12A6D4FA420                                       0.0   \n",
       "SOAAUKC12AB017F868                                       0.0   \n",
       "\n",
       "user_id             0093ea2ad5eebbfe7635a70909b7988d1b340a5a  \\\n",
       "song_id                                                        \n",
       "SOAAFYH12A8C13717A                                       0.0   \n",
       "SOAALJB12A8C13C4B6                                       0.0   \n",
       "SOAAMPN12A6310D812                                       0.0   \n",
       "SOAAROC12A6D4FA420                                       0.0   \n",
       "SOAAUKC12AB017F868                                       0.0   \n",
       "\n",
       "user_id             00e1946778997bfb860e3cb1dedfcdf487df9d67  \\\n",
       "song_id                                                        \n",
       "SOAAFYH12A8C13717A                                       0.0   \n",
       "SOAALJB12A8C13C4B6                                       0.0   \n",
       "SOAAMPN12A6310D812                                       0.0   \n",
       "SOAAROC12A6D4FA420                                       0.0   \n",
       "SOAAUKC12AB017F868                                       0.0   \n",
       "\n",
       "user_id             00f0fe027bcf6bb8ef4a6c310446781d6098a8e0  \\\n",
       "song_id                                                        \n",
       "SOAAFYH12A8C13717A                                       0.0   \n",
       "SOAALJB12A8C13C4B6                                       0.0   \n",
       "SOAAMPN12A6310D812                                       0.0   \n",
       "SOAAROC12A6D4FA420                                       0.0   \n",
       "SOAAUKC12AB017F868                                       0.0   \n",
       "\n",
       "user_id             01047b99e00bb0743f66bb321bdd62e38fddb0a5  ...  \\\n",
       "song_id                                                       ...   \n",
       "SOAAFYH12A8C13717A                                       0.0  ...   \n",
       "SOAALJB12A8C13C4B6                                       0.0  ...   \n",
       "SOAAMPN12A6310D812                                       0.0  ...   \n",
       "SOAAROC12A6D4FA420                                       0.0  ...   \n",
       "SOAAUKC12AB017F868                                       0.0  ...   \n",
       "\n",
       "user_id             fe95c6a6a5290c4069043abf13adec17b548519c  \\\n",
       "song_id                                                        \n",
       "SOAAFYH12A8C13717A                                       0.0   \n",
       "SOAALJB12A8C13C4B6                                       0.0   \n",
       "SOAAMPN12A6310D812                                       0.0   \n",
       "SOAAROC12A6D4FA420                                       0.0   \n",
       "SOAAUKC12AB017F868                                       0.0   \n",
       "\n",
       "user_id             fe9ab375d8c5826f6987a534b7158e404e530b89  \\\n",
       "song_id                                                        \n",
       "SOAAFYH12A8C13717A                                       0.0   \n",
       "SOAALJB12A8C13C4B6                                       0.0   \n",
       "SOAAMPN12A6310D812                                       0.0   \n",
       "SOAAROC12A6D4FA420                                       0.0   \n",
       "SOAAUKC12AB017F868                                       0.0   \n",
       "\n",
       "user_id             ff125cc7b865c5be00d6a1d2a4e0984278cdddc4  \\\n",
       "song_id                                                        \n",
       "SOAAFYH12A8C13717A                                       0.0   \n",
       "SOAALJB12A8C13C4B6                                       0.0   \n",
       "SOAAMPN12A6310D812                                       0.0   \n",
       "SOAAROC12A6D4FA420                                       0.0   \n",
       "SOAAUKC12AB017F868                                       0.0   \n",
       "\n",
       "user_id             ff30c9ddaf0fd5f83b01f2e903fc14d3f7b99099  \\\n",
       "song_id                                                        \n",
       "SOAAFYH12A8C13717A                                       0.0   \n",
       "SOAALJB12A8C13C4B6                                       0.0   \n",
       "SOAAMPN12A6310D812                                       0.0   \n",
       "SOAAROC12A6D4FA420                                       0.0   \n",
       "SOAAUKC12AB017F868                                       0.0   \n",
       "\n",
       "user_id             ff511fa7338117958042d2a698513697a736bc8e  \\\n",
       "song_id                                                        \n",
       "SOAAFYH12A8C13717A                                       0.0   \n",
       "SOAALJB12A8C13C4B6                                       0.0   \n",
       "SOAAMPN12A6310D812                                       0.0   \n",
       "SOAAROC12A6D4FA420                                       0.0   \n",
       "SOAAUKC12AB017F868                                       0.0   \n",
       "\n",
       "user_id             ff77fea5a8d84f5109de17185e2a7fb5d7e2a467  \\\n",
       "song_id                                                        \n",
       "SOAAFYH12A8C13717A                                       0.0   \n",
       "SOAALJB12A8C13C4B6                                       0.0   \n",
       "SOAAMPN12A6310D812                                       0.0   \n",
       "SOAAROC12A6D4FA420                                       0.0   \n",
       "SOAAUKC12AB017F868                                       0.0   \n",
       "\n",
       "user_id             ff80830a101547b5c112e72e939dde33f0a68a1b  \\\n",
       "song_id                                                        \n",
       "SOAAFYH12A8C13717A                                       0.0   \n",
       "SOAALJB12A8C13C4B6                                       0.0   \n",
       "SOAAMPN12A6310D812                                       0.0   \n",
       "SOAAROC12A6D4FA420                                       0.0   \n",
       "SOAAUKC12AB017F868                                       0.0   \n",
       "\n",
       "user_id             ff8e4bd0e848f80a47a3988eb853e81d0cdb5a23  \\\n",
       "song_id                                                        \n",
       "SOAAFYH12A8C13717A                                       0.0   \n",
       "SOAALJB12A8C13C4B6                                       0.0   \n",
       "SOAAMPN12A6310D812                                       0.0   \n",
       "SOAAROC12A6D4FA420                                       0.0   \n",
       "SOAAUKC12AB017F868                                       0.0   \n",
       "\n",
       "user_id             ffee916020d891a74264b8326829742333b79103  \\\n",
       "song_id                                                        \n",
       "SOAAFYH12A8C13717A                                       0.0   \n",
       "SOAALJB12A8C13C4B6                                       0.0   \n",
       "SOAAMPN12A6310D812                                       0.0   \n",
       "SOAAROC12A6D4FA420                                       0.0   \n",
       "SOAAUKC12AB017F868                                       0.0   \n",
       "\n",
       "user_id             ffef132931d961bad8df82a6a8f200fa1aed7746  \n",
       "song_id                                                       \n",
       "SOAAFYH12A8C13717A                                       0.0  \n",
       "SOAALJB12A8C13C4B6                                       0.0  \n",
       "SOAAMPN12A6310D812                                       0.0  \n",
       "SOAAROC12A6D4FA420                                       0.0  \n",
       "SOAAUKC12AB017F868                                       0.0  \n",
       "\n",
       "[5 rows x 1803 columns]"
      ]
     },
     "execution_count": 69,
     "metadata": {},
     "output_type": "execute_result"
    }
   ],
   "source": [
    "df_songs_features.head()"
   ]
  },
  {
   "cell_type": "markdown",
   "metadata": {},
   "source": [
    "Because the system will output the id of the song, instead of the title, we'll make a function that maps those indices with the song title."
   ]
  },
  {
   "cell_type": "code",
   "execution_count": 70,
   "metadata": {},
   "outputs": [],
   "source": [
    "df_unique_songs = df_songs.drop_duplicates(subset=['song_id']).reset_index(drop=True)[['song_id', 'release']]"
   ]
  },
  {
   "cell_type": "code",
   "execution_count": 71,
   "metadata": {},
   "outputs": [],
   "source": [
    "decode_id_song = {\n",
    "    song: i for i, song in \n",
    "    enumerate(list(df_unique_songs.set_index('song_id').loc[df_songs_features.index].release))\n",
    "}"
   ]
  },
  {
   "cell_type": "markdown",
   "metadata": {},
   "source": [
    "### Model and recommendations"
   ]
  },
  {
   "cell_type": "markdown",
   "metadata": {},
   "source": [
    "So, we know that we want to use the model to predict songs. For that, we'll use the `Recommender` class wrote in the `knn_recommender` file."
   ]
  },
  {
   "cell_type": "code",
   "execution_count": 72,
   "metadata": {},
   "outputs": [],
   "source": [
    "model = Recommender(metric='cosine', algorithm='brute', k=20, data=mat_songs_features, decode_id_song=decode_id_song)"
   ]
  },
  {
   "cell_type": "code",
   "execution_count": 83,
   "metadata": {},
   "outputs": [],
   "source": [
    "song = 'Cheryl Cole'"
   ]
  },
  {
   "cell_type": "code",
   "execution_count": 84,
   "metadata": {},
   "outputs": [
    {
     "name": "stdout",
     "output_type": "stream",
     "text": [
      "Starting the recommendation process for Cheryl Cole ...\n",
      "... Done\n"
     ]
    }
   ],
   "source": [
    "new_recommendations = model.make_recommendation(new_song=song, n_recommendations=10)"
   ]
  },
  {
   "cell_type": "code",
   "execution_count": 85,
   "metadata": {},
   "outputs": [
    {
     "name": "stdout",
     "output_type": "stream",
     "text": [
      "The recommendations for Cheryl Cole are:\n",
      "['Me Da Igual', 'Con Mis Manos', 'Miracle Town', 'Cosas Del Amor', 'Hacer El Amor Con Otro', 'Go Away Angels', 'Please and Thank You', 'I Can Tell', 'Heroe', 'Si Tú No Estás']\n"
     ]
    }
   ],
   "source": [
    "print(f\"The recommendations for {song} are:\")\n",
    "print(f\"{new_recommendations}\")"
   ]
  },
  {
   "cell_type": "code",
   "execution_count": null,
   "metadata": {},
   "outputs": [],
   "source": []
  },
  {
   "cell_type": "code",
   "execution_count": null,
   "metadata": {},
   "outputs": [],
   "source": []
  }
 ],
 "metadata": {
  "kernelspec": {
   "display_name": "Python 3",
   "language": "python",
   "name": "python3"
  },
  "language_info": {
   "codemirror_mode": {
    "name": "ipython",
    "version": 3
   },
   "file_extension": ".py",
   "mimetype": "text/x-python",
   "name": "python",
   "nbconvert_exporter": "python",
   "pygments_lexer": "ipython3",
   "version": "3.8.8"
  }
 },
 "nbformat": 4,
 "nbformat_minor": 4
}
