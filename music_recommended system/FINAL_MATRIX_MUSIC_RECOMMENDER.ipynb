{
 "cells": [
  {
   "cell_type": "markdown",
   "metadata": {},
   "source": [
    "# Music recommender system\n",
    "\n",
    "One of the most used machine learning algorithms is recommendation systems. A **recommender** (or recommendation) **system** (or engine) is a filtering system which aim is to predict a rating or preference a user would give to an item, eg. a film, a product, a song, etc.\n",
    "\n",
    "Which type of recommender can we have?   \n",
    "\n",
    "There are two main types of recommender systems: \n",
    "- Content-based filters\n",
    "- Collaborative filters\n",
    "  \n",
    "> Content-based filters predicts what a user likes based on what that particular user has liked in the past. On the other hand, collaborative-based filters predict what a user like based on what other users, that are similar to that particular user, have liked.\n",
    "\n",
    "We have previously developed a content-based recommendation system. Now, we'll look into collaborative filtering. \n",
    "\n",
    "### 2) Collaborative filters\n",
    "\n",
    "Collaborative Filters work with an interaction matrix, also called rating matrix. The aim of this algorithm is to learn a function that can predict if a user will benefit from an item - meaning the user will likely buy, listen to, watch this item.\n",
    "\n",
    "Among collaborative-based systems, we can encounter two types: **user-item** filtering and **item-item** filtering. \n",
    "  \n",
    "We'll go through the steps for generating a music recommender system. This time, we are going to use a matrix factorization approach. "
   ]
  },
  {
   "cell_type": "markdown",
   "metadata": {},
   "source": [
    "### Importing required libraries"
   ]
  },
  {
   "cell_type": "markdown",
   "metadata": {},
   "source": [
    "First, we'll import all the required libraries."
   ]
  },
  {
   "cell_type": "code",
   "execution_count": 23,
   "metadata": {},
   "outputs": [],
   "source": [
    "import numpy as np\n",
    "import pandas as pd\n",
    "import matplotlib.pyplot as plt\n",
    "import seaborn as sns"
   ]
  },
  {
   "cell_type": "code",
   "execution_count": 24,
   "metadata": {},
   "outputs": [
    {
     "name": "stdout",
     "output_type": "stream",
     "text": [
      "Collecting package metadata (current_repodata.json): ...working... done\n",
      "Solving environment: ...working... done\n",
      "\n",
      "## Package Plan ##\n",
      "\n",
      "  environment location: C:\\Users\\jakku\\anaconda3\n",
      "\n",
      "  added / updated specs:\n",
      "    - scikit-surprise\n",
      "\n",
      "\n",
      "The following packages will be downloaded:\n",
      "\n",
      "    package                    |            build\n",
      "    ---------------------------|-----------------\n",
      "    ca-certificates-2021.5.30  |       h5b45459_0         171 KB  conda-forge\n",
      "\n",
      "Note: you may need to restart the kernel to use updated packages.\n",
      "    certifi-2021.5.30          |   py38haa244fe_0         142 KB  conda-forge\n",
      "    conda-4.10.1               |   py38haa244fe_0         3.1 MB  conda-forge\n",
      "    openssl-1.1.1k             |       h8ffe710_0         5.7 MB  conda-forge\n",
      "    python_abi-3.8             |           1_cp38           4 KB  conda-forge\n",
      "    scikit-surprise-1.1.1      |   py38h1e00858_1         567 KB  conda-forge\n",
      "    ------------------------------------------------------------\n",
      "                                           Total:         9.7 MB\n",
      "\n",
      "The following NEW packages will be INSTALLED:\n",
      "\n",
      "  python_abi         conda-forge/win-64::python_abi-3.8-1_cp38\n",
      "  scikit-surprise    conda-forge/win-64::scikit-surprise-1.1.1-py38h1e00858_1\n",
      "\n",
      "The following packages will be UPDATED:\n",
      "\n",
      "  ca-certificates    pkgs/main::ca-certificates-2021.5.25-~ --> conda-forge::ca-certificates-2021.5.30-h5b45459_0\n",
      "\n",
      "The following packages will be SUPERSEDED by a higher-priority channel:\n",
      "\n",
      "  certifi            pkgs/main::certifi-2021.5.30-py38haa9~ --> conda-forge::certifi-2021.5.30-py38haa244fe_0\n",
      "  conda              pkgs/main::conda-4.10.1-py38haa95532_1 --> conda-forge::conda-4.10.1-py38haa244fe_0\n",
      "  openssl              pkgs/main::openssl-1.1.1k-h2bbff1b_0 --> conda-forge::openssl-1.1.1k-h8ffe710_0\n",
      "\n",
      "\n",
      "\n",
      "Downloading and Extracting Packages\n",
      "\n",
      "conda-4.10.1         | 3.1 MB    |            |   0% \n",
      "conda-4.10.1         | 3.1 MB    |            |   1% \n",
      "conda-4.10.1         | 3.1 MB    | #3         |  13% \n",
      "conda-4.10.1         | 3.1 MB    | ###2       |  33% \n",
      "conda-4.10.1         | 3.1 MB    | ####1      |  41% \n",
      "conda-4.10.1         | 3.1 MB    | #####6     |  56% \n",
      "conda-4.10.1         | 3.1 MB    | #######3   |  74% \n",
      "conda-4.10.1         | 3.1 MB    | ########3  |  84% \n",
      "conda-4.10.1         | 3.1 MB    | ########## | 100% \n",
      "conda-4.10.1         | 3.1 MB    | ########## | 100% \n",
      "\n",
      "python_abi-3.8       | 4 KB      |            |   0% \n",
      "python_abi-3.8       | 4 KB      | ########## | 100% \n",
      "python_abi-3.8       | 4 KB      | ########## | 100% \n",
      "\n",
      "certifi-2021.5.30    | 142 KB    |            |   0% \n",
      "certifi-2021.5.30    | 142 KB    | #1         |  11% \n",
      "certifi-2021.5.30    | 142 KB    | ########## | 100% \n",
      "certifi-2021.5.30    | 142 KB    | ########## | 100% \n",
      "\n",
      "ca-certificates-2021 | 171 KB    |            |   0% \n",
      "ca-certificates-2021 | 171 KB    | 9          |   9% \n",
      "ca-certificates-2021 | 171 KB    | ########## | 100% \n",
      "ca-certificates-2021 | 171 KB    | ########## | 100% \n",
      "\n",
      "openssl-1.1.1k       | 5.7 MB    |            |   0% \n",
      "openssl-1.1.1k       | 5.7 MB    | 2          |   3% \n",
      "openssl-1.1.1k       | 5.7 MB    | #          |  11% \n",
      "openssl-1.1.1k       | 5.7 MB    | #9         |  20% \n",
      "openssl-1.1.1k       | 5.7 MB    | ##5        |  26% \n",
      "openssl-1.1.1k       | 5.7 MB    | ###        |  31% \n",
      "openssl-1.1.1k       | 5.7 MB    | ###8       |  38% \n",
      "openssl-1.1.1k       | 5.7 MB    | ####5      |  46% \n",
      "openssl-1.1.1k       | 5.7 MB    | #####6     |  57% \n",
      "openssl-1.1.1k       | 5.7 MB    | ######3    |  63% \n",
      "openssl-1.1.1k       | 5.7 MB    | ######9    |  70% \n",
      "openssl-1.1.1k       | 5.7 MB    | #######6   |  76% \n",
      "openssl-1.1.1k       | 5.7 MB    | ########2  |  82% \n",
      "openssl-1.1.1k       | 5.7 MB    | ########8  |  88% \n",
      "openssl-1.1.1k       | 5.7 MB    | #########4 |  94% \n",
      "openssl-1.1.1k       | 5.7 MB    | ########## | 100% \n",
      "\n",
      "scikit-surprise-1.1. | 567 KB    |            |   0% \n",
      "scikit-surprise-1.1. | 567 KB    | #6         |  17% \n",
      "scikit-surprise-1.1. | 567 KB    | #########5 |  96% \n",
      "scikit-surprise-1.1. | 567 KB    | ########## | 100% \n",
      "Preparing transaction: ...working... done\n",
      "Verifying transaction: ...working... done\n",
      "Executing transaction: ...working... done\n"
     ]
    }
   ],
   "source": [
    "conda install -c conda-forge scikit-surprise"
   ]
  },
  {
   "cell_type": "code",
   "execution_count": 2,
   "metadata": {},
   "outputs": [],
   "source": [
    "from scipy.sparse import csr_matrix"
   ]
  },
  {
   "cell_type": "code",
   "execution_count": 25,
   "metadata": {},
   "outputs": [],
   "source": [
    "from surprise import SVD\n",
    "from surprise import Dataset, Reader\n",
    "from surprise import accuracy\n",
    "from surprise.model_selection import train_test_split\n",
    "from surprise.model_selection import GridSearchCV\n",
    "from surprise.model_selection import cross_validate"
   ]
  },
  {
   "cell_type": "markdown",
   "metadata": {},
   "source": [
    "### Reading the files"
   ]
  },
  {
   "cell_type": "markdown",
   "metadata": {},
   "source": [
    "We are going to use again the **[Million Song Dataset](http://millionsongdataset.com/)**, the freely-available collection of audio features and metadata for a million contemporary popular music tracks that we used for `kNN approach`. "
   ]
  },
  {
   "cell_type": "code",
   "execution_count": 26,
   "metadata": {},
   "outputs": [],
   "source": [
    "#df=pd.read_csv('kaggle_visible_evaluation_triplets.txt',sep='\\t', names=['user_id','song_id','frequency'])\n",
    "df=pd.read_csv(r'C:\\Users\\jakku\\Desktop\\Data Science assignments\\DS Project\\kaggle\\kaggle_visible_evaluation_triplets.txt',sep='\\t',names=['user_id','song_id','frequency'])\n"
   ]
  },
  {
   "cell_type": "code",
   "execution_count": 27,
   "metadata": {},
   "outputs": [
    {
     "name": "stderr",
     "output_type": "stream",
     "text": [
      "<ipython-input-27-94a105af7ca4>:2: ParserWarning: Falling back to the 'python' engine because the 'c' engine does not support regex separators (separators > 1 char and different from '\\s+' are interpreted as regex); you can avoid this warning by specifying engine='python'.\n",
      "  df1=pd.read_csv(r'C:\\Users\\jakku\\Desktop\\Data Science assignments\\DS Project/kaggle/unique_tracks.txt',sep='<SEP>',names=['track_id', 'song_id', 'artist_name', 'release'])\n"
     ]
    }
   ],
   "source": [
    "#df1=pd.read_csv('unique_tracks.txt',sep='<SEP>',names=['track_id', 'song_id', 'artist_name', 'release'])\n",
    "df1=pd.read_csv(r'C:\\Users\\jakku\\Desktop\\Data Science assignments\\DS Project/kaggle/unique_tracks.txt',sep='<SEP>',names=['track_id', 'song_id', 'artist_name', 'release'])"
   ]
  },
  {
   "cell_type": "code",
   "execution_count": 28,
   "metadata": {},
   "outputs": [],
   "source": [
    "df_songs = pd.merge(df, df1.drop_duplicates(['song_id']), on='song_id', how='inner')"
   ]
  },
  {
   "cell_type": "code",
   "execution_count": 29,
   "metadata": {},
   "outputs": [
    {
     "data": {
      "text/html": [
       "<div>\n",
       "<style scoped>\n",
       "    .dataframe tbody tr th:only-of-type {\n",
       "        vertical-align: middle;\n",
       "    }\n",
       "\n",
       "    .dataframe tbody tr th {\n",
       "        vertical-align: top;\n",
       "    }\n",
       "\n",
       "    .dataframe thead th {\n",
       "        text-align: right;\n",
       "    }\n",
       "</style>\n",
       "<table border=\"1\" class=\"dataframe\">\n",
       "  <thead>\n",
       "    <tr style=\"text-align: right;\">\n",
       "      <th></th>\n",
       "      <th>user_id</th>\n",
       "      <th>song_id</th>\n",
       "      <th>frequency</th>\n",
       "      <th>track_id</th>\n",
       "      <th>artist_name</th>\n",
       "      <th>release</th>\n",
       "    </tr>\n",
       "  </thead>\n",
       "  <tbody>\n",
       "    <tr>\n",
       "      <th>0</th>\n",
       "      <td>fd50c4007b68a3737fe052d5a4f78ce8aa117f3d</td>\n",
       "      <td>SOBONKR12A58A7A7E0</td>\n",
       "      <td>1</td>\n",
       "      <td>TRAEHHJ12903CF492F</td>\n",
       "      <td>Dwight Yoakam</td>\n",
       "      <td>You're The One</td>\n",
       "    </tr>\n",
       "    <tr>\n",
       "      <th>1</th>\n",
       "      <td>c34670d9c1718361feb93068a853cead3c95b76a</td>\n",
       "      <td>SOBONKR12A58A7A7E0</td>\n",
       "      <td>1</td>\n",
       "      <td>TRAEHHJ12903CF492F</td>\n",
       "      <td>Dwight Yoakam</td>\n",
       "      <td>You're The One</td>\n",
       "    </tr>\n",
       "    <tr>\n",
       "      <th>2</th>\n",
       "      <td>c5006d9f41f68ccccbf5ee29212b6af494110c5e</td>\n",
       "      <td>SOBONKR12A58A7A7E0</td>\n",
       "      <td>1</td>\n",
       "      <td>TRAEHHJ12903CF492F</td>\n",
       "      <td>Dwight Yoakam</td>\n",
       "      <td>You're The One</td>\n",
       "    </tr>\n",
       "    <tr>\n",
       "      <th>3</th>\n",
       "      <td>e4332e11f4df6dd26673bb6b085e9a2bbdc9b8a5</td>\n",
       "      <td>SOBONKR12A58A7A7E0</td>\n",
       "      <td>2</td>\n",
       "      <td>TRAEHHJ12903CF492F</td>\n",
       "      <td>Dwight Yoakam</td>\n",
       "      <td>You're The One</td>\n",
       "    </tr>\n",
       "    <tr>\n",
       "      <th>4</th>\n",
       "      <td>baf2fe5885ab93fbbdb7fecc6691788e70afb6c8</td>\n",
       "      <td>SOBONKR12A58A7A7E0</td>\n",
       "      <td>4</td>\n",
       "      <td>TRAEHHJ12903CF492F</td>\n",
       "      <td>Dwight Yoakam</td>\n",
       "      <td>You're The One</td>\n",
       "    </tr>\n",
       "  </tbody>\n",
       "</table>\n",
       "</div>"
      ],
      "text/plain": [
       "                                    user_id             song_id  frequency  \\\n",
       "0  fd50c4007b68a3737fe052d5a4f78ce8aa117f3d  SOBONKR12A58A7A7E0          1   \n",
       "1  c34670d9c1718361feb93068a853cead3c95b76a  SOBONKR12A58A7A7E0          1   \n",
       "2  c5006d9f41f68ccccbf5ee29212b6af494110c5e  SOBONKR12A58A7A7E0          1   \n",
       "3  e4332e11f4df6dd26673bb6b085e9a2bbdc9b8a5  SOBONKR12A58A7A7E0          2   \n",
       "4  baf2fe5885ab93fbbdb7fecc6691788e70afb6c8  SOBONKR12A58A7A7E0          4   \n",
       "\n",
       "             track_id    artist_name         release  \n",
       "0  TRAEHHJ12903CF492F  Dwight Yoakam  You're The One  \n",
       "1  TRAEHHJ12903CF492F  Dwight Yoakam  You're The One  \n",
       "2  TRAEHHJ12903CF492F  Dwight Yoakam  You're The One  \n",
       "3  TRAEHHJ12903CF492F  Dwight Yoakam  You're The One  \n",
       "4  TRAEHHJ12903CF492F  Dwight Yoakam  You're The One  "
      ]
     },
     "execution_count": 29,
     "metadata": {},
     "output_type": "execute_result"
    }
   ],
   "source": [
    "df_songs.head()"
   ]
  },
  {
   "cell_type": "markdown",
   "metadata": {},
   "source": [
    "### Prepare the data"
   ]
  },
  {
   "cell_type": "markdown",
   "metadata": {},
   "source": [
    "We have explored this data before. We know that a user listens to an average of 26 songs. Let's answer one question before continuing. "
   ]
  },
  {
   "cell_type": "markdown",
   "metadata": {},
   "source": [
    "**How many users listen to the same song on average?**"
   ]
  },
  {
   "cell_type": "code",
   "execution_count": 30,
   "metadata": {},
   "outputs": [],
   "source": [
    "song_user = df_songs.groupby('song_id')['user_id'].count()"
   ]
  },
  {
   "cell_type": "code",
   "execution_count": 31,
   "metadata": {},
   "outputs": [
    {
     "name": "stderr",
     "output_type": "stream",
     "text": [
      "C:\\Users\\jakku\\anaconda3\\lib\\site-packages\\seaborn\\distributions.py:2551: FutureWarning: `distplot` is a deprecated function and will be removed in a future version. Please adapt your code to use either `displot` (a figure-level function with similar flexibility) or `histplot` (an axes-level function for histograms).\n",
      "  warnings.warn(msg, FutureWarning)\n"
     ]
    },
    {
     "data": {
      "image/png": "[encoded data removed]",
      "text/plain": [
       "<Figure size 1152x576 with 1 Axes>"
      ]
     },
     "metadata": {
      "needs_background": "light"
     },
     "output_type": "display_data"
    }
   ],
   "source": [
    "plt.figure(figsize=(16, 8))\n",
    "sns.distplot(song_user.values, color='blue')\n",
    "plt.gca().spines['top'].set_visible(False)\n",
    "plt.gca().spines['right'].set_visible(False)\n",
    "plt.show();"
   ]
  },
  {
   "cell_type": "code",
   "execution_count": 32,
   "metadata": {},
   "outputs": [
    {
     "name": "stdout",
     "output_type": "stream",
     "text": [
      "A song is listened for an average of 8.890193987966128 users, with minimum 1 and maximum 5043 users\n"
     ]
    }
   ],
   "source": [
    "print(f\"A song is listened for an average of {np.mean(song_user)} users, with minimum {np.min(song_user)} and maximum {np.max(song_user)} users\")"
   ]
  },
  {
   "cell_type": "markdown",
   "metadata": {},
   "source": [
    "So we already know that it is a very sparse matrix. Dealing with such a sparse matrix, we'll take a lot of memory and resources. To make our life easier, let's just select again all those users that have listened to at least 16 songs. Moreover, we are going to select only those songs which have been listened to by at least 200 users."
   ]
  },
  {
   "cell_type": "code",
   "execution_count": 33,
   "metadata": {},
   "outputs": [],
   "source": [
    "# Get how many songs each user have listened to\n",
    "user_counts = df_songs.groupby('user_id')['song_id'].count()\n",
    "\n",
    "# Filter users which have listen to at least 16 songs\n",
    "user_ten_id = user_counts[user_counts > 16].index.to_list()"
   ]
  },
  {
   "cell_type": "code",
   "execution_count": 34,
   "metadata": {},
   "outputs": [],
   "source": [
    "# Get how many user have listened to each song\n",
    "song_counts = df_songs.groupby('song_id')['user_id'].count()\n",
    "\n",
    "# Get songs which have been listened at least 4 times\n",
    "song_ten_id = song_counts[song_counts > 200].index.to_list()"
   ]
  },
  {
   "cell_type": "code",
   "execution_count": 35,
   "metadata": {},
   "outputs": [],
   "source": [
    "# Filtered the dataset to keep only those users with more than 16 listened\n",
    "df_song_reduced = df_songs[(df_songs['user_id'].isin(user_ten_id)) & (df_songs['song_id'].isin(song_ten_id))].reset_index(drop=True)"
   ]
  },
  {
   "cell_type": "code",
   "execution_count": 36,
   "metadata": {},
   "outputs": [
    {
     "data": {
      "text/plain": [
       "(131145, 6)"
      ]
     },
     "execution_count": 36,
     "metadata": {},
     "output_type": "execute_result"
    }
   ],
   "source": [
    "df_song_reduced.shape"
   ]
  },
  {
   "cell_type": "markdown",
   "metadata": {},
   "source": [
    "### Model and recommendations"
   ]
  },
  {
   "cell_type": "markdown",
   "metadata": {},
   "source": [
    "Matrix Factorization is a powerful way to implement a recommendation system. The idea behind it is to represent users and items in a lower-dimensional latent space. \n",
    "\n",
    "So, in other words, Matrix factorization methods decompose the original sparse user-item matrix into lower dimensionality less sparse rectangular matrices with latent features.\n",
    "\n",
    "This does not only solve the sparsity issue but also makes the method scalable. It doesn't matter how big the matrix is, you can always find lower dimensionality matrices that are a true representation of the original one."
   ]
  },
  {
   "cell_type": "markdown",
   "metadata": {},
   "source": [
    "Among the different matrix factorization techniques, we found the popular singular value decomposition (SVD).\n",
    "\n",
    "This can be an abstract concept as we deepen into the mathematical foundations. But we'll try to keep it as simple as possible.\n",
    "Imagine we have a matrix A that contains the data for n users x m songs. This matrix can be decomposed uniquely into 3 matrices; let's called them U, S, and V. \n",
    "\n",
    "In terms of our song recommender:\n",
    "\n",
    "- U is an n users x r user-latent feature matrix\n",
    "- V is an m songs x r song-latent feature matrix\n",
    "- S is an r x r non-negative diagonal matrix containing the singular values of the original matrix."
   ]
  },
  {
   "cell_type": "markdown",
   "metadata": {},
   "source": [
    "Instead of working with the implicit rating as it is, we'll apply the binning technique.  \n",
    "  \n",
    "We'll define 10 categories. The original data values which fall into the interval from 0 to 1, will be replaced by the representative rating of 1; if they fall into the interval 1 to 2, they will be replaced by 2; and so on and so forth. The last category will be assigned to original values ranging from 9 to 2213."
   ]
  },
  {
   "cell_type": "code",
   "execution_count": 37,
   "metadata": {},
   "outputs": [],
   "source": [
    "bins = [0, 1, 2, 3, 4, 5, 6, 7, 8, 9, 2214]"
   ]
  },
  {
   "cell_type": "code",
   "execution_count": 38,
   "metadata": {},
   "outputs": [],
   "source": [
    "df_song_reduced['frequency'] = pd.cut(df_song_reduced['frequency'], bins=bins, labels=[1, 2, 3, 4, 5, 6, 7, 8, 9, 10])"
   ]
  },
  {
   "cell_type": "code",
   "execution_count": 39,
   "metadata": {},
   "outputs": [],
   "source": [
    "listen_counts = pd.DataFrame(df_song_reduced.groupby('frequency').size(), columns=['count']).reset_index(drop=False)"
   ]
  },
  {
   "cell_type": "code",
   "execution_count": 40,
   "metadata": {},
   "outputs": [
    {
     "data": {
      "image/png": "[encoded data removed]",
      "text/plain": [
       "<Figure size 1152x576 with 1 Axes>"
      ]
     },
     "metadata": {
      "needs_background": "light"
     },
     "output_type": "display_data"
    }
   ],
   "source": [
    "plt.figure(figsize=(16, 8))\n",
    "sns.barplot(x='frequency', y='count', palette='Set3', data=listen_counts)\n",
    "plt.gca().spines['top'].set_visible(False)\n",
    "plt.gca().spines['right'].set_visible(False)\n",
    "plt.show();"
   ]
  },
  {
   "cell_type": "markdown",
   "metadata": {},
   "source": [
    "For this topic, we are going to use a fun package called `surprise`. Surprise is an easy-to-use Python library specially designed for recommender systems. "
   ]
  },
  {
   "cell_type": "markdown",
   "metadata": {},
   "source": [
    "To load a dataset from our DataFrame, we will use the load_from_df() method.\n",
    "\n",
    "We will need to pass the following parameters:  \n",
    "\n",
    "   - df: The dataframe containing the ratings. It must have three columns, corresponding to the user ids, the song ids, and the ratings.\n",
    "   - reader (Reader): A reader to read the file. Only the rating_scale field needs to be specified."
   ]
  },
  {
   "cell_type": "code",
   "execution_count": 41,
   "metadata": {},
   "outputs": [],
   "source": [
    "from surprise import Dataset\n",
    "from surprise import Reader\n",
    "reader = Reader(rating_scale=(1, 10))\n",
    "data = Dataset.load_from_df(df_song_reduced[['user_id', 'song_id', 'frequency']], reader)"
   ]
  },
  {
   "cell_type": "markdown",
   "metadata": {},
   "source": [
    "And as always, we split the set into training and testing."
   ]
  },
  {
   "cell_type": "code",
   "execution_count": 42,
   "metadata": {},
   "outputs": [],
   "source": [
    "trainset, testset = train_test_split(data, test_size=.25)"
   ]
  },
  {
   "cell_type": "markdown",
   "metadata": {},
   "source": [
    "We'll use the built-in function for SVD. First, a set of parameters is going to be defined to search for the best parameters for the model. \n",
    "\n",
    "The `GridSearchCV` class will compute accuracy metrics for the SVDalgorithm on the combinations of parameters selected, over a cross-validation procedure. This is useful for finding the best set of parameters for a prediction algorithm."
   ]
  },
  {
   "cell_type": "code",
   "execution_count": 43,
   "metadata": {},
   "outputs": [],
   "source": [
    "param_grid = {'n_factors': [160], \n",
    "              'n_epochs': [100], \n",
    "              'lr_all': [0.001, 0.005],\n",
    "              'reg_all': [0.08, 0.1]}"
   ]
  },
  {
   "cell_type": "code",
   "execution_count": 44,
   "metadata": {},
   "outputs": [],
   "source": [
    "grid_search_svd = GridSearchCV(SVD, param_grid, measures=['rmse'], cv=3, joblib_verbose=4, n_jobs=-2)"
   ]
  },
  {
   "cell_type": "code",
   "execution_count": 45,
   "metadata": {},
   "outputs": [
    {
     "name": "stderr",
     "output_type": "stream",
     "text": [
      "[Parallel(n_jobs=-2)]: Using backend LokyBackend with 7 concurrent workers.\n",
      "[Parallel(n_jobs=-2)]: Done   3 out of  12 | elapsed:  1.7min remaining:  5.1min\n",
      "[Parallel(n_jobs=-2)]: Done   7 out of  12 | elapsed:  1.9min remaining:  1.4min\n",
      "[Parallel(n_jobs=-2)]: Done  12 out of  12 | elapsed:  3.0min finished\n"
     ]
    },
    {
     "name": "stdout",
     "output_type": "stream",
     "text": [
      "2.5418133492174304\n",
      "{'n_factors': 160, 'n_epochs': 100, 'lr_all': 0.005, 'reg_all': 0.1}\n"
     ]
    }
   ],
   "source": [
    "# find the best parameters for the model\n",
    "grid_search_svd.fit(data)\n",
    "find_algo = grid_search_svd.best_estimator['rmse']\n",
    "print(grid_search_svd.best_score['rmse'])\n",
    "print(grid_search_svd.best_params['rmse'])"
   ]
  },
  {
   "cell_type": "code",
   "execution_count": 46,
   "metadata": {},
   "outputs": [
    {
     "name": "stdout",
     "output_type": "stream",
     "text": [
      "Evaluating RMSE of algorithm SVD on 5 split(s).\n",
      "\n",
      "                  Fold 1  Fold 2  Fold 3  Fold 4  Fold 5  Mean    Std     \n",
      "RMSE (testset)    2.5268  2.5079  2.4889  2.5394  2.5199  2.5166  0.0172  \n",
      "Fit time          50.09   49.06   52.62   52.79   53.77   51.67   1.78    \n",
      "Test time         0.19    0.19    0.22    0.30    0.24    0.23    0.04    \n"
     ]
    },
    {
     "data": {
      "text/plain": [
       "{'test_rmse': array([2.52683646, 2.50787558, 2.4889477 , 2.53938823, 2.51989694]),\n",
       " 'fit_time': (50.09441328048706,\n",
       "  49.05782341957092,\n",
       "  52.61658811569214,\n",
       "  52.786970376968384,\n",
       "  53.77216911315918),\n",
       " 'test_time': (0.19480681419372559,\n",
       "  0.19293498992919922,\n",
       "  0.22244787216186523,\n",
       "  0.30008959770202637,\n",
       "  0.23594450950622559)}"
      ]
     },
     "execution_count": 46,
     "metadata": {},
     "output_type": "execute_result"
    }
   ],
   "source": [
    "# Perform the cross validation\n",
    "cross_validate(find_algo, data, measures=['RMSE'], cv=5, verbose=True)"
   ]
  },
  {
   "cell_type": "markdown",
   "metadata": {},
   "source": [
    "After finding the best parameters for the model, we create our final model, train it and find the error for the test set."
   ]
  },
  {
   "cell_type": "code",
   "execution_count": 47,
   "metadata": {},
   "outputs": [
    {
     "name": "stdout",
     "output_type": "stream",
     "text": [
      "RMSE: 2.5285\n",
      "The RMSE is 2.5284630828004357\n"
     ]
    }
   ],
   "source": [
    "final_algorithm = SVD(n_factors=160, n_epochs=100, lr_all=0.005, reg_all=0.1)\n",
    "final_algorithm.fit(trainset)\n",
    "test_predictions = final_algorithm.test(testset)\n",
    "print(f\"The RMSE is {accuracy.rmse(test_predictions, verbose=True)}\")"
   ]
  },
  {
   "cell_type": "code",
   "execution_count": null,
   "metadata": {},
   "outputs": [],
   "source": []
  }
 ],
 "metadata": {
  "kernelspec": {
   "display_name": "Python 3",
   "language": "python",
   "name": "python3"
  },
  "language_info": {
   "codemirror_mode": {
    "name": "ipython",
    "version": 3
   },
   "file_extension": ".py",
   "mimetype": "text/x-python",
   "name": "python",
   "nbconvert_exporter": "python",
   "pygments_lexer": "ipython3",
   "version": "3.8.8"
  }
 },
 "nbformat": 4,
 "nbformat_minor": 4
}
